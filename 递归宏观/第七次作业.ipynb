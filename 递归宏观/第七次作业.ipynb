{
 "cells": [
  {
   "cell_type": "markdown",
   "id": "54e1cc26",
   "metadata": {},
   "source": [
    "# HW7 2021300003004 张天骏"
   ]
  },
  {
   "cell_type": "markdown",
   "id": "5d150371",
   "metadata": {},
   "source": [
    "## 第一问"
   ]
  },
  {
   "cell_type": "markdown",
   "id": "638f2b2c",
   "metadata": {},
   "source": [
    "将约束条件带入优化问题得到：$$ v(a)=\\underset{a' }{ \\max } [\\ln (c)+\\beta v(a')]  $$"
   ]
  },
  {
   "cell_type": "markdown",
   "id": "a63916f8",
   "metadata": {},
   "source": [
    "## 第二问"
   ]
  },
  {
   "cell_type": "code",
   "execution_count": 17,
   "id": "aaae3eea",
   "metadata": {},
   "outputs": [],
   "source": [
    "import timeit\n",
    "import numpy as np\n",
    "import matplotlib.pyplot as plt"
   ]
  },
  {
   "cell_type": "markdown",
   "id": "dcfd1ce7",
   "metadata": {},
   "source": [
    "### a"
   ]
  },
  {
   "cell_type": "code",
   "execution_count": 18,
   "id": "b86c873e",
   "metadata": {},
   "outputs": [],
   "source": [
    "beta = 0.95\n",
    "w=1\n",
    "r=0.03\n",
    "kmin = 0\n",
    "kmax = 5\n",
    "n = 500\n",
    "kgrid = np.linspace(kmin, kmax, n)"
   ]
  },
  {
   "cell_type": "code",
   "execution_count": 19,
   "id": "ce0413ca",
   "metadata": {},
   "outputs": [],
   "source": [
    "def u(c):\n",
    "    if c > 0:\n",
    "        res = np.log(c)\n",
    "    else:\n",
    "        res = -np.inf\n",
    "    return res\n",
    "\n",
    "\n",
    "def budget(k, c): #唯一需要更改的内容\n",
    "    return w + (1+r)*k - c\n",
    "\n",
    "\n",
    "def V_current(k, k_next, V_next):\n",
    "    c = budget(k, k_next)\n",
    "    res = u(c) + beta * V_next\n",
    "    return res\n",
    "\n",
    "\n",
    "def V_max(k_index, k_start, V):\n",
    "    k = kgrid[k_index]\n",
    "    k_bound = budget(k, 0)  # keep non-zero consumption\n",
    "    V_max = -np.inf  # initialize maximum value\n",
    "    g_k=0\n",
    "    # loop over possible k_next\n",
    "    for j in range(k_start, n):\n",
    "        k_next = kgrid[j]\n",
    "        V_next = V[j]\n",
    "        if k_next < k_bound:  # check feasibility with\n",
    "            V_new = V_current(k, k_next, V_next)\n",
    "            if V_new > V_max:\n",
    "                V_max = V_new\n",
    "                k_start = j\n",
    "                g_k = k_next\n",
    "            else:\n",
    "                break\n",
    "    return V_max, g_k, k_start\n",
    "\n",
    "\n",
    "def V_update(V):\n",
    "    # initialize updated value function and policy function\n",
    "    V_new = np.zeros(n)\n",
    "    g_new = np.zeros(n)\n",
    "    k_start = 0\n",
    "    # loop over grid points\n",
    "    for i in range(n):\n",
    "        V_new[i], g_new[i], k_start = V_max(i, k_start, V)\n",
    "    return V_new, g_new\n",
    "\n",
    "\n",
    "def V_iteration(V_initial):\n",
    "    V = V_initial\n",
    "    error = np.inf\n",
    "    count = 0\n",
    "    max_iter = 1000\n",
    "    tol = 1e-6\n",
    "\n",
    "    while count < max_iter and error > tol:\n",
    "        V_new, g_new = V_update(V)\n",
    "        error = np.nanmax(np.abs(V_new - V))\n",
    "        V = V_new\n",
    "        count = count + 1\n",
    "\n",
    "    if error > tol:\n",
    "        print(\"Failed to converge!\")\n",
    "    else:\n",
    "        print(f\"\\nConverged in {count} iterations.\")\n",
    "    return V_new, g_new"
   ]
  },
  {
   "cell_type": "code",
   "execution_count": 20,
   "id": "c19052f3",
   "metadata": {},
   "outputs": [
    {
     "name": "stdout",
     "output_type": "stream",
     "text": [
      "\n",
      "Converged in 23 iterations.\n",
      "The time difference is : 0.09196700000001101\n"
     ]
    }
   ],
   "source": [
    "V0 = np.zeros(n)\n",
    "start_time = timeit.default_timer()\n",
    "V, g = V_iteration(V0)\n",
    "print(\"The time difference is :\", timeit.default_timer() - start_time)"
   ]
  },
  {
   "cell_type": "code",
   "execution_count": 21,
   "id": "66cb70e8",
   "metadata": {},
   "outputs": [
    {
     "data": {
      "text/plain": [
       "<matplotlib.legend.Legend at 0x236b527b0d0>"
      ]
     },
     "execution_count": 21,
     "metadata": {},
     "output_type": "execute_result"
    },
    {
     "data": {
      "image/png": "[encoded data removed]",
      "text/plain": [
       "<Figure size 432x288 with 1 Axes>"
      ]
     },
     "metadata": {
      "needs_background": "light"
     },
     "output_type": "display_data"
    }
   ],
   "source": [
    "plt.plot(kgrid,kgrid,label='45 degree',color='blue')\n",
    "plt.plot(kgrid,g,label='policy function',color='red')\n",
    "plt.xlabel('$a_t$')\n",
    "plt.ylabel('$a_{t+1}$')\n",
    "plt.title('policy function')\n",
    "plt.legend()"
   ]
  },
  {
   "cell_type": "markdown",
   "id": "b365b498",
   "metadata": {},
   "source": [
    "### b"
   ]
  },
  {
   "cell_type": "code",
   "execution_count": 22,
   "id": "12cc8f53",
   "metadata": {
    "scrolled": false
   },
   "outputs": [
    {
     "name": "stdout",
     "output_type": "stream",
     "text": [
      "\n",
      "Converged in 23 iterations.\n",
      "\n",
      "Converged in 200 iterations.\n",
      "\n",
      "Converged in 232 iterations.\n"
     ]
    },
    {
     "data": {
      "image/png": "[encoded data removed]",
      "text/plain": [
       "<Figure size 432x288 with 3 Axes>"
      ]
     },
     "metadata": {
      "needs_background": "light"
     },
     "output_type": "display_data"
    }
   ],
   "source": [
    "r0=[0.03, 0.052631, 0.07]\n",
    "# 0.052631=(1/beta)-1 iff c_{t+1}/c_{t}=1  Euler Equation\n",
    "plt.subplots(1,3)\n",
    "for i in range(3):\n",
    "    beta = 0.95\n",
    "    w=1\n",
    "    r=r0[i]\n",
    "    kmin = 0\n",
    "    kmax = 5\n",
    "    n = 500\n",
    "    kgrid = np.linspace(kmin, kmax, n)\n",
    "    V0 = np.zeros(n)\n",
    "    V, g = V_iteration(V0)\n",
    "    plt.subplot(1,3,i+1)\n",
    "    plt.plot(kgrid,kgrid,color='blue')\n",
    "    plt.plot(kgrid,g,color='red')\n",
    "    plt.xlabel('$a_t$')\n",
    "    plt.ylabel('$a_{t+1}$')\n",
    "    plt.title('r='+ str(r0[i]))"
   ]
  },
  {
   "cell_type": "markdown",
   "id": "380a692a",
   "metadata": {},
   "source": [
    "以上三个图像中的红色线展示了储蓄对策函数在不同利率条件下的图像，可以发现$r=0.52631$时，对策曲线和45度线重合，可以推断此时任何储蓄决策都是稳定的；$r=0.03$时，对策曲线在45度线下面，可以推断此时任何储蓄决策最终都会收敛到0，即不储蓄；$r=0.07$时，对策曲线在45度线上面，可以推断此时任何储蓄决策最终都会收敛到5，即尽可能多的储蓄。这反映出个人在储蓄决策中面对的未来消费增加和本期消费减少之间的权衡。\n"
   ]
  },
  {
   "cell_type": "markdown",
   "id": "6a7b13cd",
   "metadata": {},
   "source": [
    "### c"
   ]
  },
  {
   "cell_type": "code",
   "execution_count": 23,
   "id": "c73f5ad2",
   "metadata": {
    "scrolled": true
   },
   "outputs": [
    {
     "name": "stdout",
     "output_type": "stream",
     "text": [
      "\n",
      "Converged in 23 iterations.\n",
      "\n",
      "Converged in 235 iterations.\n",
      "\n",
      "Converged in 3 iterations.\n"
     ]
    },
    {
     "name": "stderr",
     "output_type": "stream",
     "text": [
      "C:\\Users\\90448\\AppData\\Local\\Temp\\ipykernel_17648\\830409633.py:59: RuntimeWarning: invalid value encountered in subtract\n",
      "  error = np.nanmax(np.abs(V_new - V))\n",
      "C:\\Users\\90448\\AppData\\Local\\Temp\\ipykernel_17648\\830409633.py:59: RuntimeWarning: All-NaN slice encountered\n",
      "  error = np.nanmax(np.abs(V_new - V))\n"
     ]
    },
    {
     "data": {
      "image/png": "[encoded data removed]",
      "text/plain": [
       "<Figure size 432x288 with 3 Axes>"
      ]
     },
     "metadata": {
      "needs_background": "light"
     },
     "output_type": "display_data"
    }
   ],
   "source": [
    "a0=np.array([[0,5],[-5,5],[-35,5]])\n",
    "plt.subplots(1,3)\n",
    "for i in range(3):\n",
    "    beta = 0.95\n",
    "    w=1\n",
    "    r=0.03\n",
    "    kmin = a0[i,0]\n",
    "    kmax = a0[1,1]\n",
    "    n = 500\n",
    "    kgrid = np.linspace(kmin, kmax, n)\n",
    "    V0 = np.zeros(n)\n",
    "    V, g = V_iteration(V0)\n",
    "    plt.subplot(1,3,i+1)\n",
    "    plt.plot(kgrid,kgrid,color='blue')\n",
    "    plt.plot(kgrid,g,color='red')\n",
    "    plt.xlabel('$a_t$')\n",
    "    plt.ylabel('$a_{t+1}$')\n",
    "    plt.title(str(a0[i,0])+'<'+'a'+'<'+str(a0[i,1]))\n",
    "    \n"
   ]
  },
  {
   "cell_type": "markdown",
   "id": "03af5260",
   "metadata": {},
   "source": [
    "当$-35<a<5$时，由于自然债务下限$=-w/r=-100/3$，可行域超出下限，使得求解无意义。所以我在$V_{max}$函数添加了一个约束，要求$k$不小于自然债务下限："
   ]
  },
  {
   "cell_type": "code",
   "execution_count": 24,
   "id": "b8d28ecf",
   "metadata": {},
   "outputs": [
    {
     "name": "stderr",
     "output_type": "stream",
     "text": [
      "C:\\Users\\90448\\AppData\\Local\\Temp\\ipykernel_17648\\3116879289.py:42: RuntimeWarning: invalid value encountered in subtract\n",
      "  error = np.nanmax(np.abs(V_new - V))\n"
     ]
    },
    {
     "name": "stdout",
     "output_type": "stream",
     "text": [
      "\n",
      "Converged in 310 iterations.\n"
     ]
    },
    {
     "data": {
      "text/plain": [
       "Text(0.5, 1.0, '-35<a<5')"
      ]
     },
     "execution_count": 24,
     "metadata": {},
     "output_type": "execute_result"
    },
    {
     "data": {
      "image/png": "[encoded data removed]",
      "text/plain": [
       "<Figure size 432x288 with 1 Axes>"
      ]
     },
     "metadata": {
      "needs_background": "light"
     },
     "output_type": "display_data"
    }
   ],
   "source": [
    "def V_max1(k_index, k_start, V):\n",
    "    k = kgrid[k_index]\n",
    "    k_bound = budget(k, 0)  # keep non-zero consumption\n",
    "    V_max = -np.inf  # initialize maximum value\n",
    "    # loop over possible k_next\n",
    "    g_k = 0\n",
    "    for j in range(k_start, n):\n",
    "        k_next = kgrid[j]\n",
    "        V_next = V[j]\n",
    "        if k_next < k_bound and k_next >= -w/r:  # check feasibility with natural loan limit\n",
    "            V_new = V_current(k, k_next, V_next)\n",
    "            if V_new > V_max:\n",
    "                V_max = V_new\n",
    "                k_start = j\n",
    "                g_k = k_next\n",
    "            else:\n",
    "                break\n",
    "        else:g_k=-w/r\n",
    "    return V_max, g_k, k_start\n",
    "\n",
    "\n",
    "def V_update1(V):\n",
    "    # initialize updated value function and policy function\n",
    "    V_new = np.zeros(n)\n",
    "    g_new = np.zeros(n)\n",
    "    k_start = 0\n",
    "    # loop over grid points\n",
    "    for i in range(n):\n",
    "        V_new[i], g_new[i], k_start = V_max1(i, k_start, V)\n",
    "    return V_new, g_new\n",
    "\n",
    "\n",
    "def V_iteration1(V_initial):\n",
    "    V = V_initial\n",
    "    error = np.inf\n",
    "    count = 0\n",
    "    max_iter = 1000\n",
    "    tol = 1e-6\n",
    "\n",
    "    while count < max_iter and error > tol:\n",
    "        V_new, g_new = V_update1(V)\n",
    "        error = np.nanmax(np.abs(V_new - V))\n",
    "        V = V_new\n",
    "        count = count + 1\n",
    "\n",
    "    if error > tol:\n",
    "        print(\"Failed to converge!\")\n",
    "    else:\n",
    "        print(f\"\\nConverged in {count} iterations.\")\n",
    "    return V_new, g_new\n",
    "\n",
    "beta = 0.95\n",
    "w=1\n",
    "r=0.03\n",
    "kmin =-35\n",
    "kmax = 5\n",
    "n = 500\n",
    "kgrid = np.linspace(kmin, kmax, n)\n",
    "V0 = np.zeros(n)\n",
    "V, g = V_iteration1(V0)\n",
    "plt.plot(kgrid,kgrid,color='blue')\n",
    "plt.plot(kgrid,g,color='red')\n",
    "plt.xlabel('$a_t$')\n",
    "plt.ylabel('$a_{t+1}$')\n",
    "plt.title('-35<a<5')"
   ]
  },
  {
   "cell_type": "markdown",
   "id": "31b0dcff",
   "metadata": {},
   "source": [
    "### d"
   ]
  },
  {
   "cell_type": "markdown",
   "id": "7863abd1",
   "metadata": {},
   "source": [
    "此时由于借贷的利率不同，约束条件取决于$a_t$的正负。所以我基于此修改$\\mathrm{budget}$函数适应这一条件："
   ]
  },
  {
   "cell_type": "code",
   "execution_count": 25,
   "id": "a4021c3f",
   "metadata": {},
   "outputs": [
    {
     "name": "stdout",
     "output_type": "stream",
     "text": [
      "\n",
      "Converged in 238 iterations.\n",
      "The time difference is : 1.292125800000008\n"
     ]
    }
   ],
   "source": [
    "import timeit\n",
    "import numpy as np\n",
    "import matplotlib.pyplot as plt\n",
    "\n",
    "beta = 0.95\n",
    "w=1\n",
    "r_saving=0.03\n",
    "r_borrowing=0.1\n",
    "kmin = -5\n",
    "kmax = 5\n",
    "n = 500\n",
    "kgrid = np.linspace(kmin, kmax, n)\n",
    "\n",
    "def u(c):\n",
    "    if c > 0:\n",
    "        res = np.log(c)\n",
    "    else:\n",
    "        res = -np.inf\n",
    "    return res\n",
    "\n",
    "\n",
    "def budget(k, c):\n",
    "    if k>0:\n",
    "        return w + (1+r_saving)*k - c\n",
    "    else:\n",
    "        return w + (1+r_borrowing)*k - c\n",
    "\n",
    "def V_current(k, k_next, V_next):\n",
    "    c = budget(k, k_next)\n",
    "    res = u(c) + beta * V_next\n",
    "    return res\n",
    "\n",
    "\n",
    "def V_max(k_index, k_start, V):\n",
    "    k = kgrid[k_index]\n",
    "    k_bound = budget(k, 0)  # keep non-zero consumption\n",
    "    V_max = -np.inf  # initialize maximum value\n",
    "    # loop over possible k_next\n",
    "    for j in range(k_start, n):\n",
    "        k_next = kgrid[j]\n",
    "        V_next = V[j]\n",
    "        if k_next < k_bound:  # check feasibility\n",
    "            V_new = V_current(k, k_next, V_next)\n",
    "            if V_new > V_max:\n",
    "                V_max = V_new\n",
    "                g_k = k_next\n",
    "                k_start = j\n",
    "            else:\n",
    "                break\n",
    "    return V_max, g_k, k_start\n",
    "\n",
    "\n",
    "def V_update(V):\n",
    "    # initialize updated value function and policy function\n",
    "    V_new = np.zeros(n)\n",
    "    g_new = np.zeros(n)\n",
    "    k_start = 0\n",
    "    # loop over grid points\n",
    "    for i in range(n):\n",
    "        V_new[i], g_new[i], k_start = V_max(i, k_start, V)\n",
    "    return V_new, g_new\n",
    "\n",
    "\n",
    "def V_iteration(V_initial):\n",
    "    V = V_initial\n",
    "    error = np.inf\n",
    "    count = 0\n",
    "    max_iter = 1000\n",
    "    tol = 1e-6\n",
    "\n",
    "    while count < max_iter and error > tol:\n",
    "        V_new, g_new = V_update(V)\n",
    "        error = np.nanmax(np.abs(V_new - V))\n",
    "        V = V_new\n",
    "        count = count + 1\n",
    "\n",
    "    if error > tol:\n",
    "        print(\"Failed to converge!\")\n",
    "    else:\n",
    "        print(f\"\\nConverged in {count} iterations.\")\n",
    "    return V_new, g_new\n",
    "\n",
    "V0 = np.zeros(n)\n",
    "start_time = timeit.default_timer()\n",
    "V, g = V_iteration(V0)\n",
    "print(\"The time difference is :\", timeit.default_timer() - start_time)"
   ]
  },
  {
   "cell_type": "code",
   "execution_count": 26,
   "id": "c0904820",
   "metadata": {},
   "outputs": [
    {
     "data": {
      "text/plain": [
       "<matplotlib.legend.Legend at 0x236b670cf10>"
      ]
     },
     "execution_count": 26,
     "metadata": {},
     "output_type": "execute_result"
    },
    {
     "data": {
      "image/png": "[encoded data removed]",
      "text/plain": [
       "<Figure size 432x288 with 1 Axes>"
      ]
     },
     "metadata": {
      "needs_background": "light"
     },
     "output_type": "display_data"
    }
   ],
   "source": [
    "plt.plot(kgrid,kgrid,label='45 degree',color='blue')\n",
    "plt.plot(kgrid,g,label='policy function',color='red')\n",
    "plt.xlabel('$a_t$')\n",
    "plt.ylabel('$a_{t+1}$')\n",
    "plt.title('saving & borrowing')\n",
    "plt.legend()"
   ]
  },
  {
   "cell_type": "markdown",
   "id": "8fb683be",
   "metadata": {},
   "source": [
    "此时，当$a>0$时，和(c)中第一张图的情况一样，任何储蓄决策都会减少自己的储蓄，收敛到0，即不储蓄；当$a<0$时，由于较高的利率，和(c)中第三张图的情况类似，任何借贷决策都会减少自己的借贷，收敛到0，即不借贷。所以，$a=0$是一个稳定的稳态"
   ]
  },
  {
   "cell_type": "markdown",
   "id": "3f26f3c5",
   "metadata": {},
   "source": [
    "### e"
   ]
  },
  {
   "cell_type": "code",
   "execution_count": 27,
   "id": "0479fd45",
   "metadata": {},
   "outputs": [
    {
     "name": "stdout",
     "output_type": "stream",
     "text": [
      "\n",
      "Converged in 312 iterations.\n"
     ]
    },
    {
     "data": {
      "text/plain": [
       "Text(0.5, 1.0, '1e-2<a<5')"
      ]
     },
     "execution_count": 27,
     "metadata": {},
     "output_type": "execute_result"
    },
    {
     "data": {
      "image/png": "[encoded data removed]",
      "text/plain": [
       "<Figure size 432x288 with 1 Axes>"
      ]
     },
     "metadata": {
      "needs_background": "light"
     },
     "output_type": "display_data"
    }
   ],
   "source": [
    "beta=0.95\n",
    "w=0\n",
    "r=0\n",
    "kmin = 1e-2\n",
    "kmax = 5\n",
    "n = 500\n",
    "kgrid = np.linspace(kmin, kmax, n)\n",
    "V0 = np.zeros(n)\n",
    "V, g = V_iteration(V0)\n",
    "plt.plot(kgrid,kgrid,label='45 degree',color='blue')\n",
    "plt.plot(kgrid,g,label='policy function',color='red')\n",
    "plt.xlabel('$a_t$')\n",
    "plt.ylabel('$a_{t+1}$')\n",
    "plt.legend()\n",
    "plt.title('1e-2<a<5')"
   ]
  }
 ],
 "metadata": {
  "kernelspec": {
   "display_name": "Python 3 (ipykernel)",
   "language": "python",
   "name": "python3"
  },
  "language_info": {
   "codemirror_mode": {
    "name": "ipython",
    "version": 3
   },
   "file_extension": ".py",
   "mimetype": "text/x-python",
   "name": "python",
   "nbconvert_exporter": "python",
   "pygments_lexer": "ipython3",
   "version": "3.9.12"
  }
 },
 "nbformat": 4,
 "nbformat_minor": 5
}
