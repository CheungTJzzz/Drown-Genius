{
 "cells": [
  {
   "cell_type": "markdown",
   "id": "7c6ec6fd",
   "metadata": {},
   "source": [
    "# HW8 2021300003004 张天骏"
   ]
  },
  {
   "cell_type": "markdown",
   "id": "7602f630",
   "metadata": {},
   "source": [
    "## 1(a)"
   ]
  },
  {
   "cell_type": "code",
   "execution_count": 128,
   "id": "8578af6b",
   "metadata": {},
   "outputs": [],
   "source": [
    "import timeit\n",
    "import numpy as np\n",
    "from numba import njit\n",
    "import numba\n",
    "import matplotlib.pyplot as plt\n"
   ]
  },
  {
   "cell_type": "code",
   "execution_count": 129,
   "id": "c1876222",
   "metadata": {},
   "outputs": [],
   "source": [
    "beta = 0.95\n",
    "r=0.05\n",
    "kmin = -1.9\n",
    "kmax = 15\n",
    "n_k = 2500\n",
    "kgrid = np.linspace(kmin, kmax, n_k)\n",
    "wgrid = np.array([0.1,1])\n",
    "P=np.array([\n",
    "    [0.6,0.4],\n",
    "    [0.05,0.95],\n",
    "])\n",
    "n_w = len(wgrid)\n",
    "V0 = np.zeros((n_k, n_w))"
   ]
  },
  {
   "cell_type": "code",
   "execution_count": 130,
   "id": "fe509415",
   "metadata": {},
   "outputs": [],
   "source": [
    "def u(c):\n",
    "    if c > 0:\n",
    "        res = np.log(c)\n",
    "    else:\n",
    "        res = -np.inf\n",
    "    return res\n",
    "if compile:\n",
    "    u = njit(u)\n",
    "\n",
    "def budget(k_next_index, k_index, w_index,r): \n",
    "        return (1+r)*kgrid[k_index] + wgrid[w_index] - kgrid[k_next_index]\n",
    "if compile:\n",
    "    budget = njit(budget)\n",
    "\n",
    "def V_current(k_next_index, k_index, w_index, V_next,r):\n",
    "    c = budget(k_next_index, k_index, w_index,r)\n",
    "    EV = np.sum(P[w_index,:]*V_next[k_next_index,:]) # expectation\n",
    "    res = u(c) + beta * EV\n",
    "    return res\n",
    "if compile:\n",
    "    V_current = njit(V_current)"
   ]
  },
  {
   "cell_type": "code",
   "execution_count": 131,
   "id": "50316015",
   "metadata": {},
   "outputs": [],
   "source": [
    "def V_max(k_index, w_index,k_start,V,r):\n",
    "    V_max = -np.inf\n",
    "    for j in range(k_start,n_k):\n",
    "        k_next = kgrid[j]\n",
    "        V_new=V_current(j,k_index,w_index,V,r)\n",
    "        if V_new > V_max:\n",
    "            V_max = V_new\n",
    "            g_k = k_next\n",
    "            k_start = j\n",
    "        else:break\n",
    "    return V_max, g_k, k_start\n",
    "\n",
    "if compile:\n",
    "    V_max = njit(V_max)"
   ]
  },
  {
   "cell_type": "code",
   "execution_count": 132,
   "id": "533cd507",
   "metadata": {},
   "outputs": [],
   "source": [
    "def V_update(V,r):\n",
    "    V_new = np.zeros((n_k, n_w))\n",
    "    g_new = np.zeros((n_k, n_w))\n",
    "    for i_w in range(n_w): # loop over all state w\n",
    "        k_start = 0\n",
    "        for i_k in range(k_start,n_k): # loop over all state k\n",
    "            V_new[i_k, i_w], g_new[i_k, i_w] ,k_start= V_max(i_k, i_w,k_start,V,r)\n",
    "    return V_new, g_new\n",
    "if compile:\n",
    "    V_update = njit(V_update, parallel=False)\n",
    "    \n",
    "def V_iteration(V_initial,tol,r):\n",
    "    V = V_initial\n",
    "    error = np.inf\n",
    "    count = 0\n",
    "    max_iter = 1000\n",
    "    print_skip = 50\n",
    "    while count < max_iter and error > tol:\n",
    "        V_new, g_new = V_update(V,r)\n",
    "        error = np.max(np.abs(V_new - V))\n",
    "        V = V_new\n",
    "        count = count + 1\n",
    "        if count % print_skip == 0:\n",
    "            print(f\"Error at iteration {count} is {error}.\")\n",
    "    if error > tol:\n",
    "        print(\"Failed to converge!\")\n",
    "    else:\n",
    "        print(f\"\\nConverged in {count} iterations.\")\n",
    "    return V_new, g_new\n"
   ]
  },
  {
   "cell_type": "code",
   "execution_count": 134,
   "id": "6dc4e8f9",
   "metadata": {},
   "outputs": [
    {
     "name": "stdout",
     "output_type": "stream",
     "text": [
      "Error at iteration 50 is 0.017147595909250413.\n",
      "Error at iteration 100 is 0.0011800090827662757.\n",
      "Error at iteration 150 is 8.685890781023886e-05.\n",
      "Error at iteration 200 is 6.54245065945247e-06.\n",
      "Error at iteration 250 is 4.97955817024831e-07.\n",
      "\n",
      "Converged in 282 iterations.\n",
      "The time difference is : 1.1053968000001078\n"
     ]
    }
   ],
   "source": [
    "start_time = timeit.default_timer()\n",
    "V, g = V_iteration(V0,tol=1e-7,r=r)\n",
    "print(\"The time difference is :\", timeit.default_timer() - start_time)"
   ]
  },
  {
   "cell_type": "code",
   "execution_count": 135,
   "id": "690fe710",
   "metadata": {},
   "outputs": [
    {
     "data": {
      "image/png": "[encoded data removed]",
      "text/plain": [
       "<Figure size 432x288 with 1 Axes>"
      ]
     },
     "metadata": {
      "needs_background": "light"
     },
     "output_type": "display_data"
    }
   ],
   "source": [
    "for i in range (2):\n",
    "    plt.plot(kgrid,g[:,i], '-',label='w='+ str(wgrid[i]))\n",
    "plt.plot([kmin, kmax], [kmin, kmax], color='black', linestyle='--', label='45 degree line')\n",
    "plt.grid()\n",
    "plt.xlabel('$a_t$')\n",
    "plt.ylabel('$a_{t+1}$')\n",
    "plt.legend()\n",
    "plt.title('Policy Function')\n",
    "plt.show()"
   ]
  },
  {
   "cell_type": "markdown",
   "id": "fe7ed622",
   "metadata": {},
   "source": [
    "## 1(b)"
   ]
  },
  {
   "cell_type": "code",
   "execution_count": 112,
   "id": "eb871072",
   "metadata": {},
   "outputs": [],
   "source": [
    "def transQ(g):\n",
    "    n_k, n_w = g.shape\n",
    "    n = n_k * n_w\n",
    "    Q = np.zeros((n, n))\n",
    "    for j in numba.prange(n):\n",
    "        i_k = j // n_w\n",
    "        i_w = j % n_w\n",
    "        diff = np.abs(g[i_k, i_w] - kgrid)\n",
    "        mark = np.argmin(diff)\n",
    "        j_prime_start = mark * n_w\n",
    "        j_prime_end = j_prime_start + n_w\n",
    "        Q[j, j_prime_start:j_prime_end] = P[i_w, :]\n",
    "    return Q\n",
    "\n",
    "Q=transQ(g)"
   ]
  },
  {
   "cell_type": "code",
   "execution_count": 127,
   "id": "397c04ab",
   "metadata": {},
   "outputs": [
    {
     "data": {
      "text/plain": [
       "Text(0.5, 1.0, 'marginal distribution of k')"
      ]
     },
     "execution_count": 127,
     "metadata": {},
     "output_type": "execute_result"
    },
    {
     "data": {
      "image/png": "[encoded data removed]",
      "text/plain": [
       "<Figure size 432x288 with 1 Axes>"
      ]
     },
     "metadata": {
      "needs_background": "light"
     },
     "output_type": "display_data"
    }
   ],
   "source": [
    "from scipy.sparse.linalg import eigs\n",
    "k = 1 # 调整为所需的特征值数量\n",
    "eigenvalues, eigenvectors = eigs(Q.T, k=k, which='LM')  # 'LM'表示计算最大模特征值\n",
    "\n",
    "index = np.argmin(np.abs(np.abs(eigenvalues)-1.0))\n",
    "stationary_vector = np.real(eigenvectors[:, index])\n",
    "stationary_distribution = stationary_vector / np.sum(stationary_vector)\n",
    "\n",
    "def capital_marginal(joint_dist):\n",
    "    tmp = joint_dist.reshape((n_k, n_w))\n",
    "    k_marginal = tmp.sum(axis=1)\n",
    "    return k_marginal\n",
    "\n",
    "k_marginal=capital_marginal(stationary_vector)\n",
    "\n",
    "plt.plot(kgrid,abs(k_marginal))\n",
    "plt.xlabel(\"k\")\n",
    "plt.ylabel(\"density\")\n",
    "plt.title('marginal distribution of k')"
   ]
  },
  {
   "cell_type": "code",
   "execution_count": null,
   "id": "44bd71e3",
   "metadata": {},
   "outputs": [],
   "source": []
  },
  {
   "cell_type": "markdown",
   "id": "cce1e3af",
   "metadata": {},
   "source": [
    "## 2"
   ]
  },
  {
   "cell_type": "markdown",
   "id": "60e2410d",
   "metadata": {},
   "source": [
    "参照hint的思路，我将1里面的函数添加参数“利率”，从而方便接下来的函数编程。\n",
    "\n",
    "我将1中的代码集成到函数“r_update”中，根据提目的条件更新$r_0$，然后利用上面的迭代函数逼近均衡利率。\n",
    "\n",
    "最终得到$r_{Equilibrium}=0.0026315789473684184$"
   ]
  },
  {
   "cell_type": "code",
   "execution_count": 179,
   "id": "68878226",
   "metadata": {},
   "outputs": [],
   "source": [
    "rmin=0\n",
    "rmax=(1/beta)-1\n",
    "r0=0.05*(rmin+rmax)"
   ]
  },
  {
   "cell_type": "code",
   "execution_count": 180,
   "id": "1a8e21e9",
   "metadata": {},
   "outputs": [],
   "source": [
    "def r_update(r):\n",
    "    # 最优化\n",
    "    V, g = V_iteration(V0,tol=1e-7,r=r0)\n",
    "    Q0=transQ(g)\n",
    "    # 求特征值\n",
    "    from scipy.sparse.linalg import eigs\n",
    "    k = 1 # 调整为所需的特征值数量\n",
    "    eigenvalues, eigenvectors = eigs(Q0.T, k=k, which='LM')  # 'LM'表示计算最大模特征值\n",
    "    index = np.argmin(np.abs(np.abs(eigenvalues)-1.0))\n",
    "    stationary_vector = np.real(eigenvectors[:, index])\n",
    "    stationary_distribution = stationary_vector / np.sum(stationary_vector)\n",
    "    stationary_distribution =stationary_vector.reshape((n_k, n_w))\n",
    "    # 算Phi\n",
    "    Phi = np.sum(stationary_distribution[:,0]*g[:,0])+ np.sum(stationary_distribution[:,1]*g[:,1])\n",
    "    if Phi >= 0 :\n",
    "        rmax=r0\n",
    "    else:\n",
    "        rmin=r0\n",
    "    return r0"
   ]
  },
  {
   "cell_type": "code",
   "execution_count": 182,
   "id": "cd784eed",
   "metadata": {},
   "outputs": [],
   "source": [
    "def r_iteration(r_initial,tol):\n",
    "    r = r_initial\n",
    "    error = np.inf\n",
    "    count = 0\n",
    "    max_iter = 1000\n",
    "    print_skip = 50\n",
    "    while count < max_iter and error > tol:\n",
    "        r_new = r_update(r)\n",
    "        error = np.max(np.abs(r_new - r))\n",
    "        r = r_new\n",
    "        count = count + 1\n",
    "        if count % print_skip == 0:\n",
    "            print(f\"Error at iteration {count} is {error}.\")\n",
    "    if error > tol:\n",
    "        print(\"Failed to converge!\")\n",
    "    else:\n",
    "        print(f\"\\nConverged in {count} iterations.\")\n",
    "    return r_new"
   ]
  },
  {
   "cell_type": "code",
   "execution_count": 194,
   "id": "dd768b8f",
   "metadata": {},
   "outputs": [
    {
     "name": "stdout",
     "output_type": "stream",
     "text": [
      "Error at iteration 50 is 0.016787167660273106.\n",
      "Error at iteration 100 is 0.0012916864689067609.\n",
      "Error at iteration 150 is 9.938878341708701e-05.\n",
      "Error at iteration 200 is 7.647467484162007e-06.\n",
      "Error at iteration 250 is 5.884341991446718e-07.\n",
      "\n",
      "Converged in 285 iterations.\n",
      "\n",
      "Converged in 1 iterations.\n",
      "The time difference is : 2.7688788999998906\n"
     ]
    },
    {
     "data": {
      "text/latex": [
       "$r_{Equilibrium}=$0.0026315789473684184"
      ],
      "text/plain": [
       "<IPython.core.display.Latex object>"
      ]
     },
     "execution_count": 194,
     "metadata": {},
     "output_type": "execute_result"
    }
   ],
   "source": [
    "start_time = timeit.default_timer()\n",
    "r_eq = r_iteration(r_initial=r0,tol=1e-6)\n",
    "print(\"The time difference is :\", timeit.default_timer() - start_time)\n",
    "from IPython.display import Latex\n",
    "Latex('$r_{Equilibrium}=$'+str(r_eq))"
   ]
  }
 ],
 "metadata": {
  "kernelspec": {
   "display_name": "Python 3 (ipykernel)",
   "language": "python",
   "name": "python3"
  },
  "language_info": {
   "codemirror_mode": {
    "name": "ipython",
    "version": 3
   },
   "file_extension": ".py",
   "mimetype": "text/x-python",
   "name": "python",
   "nbconvert_exporter": "python",
   "pygments_lexer": "ipython3",
   "version": "3.9.12"
  }
 },
 "nbformat": 4,
 "nbformat_minor": 5
}
