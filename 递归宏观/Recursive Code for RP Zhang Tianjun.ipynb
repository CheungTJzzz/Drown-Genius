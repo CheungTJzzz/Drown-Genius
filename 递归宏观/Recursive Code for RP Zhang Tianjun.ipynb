{
 "cells": [
  {
   "cell_type": "markdown",
   "metadata": {},
   "source": [
    "# Recursive Code by Zhang Tianjun"
   ]
  },
  {
   "cell_type": "markdown",
   "id": "f3dafff8",
   "metadata": {},
   "source": [
    "> The goal of this code is to reproduce the 2011 AER paper “Finance and Development: A Tale of Two Sectors” by modeling a two-sector macro-structural model with financial frictions and solving for the equilibrium price $(w^*,r^*,p_s^ *)$ by the nested bisection method.\n"
   ]
  },
  {
   "cell_type": "markdown",
   "metadata": {},
   "source": [
    "# Model"
   ]
  },
  {
   "cell_type": "markdown",
   "metadata": {},
   "source": [
    "## Talent"
   ]
  },
  {
   "cell_type": "markdown",
   "metadata": {},
   "source": [
    "We assume that there are a total of $n_s$ values of talent in the individual service industry; there are a total of $n_m$ values of talent in the manufacturing industry.\n",
    "We construct a state transfer probability matrix $(P)$ of size $(n_s \\times n_m)$. For each state $(i)$ and $(j)$, the matrix element $(P[i, j])$ denotes the probability of transferring from state $(i)$ to state $(j)$. The construction of the matrix is based on the following rule:\n",
    "\n",
    "- If $(j = i)$, then $P[i, j] = \\gamma + (1-\\gamma) \\cdot p_s[j_s] \\cdot p_m[j_m]$.\n",
    "- If $(j \\neq i)$, then $ P[i, j] = (1-\\gamma) \\cdot p_s[j_s] \\cdot p_m[j_m] $\n",
    "\n",
    "where $(j_s)$ and $(j_m)$ are the indexes of $(j)$ in the $(n_s)$ and $(n_m)$ dimensions, respectively:\n",
    "\n",
    "$$\n",
    "j_s = j \\mod n_s\n",
    "$$\n",
    "\n",
    "$$\n",
    "j_m = [ \\frac{j}{n_s} ]\n",
    "$$"
   ]
  },
  {
   "cell_type": "markdown",
   "metadata": {},
   "source": [
    "## Preference"
   ]
  },
  {
   "cell_type": "markdown",
   "metadata": {},
   "source": [
    "An individual's preferences are described by the expected utility function of the following consumption sequence $\\{\\mathbf{c}_t=(c_{S,t},c_{m,t})\\}$:\n",
    "$$U(c)=\\mathbb{E} [\\sum_{t=0}^{\\infty} \\beta^t u(\\mathbf{c}_t)]$$\n",
    "$$u(\\mathbf{c}_t) = \\frac{1}{1-\\sigma}(\\psi c_{S,t}^{1-1/\\varepsilon} + (1-\\psi)c_{m,t}^{1-1/\\varepsilon})^{\\frac{1-\\sigma}{^{1-1/\\varepsilon}}}$$\n",
    "where $\\beta$ is the discount factor, $\\sigma$ is the coefficient of relative risk aversion (and the inverse of the intertemporal elasticity of substitution), $\\varepsilon$ is the intertemporal elasticity of substitution between services and manufactured goods, and $\\psi$ controls for the share of services in overall consumption expenditure.\n",
    "Expectations exceed the realization of entrepreneurial ideas ($\\mathbf{z}$), which depends on the random disappearance of ideas ($1-\\gamma$) and the distribution of ideas $\\mu(\\mathbf{z})$.\n",
    "\n",
    "Since $\\varepsilon=1$, the utility function degenerates to the Cobb-Douglas form:\n",
    "$$\n",
    "u(c_S,c_m)=\\frac{1}{1-\\sigma}(c_S^\\psi c_m^{1-\\psi})^{1-\\sigma}\n",
    "$$\n",
    "\n",
    "\n",
    "Given total consumption $c$, the consumer's optimal consumption is:\n",
    "\n",
    "$$\n",
    "c_S=c\\frac{\\psi}{p_s},c_m=c_s \\frac{p_s(1-\\psi)}{\\psi}=c(1-\\psi)\n",
    "$$\n",
    "\n"
   ]
  },
  {
   "cell_type": "markdown",
   "metadata": {},
   "source": [
    "## Production"
   ]
  },
  {
   "cell_type": "markdown",
   "metadata": {},
   "source": [
    "At the beginning of each period, an individual with a vector of entrepreneurial ideas $\\mathbf{z}$ and wealth $a$ chooses whether to work for wage $w$ or run a business in any sector $j = S,m$.\n",
    "To operate a business in a given sector, an individual must pay the sector-specific per-period fixed cost $κ_j$ in units of that sector's output. The key assumption is that the fixed cost of operating a business in manufacturing is higher than in services $k_m > k_S$.\n",
    "Also, we assume that fixed costs need to be paid in each period of operation.\n",
    "\n",
    "A talented entrepreneur produces with capital ( $k$) and labor ( $l$) after paying the fixed costs with the following production function:\n",
    "$$zf(k,l)=\\ zk^{\\alpha}l^{\\theta}$$"
   ]
  },
  {
   "cell_type": "markdown",
   "metadata": {},
   "source": [
    "## Credit Market and collateral constraint"
   ]
  },
  {
   "cell_type": "markdown",
   "metadata": {},
   "source": [
    "\n",
    "Individuals have access to competitive financial intermediaries that take deposits, lease capital $k$ to entrepreneurs at an interest rate $R$, and lend to entrepreneurs at a fixed cost $p_j \\kappa_j$.\n",
    "In this paper, we assume that both lending and capital leasing take place over a period of time, i.e., that the financial wealth of individuals is non-negative ($a\\geq 0$).\n",
    "The intermediary's zero profit condition implies that $R = r + \\delta$, where $r$ is the interest rate on deposits and loans and $\\delta$ is the depreciation rate.\n",
    "\n",
    "Entrepreneurial borrowing and capital renting are constrained by the incomplete enforceability of the contract. In particular, we assume that the entrepreneur may break the covenant after production has occurred.\n",
    "In this case, the entrepreneur gets to keep the $1 - \\phi$ portion of net undepreciated capital and labor compensation income:\n",
    "\n",
    "$$\n",
    "(1-\\phi)[p_jz_jf(k,l)-wl+(1-\\delta)k],\\phi \\in [0,1]\n",
    "$$\n",
    "\n",
    "The only penalty is the seizure of its financial assets deposited with the financial intermediary, $a$. Over the next period, defaulting entrepreneurs regain access to financial markets and are not treated any differently regardless of the history of default.\n",
    "Note that the $\\phi$ index refers to the strength of the legal institutions that enforce contractual obligations in an economy.\n",
    "This one-dimensional parameter captures the extent of financial market frictions due to imperfect enforcement of credit and lease contracts. This succinct specification allows for flexible modeling of finite commitments: $\\phi=1$ corresponds to a perfect credit market; $\\phi=0$ corresponds to an economy with no credit.\n",
    "\n",
    "We consider equilibria in which the borrowing contract and the capital lease contract are incentive compatible and therefore satisfied. In particular, we study equilibria in which the rent of capital is quantitatively limited by an upper bound $\\bar{k}^j(a,\\mathbf{z};\\phi)$ that is related to the state of the individual $(a,\\mathbf{z})$ and the sector in which the business is started.\n",
    "At this point, the incentive compatibility condition is:\n",
    "\n",
    "$$\n",
    "\\max_l \\{ p_jz_jf(k,l)-wl \\} -Rk-(1+r)p_j \\kappa_j+(1+r)a \\geq (1-\\phi)[\\max_l \\{ p_jz_jf(k,l)-wl \\}+(1-\\delta)k]\n",
    "$$.\n",
    "\n",
    "The above condition stipulates that the entrepreneur must end up with (weakly) more economic resources when he fulfills his credit and rent obligations (left-hand side) than when he defaults (right-hand side). This static condition is sufficient to characterize the executable allocation, since we assume that the defaulting entrepreneur regains full access to financial markets in the following period.\n",
    "\n"
   ]
  },
  {
   "cell_type": "markdown",
   "metadata": {},
   "source": [
    "Due to the imperfections in the credit market at this time, entrepreneurs may not be able to choose the globally optimal level of capital and may not even be able to start a business.\n",
    "\n",
    "In this regard, we need to further analyze the incentive compatibility condition:\n",
    "$$\\max_l \\{ p_jz_jf(k,l)-wl \\} -Rk-(1+r)p_j \\kappa_j+(1+r)a \\geq (1-\\phi)[\\max_l \\{ p_jz_jf(k,l)-wl \\}+(1-\\delta)k]$$\n",
    "We shift the terms to get:\n",
    "$$\\phi \\max_l \\{ p_jz_jf(k,l)-wl \\} -Rk-(1+r)p_j \\kappa_j+(1+r)a - (1-\\phi)(1-\\delta)k\\geq 0 \\qquad (*)$$\n",
    "For the part $$\\max_l \\{ p_jz_jf(k,l)-wl \\}$$, we can find $$l^*(k)=(\\frac{p \\theta z k^\\alpha}{w})^{1/(1-\\theta)}$$.\n",
    "Thereby the left equation can be considered as a function of $g(a,\\mathbf{z};k)$ and is concave with respect to $k$, given $(a,\\mathbf{z})$, the left equation has a global maximum point $k_{max}=\\left( \\frac{(r + \\delta) + (1 - \\delta)(1 - \\phi)}{\\left( \\phi \\alpha w \\left( \\frac{p \\theta z}{w} \\right)^{\\frac{1}{1 - \\theta}} \\right) } \\right)^{\\frac{1}{( \\frac{\\alpha}{1 - \\theta } ) - 1}}$. Based on these properties, we can get the capital bound and find enterpreneurs' capital requirement according to KKT conditions:\n",
    "\n",
    "- First, calculate the maximum point $k^*$ of the left-hand side of $ (*)$.\n",
    "- Let $k=k^*$:\n",
    "    - If the left-hand side of $ (*)$ is less than 0, the individual has no incentive to start a business, $\\bar{k}=0$.\n",
    "    - If the left-hand side of  $(*)$ is greater than 0, search to the right from $k^*$ for the zero point of the left-hand side of  $(*)$, which is the boundary point of the collateral constraint $\\bar{k}$.\n",
    "- The capital demand is derived by taking the minimum of the globally optimal capital and the capital bound $\\bar{k}$\n",
    "\n",
    "Just note that the process of solving the incentive-compatible boundary uses scipy\\_optimize, which cannot be accelerated by njit compilation, so I pre-calculated the incentive-compatible boundary, the\n",
    "Then input it as a parameter to the main code part of the compilation acceleration to get the capital demand of the entrepreneur and the corresponding labor demand."
   ]
  },
  {
   "cell_type": "markdown",
   "metadata": {},
   "source": [
    "## Recursive form of individual problem\n"
   ]
  },
  {
   "cell_type": "markdown",
   "metadata": {},
   "source": [
    "The recursive form of the individual problem is as follows:\n",
    "$$\n",
    "v(a,\\mathbf{z})=\\max\\{v^W(a,\\mathbf{z}),v^m(a,\\mathbf{z}),v^S(a,\\mathbf{z})\\}\n",
    "$$\n",
    "\n",
    "where：\n",
    "$$\n",
    "v^W(a,\\mathbf{z}) = \\max_{c,a' \\geq 0} \\{u(\\mathbf{c}) + \\beta[\\gamma v(a',\\mathbf{z}) + (1-\\gamma)\\mathbb E_{\\mathbf{z}'}(v(a',\\mathbf{z}'))]\\}\n",
    "$$\n",
    "\n",
    "$$\n",
    "s.t. \\ \\mathbf{pc}+a'\\leq w+(1+r)a \\ ,\\ a\\geq 0\n",
    "$$\n",
    "\n",
    "$$\n",
    "v^j(a,\\mathbf{z}) = \\max_{c,a',k,l} \\{u(\\mathbf{c}) + \\beta[\\gamma v(a',\\mathbf{z}) + (1-\\gamma)\\mathbb E_{\\mathbf{z}'}(v(a',\\mathbf{z}'))]\\}，j=\\{S,m\\}\n",
    "$$\n",
    "\n",
    "$$\n",
    "s.t. \\ \\mathbf{pc}+a'\\leq p_jz_jf(k,l)-Rk-wl-(1+r)\\kappa_j+(1+r)a \\ ,\\ a\\geq 0,\n",
    "$$\n",
    "\n",
    "$$k \\leq \\bar{k}^j(a,\\mathbf{z};\\phi)$$\n"
   ]
  },
  {
   "cell_type": "markdown",
   "metadata": {},
   "source": [
    "## Competitive equilibrium"
   ]
  },
  {
   "cell_type": "markdown",
   "metadata": {},
   "source": [
    "\n",
    "The competitive equilibrium in this paper is defined as follows:\n",
    "- Individual problems achieve optimization\n",
    "- Financial market constraints satisfied: $k \\leq \\bar{k}^j(a,\\mathbf{z};\\phi)$\n",
    "- Market clearing (credit market, labor market, manufactured goods market, service goods market)\n",
    "- Joint distribution of individual states $G(a,\\mathbf{z})$ is stable"
   ]
  },
  {
   "cell_type": "markdown",
   "metadata": {},
   "source": [
    "## Algorithm digest"
   ]
  },
  {
   "cell_type": "markdown",
   "metadata": {},
   "source": [
    "This code deals with three parts:\n",
    "- Market supply and demand at a given market price $(w,r,p_s)$\n",
    "    - Solve the steady state using the value function iteration method\n",
    "    - Solve the stable distribution of individual states using the policy function corresponding to the steady state.\n",
    "        - because the transition matrix is sparse, we can use sparse matrix to accelerate the calculation.\n",
    "    - Solve stable supply and demand using stable distributions\n",
    "- Aiyagari's nested bisection method to find the equilibrium price $(w,r,p_s)$\n",
    "    -  given $(r^*,p_s^*)$ and $(w_{min},w_{max})$ ,find equilibrium wage $w^*$ using bisection method;\n",
    "    - given $p_s^*$, compute the demand and supply in credit market and get the difference between demand and supply. \n",
    "    If the difference is greater than 0, increase $r^*$ by bisection method; otherwise, decrease $r^*$ by bisection method. Then get $r_{new}$ and\n",
    "    repeat step 1 using $(r_{new},p_s^*)$ until credit market clears.\n",
    "    - given $p_s^*$ and $(w^*,r^*)$ from Step 1 and 2, compute the government budget.If the budget is greater than 0, decrease $p_s^*$ by bisection method; otherwise, increase $p_s^*$ by bisection method.\n",
    "    - Repeat Step 2 until credit market clears.\n",
    "- Recheck in goods market\n",
    "    - compute demand and supply in manufacture market by $(w_{eq},r_{eq},p_{s_{eq}})$ and check if clear."
   ]
  },
  {
   "cell_type": "markdown",
   "id": "d87356b9",
   "metadata": {},
   "source": [
    "# Code"
   ]
  },
  {
   "cell_type": "markdown",
   "id": "60d569ec",
   "metadata": {},
   "source": [
    "## Individual characteristics"
   ]
  },
  {
   "cell_type": "code",
   "execution_count": 1,
   "id": "b5bb35ec",
   "metadata": {},
   "outputs": [],
   "source": [
    "# import packages\n",
    "import timeit\n",
    "import numpy as np\n",
    "from numba import njit,prange\n",
    "import numba\n",
    "import matplotlib.pyplot as plt\n",
    "from scipy.optimize import brentq"
   ]
  },
  {
   "cell_type": "code",
   "execution_count": 2,
   "id": "d6ffc339-1936-42e9-8e4d-8d23dbbf8409",
   "metadata": {},
   "outputs": [],
   "source": [
    "# parameters setting\n",
    "# tech\n",
    "alpha=0.3\n",
    "theta=0.49\n",
    "fc_m=4.68\n",
    "fc_s=0\n",
    "\n",
    "# depreciation\n",
    "delta=0.06\n",
    "\n",
    "# describing the process for entrepreneurial talent\n",
    "gamma=0.89\n",
    "eta=4.84\n",
    "\n",
    "# discount factor\n",
    "beta=0.92\n",
    "\n",
    "# relative risk aversion\n",
    "sigma=1.5\n",
    "\n",
    "# intratemporal elasticity of substitution\n",
    "epsilon=1\n",
    "\n",
    "# service share in consumption\n",
    "psi=0.91\n",
    "\n"
   ]
  },
  {
   "cell_type": "code",
   "execution_count": 3,
   "id": "9d7a315e",
   "metadata": {},
   "outputs": [],
   "source": [
    "# imperfect financial market\n",
    "phi=0.8"
   ]
  },
  {
   "cell_type": "code",
   "execution_count": 4,
   "id": "2d6284cc-f1c1-4f12-af8b-785837dfb1fe",
   "metadata": {},
   "outputs": [],
   "source": [
    "# capital distribution\n",
    "kmin = 0\n",
    "kmax = 250\n",
    "n_k = 250\n",
    "kgrid = np.linspace(kmin, kmax, n_k)  # asset distribution\n",
    "# talent distribution\n",
    "from scipy.stats import pareto\n",
    "def discrete_pareto(shape,lower_bound,upper_bound,grid_numder):\n",
    "    ability=np.linspace(pareto.ppf(lower_bound,shape),pareto.ppf(upper_bound,shape),(grid_numder+1))  # 可\n",
    "    probability=np.diff(pareto.cdf(ability,shape)) / (upper_bound-lower_bound)\n",
    "    zgrid = ability[1:]\n",
    "    return zgrid,probability\n",
    "sgrid,ps = discrete_pareto(4.84,0.6,0.99,10)  # talent in service\n",
    "mgrid,pm = discrete_pareto(4.84,0.8,0.999,20)  # talent in manufacture\n",
    "n_s = len(sgrid)\n",
    "n_m = len(mgrid)\n",
    "P=np.zeros((n_s*n_m, n_s*n_m))\n",
    "for i in range(n_s*n_m):\n",
    "    for j in range(n_s*n_m):\n",
    "        j_s = j % n_s\n",
    "        j_m = j // n_s\n",
    "        if j==i:\n",
    "            P[i,j]=gamma+(1-gamma)*ps[j_s]*pm[j_m]\n",
    "        if j!=i:\n",
    "            P[i,j]=(1-gamma)*ps[j_s]*pm[j_m]\n",
    "# initial value function\n",
    "V0 = np.zeros((n_k, n_s*n_m))"
   ]
  },
  {
   "cell_type": "code",
   "execution_count": 5,
   "id": "cebec082",
   "metadata": {},
   "outputs": [
    {
     "data": {
      "text/plain": [
       "array([1.34653508, 1.48464708, 1.62275908, 1.76087108, 1.89898308,\n",
       "       2.03709508, 2.17520708, 2.31331908, 2.45143108, 2.58954308])"
      ]
     },
     "execution_count": 5,
     "metadata": {},
     "output_type": "execute_result"
    }
   ],
   "source": [
    "sgrid"
   ]
  },
  {
   "cell_type": "code",
   "execution_count": 6,
   "id": "d0a977b9",
   "metadata": {},
   "outputs": [
    {
     "data": {
      "text/plain": [
       "array([1.53312053, 1.67175143, 1.81038232, 1.94901322, 2.08764412,\n",
       "       2.22627501, 2.36490591, 2.50353681, 2.6421677 , 2.7807986 ,\n",
       "       2.91942949, 3.05806039, 3.19669129, 3.33532218, 3.47395308,\n",
       "       3.61258398, 3.75121487, 3.88984577, 4.02847667, 4.16710756])"
      ]
     },
     "execution_count": 6,
     "metadata": {},
     "output_type": "execute_result"
    }
   ],
   "source": [
    "mgrid"
   ]
  },
  {
   "cell_type": "code",
   "execution_count": 7,
   "id": "7280dcff",
   "metadata": {},
   "outputs": [
    {
     "data": {
      "text/plain": [
       "array([0.41817518, 0.22878009, 0.13247569, 0.08039881, 0.05075949,\n",
       "       0.03314483, 0.02228138, 0.01536311, 0.01083185, 0.00778957])"
      ]
     },
     "execution_count": 7,
     "metadata": {},
     "output_type": "execute_result"
    }
   ],
   "source": [
    "ps"
   ]
  },
  {
   "cell_type": "code",
   "execution_count": 8,
   "id": "283fb0fb",
   "metadata": {},
   "outputs": [
    {
     "data": {
      "text/plain": [
       "array([0.36975617, 0.21744255, 0.13368229, 0.08533176, 0.05624843,\n",
       "       0.03812425, 0.0264768 , 0.01878686, 0.01358715, 0.00999571,\n",
       "       0.00746736, 0.00565656, 0.00433931, 0.0033674 , 0.00264093,\n",
       "       0.00209141, 0.00167116, 0.00134649, 0.00109329, 0.0008941 ])"
      ]
     },
     "execution_count": 8,
     "metadata": {},
     "output_type": "execute_result"
    }
   ],
   "source": [
    "pm"
   ]
  },
  {
   "cell_type": "markdown",
   "id": "25a09b2b",
   "metadata": {},
   "source": [
    "## Find equilibrium and compute supply & demand"
   ]
  },
  {
   "cell_type": "code",
   "execution_count": 9,
   "id": "ff927124-8707-48c0-b9a1-c297f137edbb",
   "metadata": {},
   "outputs": [],
   "source": [
    "# utility\n",
    "def u(c_s,c_m):\n",
    "    c = c_s + c_m\n",
    "    if c > 0:\n",
    "        res = (1/(1-sigma))*(((c_s)**psi+(c_m)**(1-psi))**(1-sigma))\n",
    "    else:\n",
    "        res = -np.inf\n",
    "    return res\n",
    "if compile:\n",
    "    u = njit(u)\n",
    "\n",
    "\n",
    "# worker's budget\n",
    "def budget_worker(a, x, w, r):\n",
    "    return w + (1+r)*a - x\n",
    "if compile:\n",
    "    budget_worker = njit(budget_worker)\n",
    "\n",
    "# service production\n",
    "def f_s(z_index, k, l):\n",
    "    i_s = z_index % n_s\n",
    "    f = sgrid[i_s]*(k**alpha)*(l**theta)\n",
    "    return f\n",
    "if compile:\n",
    "    f_s = njit(f_s)\n",
    "\n",
    "# budget of entrepreneur in service\n",
    "@njit\n",
    "def budget_s(z_index, k, l, a , x , w, r, p_s):\n",
    "    R = r + delta\n",
    "    return p_s*f_s(z_index, k, l) + (1+r)*a - R*k - w*l - x - (1+r)*fc_s\n",
    "\n",
    "# LHS of (*) for service\n",
    "@njit\n",
    "def capital_constraint_s(k, z_index, a_index , w, r, p_s):\n",
    "    R=r+delta\n",
    "    i_s = z_index % n_s\n",
    "    f=phi*(1-theta)*w*(p_s*theta*sgrid[i_s]*k**alpha/w)**(1/(1-theta))+(1+r)*kgrid[a_index]-R*k-(1+r)*fc_s-(1-phi)*(1-delta)*k\n",
    "    return f\n",
    "\n",
    "\n",
    "# manufacture production\n",
    "def f_m(z_index, k, l):\n",
    "    i_m = z_index // n_s\n",
    "    f = mgrid[i_m]*(k**alpha)*(l**theta)\n",
    "    return f\n",
    "if compile:\n",
    "    f_m = njit(f_m)\n",
    "\n",
    "# budget of entrepreneur in manufacture\n",
    "@njit\n",
    "def budget_m(z_index, k, l, a , x , w, r):\n",
    "    R = r + delta\n",
    "    return f_m(z_index, k, l) + (1+r)*a - R*k - w*l - x - (1+r)*fc_m\n",
    "\n",
    "# LHS of (*) for manufacture\n",
    "@njit\n",
    "def capital_constraint_m(k, z_index, a_index , w, r):\n",
    "    R=r+delta\n",
    "    i_m = z_index // n_s\n",
    "    f=phi*(1-theta)*w*(theta*mgrid[i_m]*k**alpha/w)**(1/(1-theta))+(1+r)*kgrid[a_index]-R*k-(1+r)*fc_m-(1-phi)*(1-delta)*k\n",
    "    return f\n"
   ]
  },
  {
   "cell_type": "code",
   "execution_count": 10,
   "id": "21a16703",
   "metadata": {},
   "outputs": [],
   "source": [
    "# Keep capital_bound_matrix as a pure Python function We just need to accelerate the main line!!!!\n",
    "# Pass the result of the computation as an argument: in functions that require Numba acceleration, avoid calling non-acceleratable functions directly, \n",
    "# and pass the result of the computation (e.g. bound_matrix and opt_matrix) as an argument. (Stripped from the main thread).\n",
    "\n",
    "# entrepreneurs' collateral constraint\n",
    "def m_capital_bound_matrix(w, r):\n",
    "    bound_matrix = np.zeros((n_k, n_s*n_m))\n",
    "    for a_index in range(n_k):\n",
    "        for z_index in range(n_s*n_m):\n",
    "            i_m = z_index // n_s\n",
    "            k_max = (((r+delta)+(1-delta)*(1-phi))/((phi*w*alpha*(theta*mgrid[i_m]/w)**(1/(1-theta)))))**(1/((alpha/(1-theta))-1))\n",
    "            res = capital_constraint_m(k_max, z_index, a_index , w, r)\n",
    "            if res < 0 :\n",
    "                bound_matrix[a_index,z_index]=0\n",
    "            if res == 0 :\n",
    "                bound_matrix[a_index,z_index]=k_max\n",
    "            if res > 0 :\n",
    "                solution = brentq(capital_constraint_m, k_max,1e+10, args=(z_index, a_index, w, r))\n",
    "                bound_matrix[a_index,z_index] = solution\n",
    "    return  bound_matrix\n",
    "    \n",
    "def s_capital_bound_matrix(w, r, p_s):\n",
    "    bound_matrix = np.zeros((n_k, n_s*n_m))\n",
    "    for a_index in range(n_k):\n",
    "        for z_index in range(n_s*n_m):\n",
    "            i_s = z_index % n_s\n",
    "            k_max = (((r+delta)+(1-delta)*(1-phi))/((phi*w*alpha*(p_s*theta*sgrid[i_s]/w)**(1/(1-theta)))))**(1/((alpha/(1-theta))-1))\n",
    "            res = capital_constraint_s(k_max, z_index, a_index , w, r, p_s)\n",
    "            if res < 0 :\n",
    "                bound_matrix[a_index,z_index]=0\n",
    "            if res == 0 :\n",
    "                bound_matrix[a_index,z_index]=k_max\n",
    "            if res > 0 :\n",
    "                solution = brentq(capital_constraint_s, k_max,1e+10, args=(z_index, a_index, w, r, p_s))\n",
    "                bound_matrix[a_index,z_index] = solution\n",
    "    return  bound_matrix"
   ]
  },
  {
   "cell_type": "code",
   "execution_count": 11,
   "id": "d1ae5206",
   "metadata": {},
   "outputs": [],
   "source": [
    "# worker's value function\n",
    "def V_current_worker(k_next_index, k_index, z_index, V_next, w, r, p_s):\n",
    "    c = budget_worker(kgrid[k_index], kgrid[k_next_index], w, r)\n",
    "    c_s = c*psi/p_s\n",
    "    c_m = c*(1-psi)\n",
    "    EV = np.sum(P[z_index,:]*V_next[k_next_index,:]) # expectation\n",
    "    res = u(c_s,c_m) + beta*(gamma*V_next[k_next_index,z_index]+(1-gamma)*EV)\n",
    "    return res\n",
    "if compile:\n",
    "    V_current_worker = njit(V_current_worker)\n",
    "\n",
    "def V_max_worker(k_index, z_index, k_start, V, w, r, p_s):\n",
    "    V_max = -np.inf\n",
    "    for j in range(k_start,n_k):\n",
    "        k_next = kgrid[j]\n",
    "        V_new=V_current_worker(j,k_index,z_index, V, w, r, p_s)\n",
    "        if V_new > V_max:\n",
    "            V_max = V_new\n",
    "            g_k = k_next\n",
    "            k_start = j\n",
    "        else:break\n",
    "    return V_max, g_k, k_start\n",
    "if compile:\n",
    "    V_max_worker = njit(V_max_worker)\n",
    "\n",
    "    \n",
    "# service entrepreneur's value function\n",
    "@njit\n",
    "def s_capital_opt_unconditional(k_index, z_index, w, r, p_s):\n",
    "    R = r + delta\n",
    "    i_s = z_index % n_s\n",
    "    opt = ((R / (alpha *p_s * sgrid[i_s])) * (w * alpha / (R * theta)) ** theta) ** (1 / (alpha + theta - 1))\n",
    "    return opt\n",
    "\n",
    "@njit\n",
    "def s_capital_demand(k_index, z_index, w, r, p_s, bound_matrix):\n",
    "    if bound_matrix[k_index, z_index] > s_capital_opt_unconditional(k_index, z_index, w, r, p_s):\n",
    "        capital_demand = s_capital_opt_unconditional(k_index, z_index, w, r, p_s)\n",
    "    else:\n",
    "        capital_demand = bound_matrix[k_index, z_index]\n",
    "    return capital_demand\n",
    "\n",
    "\n",
    "@njit\n",
    "def s_V_current_entrepreneur(k_next_index, k_index, z_index, V_next, w, r,  p_s, bound_matrix):\n",
    "    i_s = z_index % n_s\n",
    "    k = s_capital_demand(k_index, z_index, w, r, p_s, bound_matrix)\n",
    "    l = (p_s*theta*sgrid[i_s]*(k**alpha)/w)**(1/(1-theta))\n",
    "    c = budget_s(z_index, k, l, kgrid[k_index], kgrid[k_next_index], w, r, p_s)\n",
    "    c_s = c*psi/p_s\n",
    "    c_m = c_s*(1-psi)\n",
    "    EV = np.sum(P[z_index, :] * V_next[k_next_index, :])  # expectation\n",
    "    res = u(c_s,c_m) + beta * (gamma * V_next[k_next_index, z_index] + (1 - gamma) * EV)\n",
    "    return res\n",
    "\n",
    "@njit\n",
    "def s_V_max_entrepreneur(k_index, z_index, k_start, V, w, r, p_s, bound_matrix):\n",
    "    V_max = -np.inf\n",
    "    for j in range(k_start, n_k):\n",
    "        k_next = kgrid[j]\n",
    "        V_new = s_V_current_entrepreneur(j, k_index, z_index, V, w, r, p_s, bound_matrix)\n",
    "        if V_new > V_max:\n",
    "            V_max = V_new\n",
    "            g_k = k_next\n",
    "            k_start = j\n",
    "        else:\n",
    "            break\n",
    "    return V_max, g_k, k_start\n",
    "\n",
    "# manufacture entreprenueur's value function\n",
    "@njit\n",
    "def m_capital_opt_unconditional(k_index, z_index, w, r):\n",
    "    R = r + delta\n",
    "    i_m = z_index // n_s\n",
    "    opt = ((R / (alpha * mgrid[i_m])) * (w * alpha / (R * theta)) ** theta) ** (1 / (alpha + theta - 1))\n",
    "    return opt\n",
    "\n",
    "@njit\n",
    "def m_capital_demand(k_index, z_index, w, r, bound_matrix):\n",
    "    if bound_matrix[k_index, z_index] > m_capital_opt_unconditional(k_index, z_index, w, r):\n",
    "        capital_demand = m_capital_opt_unconditional(k_index, z_index, w, r)\n",
    "    else:\n",
    "        capital_demand = bound_matrix[k_index, z_index]\n",
    "    return capital_demand\n",
    "\n",
    "@njit\n",
    "def m_V_current_entrepreneur(k_next_index, k_index, z_index, V_next, w, r,  p_s, bound_matrix):\n",
    "    i_m = z_index // n_s\n",
    "    k = m_capital_demand(k_index, z_index, w, r, bound_matrix)\n",
    "    l = (theta*mgrid[i_m]*(k**alpha)/w)**(1/(1-theta))\n",
    "    c = budget_m(z_index, k, l, kgrid[k_index], kgrid[k_next_index], w, r)\n",
    "    c_s = c*psi/p_s\n",
    "    c_m = c_s*(1-psi)\n",
    "    EV = np.sum(P[z_index, :] * V_next[k_next_index, :])  # expectation\n",
    "    res = u(c_s,c_m) + beta * (gamma * V_next[k_next_index, z_index] + (1 - gamma) * EV)\n",
    "    return res\n",
    "\n",
    "@njit\n",
    "def m_V_max_entrepreneur(k_index, z_index, k_start, V, w, r, p_s, bound_matrix):\n",
    "    V_max = -np.inf\n",
    "    for j in range(k_start, n_k):\n",
    "        k_next = kgrid[j]\n",
    "        V_new = m_V_current_entrepreneur(j, k_index, z_index, V, w, r, p_s, bound_matrix)\n",
    "        if V_new > V_max:\n",
    "            V_max = V_new\n",
    "            g_k = k_next\n",
    "            k_start = j\n",
    "        else:\n",
    "            break\n",
    "    return V_max, g_k, k_start\n",
    "\n",
    "# put together to find the optimal job choice\n",
    "def V_update(V, w, r, p_s, bound_matrix_s, bound_matrix_m):\n",
    "    V_new = np.zeros((n_k, n_s*n_m))\n",
    "    g_new = np.zeros((n_k, n_s*n_m))\n",
    "    state_manufacture = np.zeros((n_k, n_s*n_m))\n",
    "    state_service = np.zeros((n_k, n_s*n_m))\n",
    "    for i_z in prange(n_s*n_m):\n",
    "        k_start_worker=0\n",
    "        k_start_manufacture=0\n",
    "        k_start_service=0\n",
    "        for i_k in range(n_k):\n",
    "            V_new_worker, g_new_worker,k_start_worker= V_max_worker(i_k, i_z, k_start_worker, V, w, r, p_s)\n",
    "            V_new_manufacture, g_new_manufacture,k_start_manufacture= m_V_max_entrepreneur(i_k, i_z, k_start_manufacture, V, w, r, p_s, bound_matrix_m)\n",
    "            V_new_service, g_new_service,k_start_service= s_V_max_entrepreneur(i_k, i_z, k_start_service, V, w, r, p_s, bound_matrix_s)\n",
    "            if V_new_service> V_new_manufacture and V_new_service > V_new_worker:\n",
    "                V_new[i_k, i_z]=V_new_service\n",
    "                g_new[i_k, i_z]=g_new_service\n",
    "                state_service[i_k, i_z]=1\n",
    "            if V_new_manufacture > V_new_service and V_new_manufacture > V_new_worker:\n",
    "                V_new[i_k, i_z]=V_new_manufacture\n",
    "                g_new[i_k, i_z]=g_new_manufacture\n",
    "                state_manufacture[i_k, i_z]=1\n",
    "            if V_new_worker > V_new_service and V_new_worker > V_new_manufacture:\n",
    "                V_new[i_k, i_z]=V_new_worker\n",
    "                g_new[i_k, i_z]=g_new_worker\n",
    "    return V_new, g_new, state_manufacture, state_service\n",
    "if compile:\n",
    "    V_update = njit(V_update,parallel=True)\n",
    "\n",
    "# find equilibrium by value function iteration method\n",
    "def V_iteration(V_initial,tol,w,r,p_s):\n",
    "    V = V_initial\n",
    "    error = np.inf\n",
    "    bound_matrix_s=s_capital_bound_matrix(w,r,p_s)\n",
    "    bound_matrix_m=m_capital_bound_matrix(w,r)\n",
    "    count = 0\n",
    "    max_iter = 1000\n",
    "    while count < max_iter and error > tol:\n",
    "        V_new, g_new, state_manufacture, state_service = V_update(V, w, r,p_s, bound_matrix_s, bound_matrix_m)\n",
    "        error = np.max(np.abs(V_new - V))\n",
    "        V = V_new\n",
    "        count = count + 1\n",
    "    return V_new, g_new, state_manufacture , state_service"
   ]
  },
  {
   "cell_type": "code",
   "execution_count": 12,
   "id": "dc254428",
   "metadata": {},
   "outputs": [],
   "source": [
    "# construct transition matrix Q of agents' characteristics (asset,z_s,z_m)\n",
    "from scipy import sparse\n",
    "def transQ_sparse(g):\n",
    "    n_k, n_s = g.shape\n",
    "    n = n_k * n_s\n",
    "    row_indices = []\n",
    "    col_indices = []\n",
    "    values = []\n",
    "    for j in numba.prange(n):\n",
    "        i_k = j // n_s\n",
    "        i_s = j % n_s\n",
    "        diff = np.abs(g[i_k, i_s] - kgrid)\n",
    "        mark = np.argmin(diff)\n",
    "        j_prime_start = mark * n_s\n",
    "        \n",
    "        row = np.full(n_s, j)\n",
    "        col = np.arange(j_prime_start, j_prime_start + n_s)\n",
    "        val = P[i_s, :]\n",
    "        \n",
    "        row_indices.extend(row)\n",
    "        col_indices.extend(col)\n",
    "        values.extend(val)\n",
    "    Q = sparse.csr_matrix((values, (row_indices, col_indices)), shape=(n, n))\n",
    "    return Q\n",
    "\n",
    "# compute steady joint distribution of agents' characteristics (asset,z_s,z_m)\n",
    "import scipy.sparse as sp\n",
    "def sparse_stationary_distribution_iteration(P, psi0, tol):\n",
    "    P_csc = sp.csc_matrix(P.T)\n",
    "    err = np.inf\n",
    "    max_iter = 1000\n",
    "    iter = 0\n",
    "    while iter < max_iter and err > tol:\n",
    "        psi = P_csc.dot(psi0)\n",
    "        err = np.max(np.abs(psi - psi0))\n",
    "        iter = iter + 1\n",
    "        psi0 = psi\n",
    "    return psi0\n",
    "\n",
    "# compute steady marginal distributions of asset\n",
    "def capital_marginal(joint_dist):\n",
    "    tmp = joint_dist.reshape((n_k, n_s*n_m))\n",
    "    k_marginal = tmp.sum(axis=1)\n",
    "    return k_marginal\n",
    "\n",
    "# axis = 0 is column (given z), axis = 1 is row(given k)\n",
    "\n"
   ]
  },
  {
   "cell_type": "code",
   "execution_count": 13,
   "id": "d772c7f3",
   "metadata": {},
   "outputs": [],
   "source": [
    "# Compute Demand and Supply in 3 markets (labor,capital,service) to find equilibrium price (w,r,p_s)\n",
    "def capital_and_labor_and_service(w,r,p_s):\n",
    "    bound_matrix_s=s_capital_bound_matrix(w,r,p_s)\n",
    "    bound_matrix_m=m_capital_bound_matrix(w,r)\n",
    "    V0 = np.zeros((n_k, n_s*n_m))\n",
    "    V_new,g,state_manufacture,state_service=V_iteration(V0,1e-7,w,r,p_s)\n",
    "    Q=transQ_sparse(g)\n",
    "    psi0 = np.ones((n_k * n_s*n_m))/(n_k * n_s*n_m)\n",
    "    ss=sparse_stationary_distribution_iteration(Q,psi0,1e-6)\n",
    "    tmp = ss.reshape((n_k, n_s*n_m))\n",
    "    state_worker=np.ones((n_k, n_s*n_m))-state_manufacture-state_service\n",
    "    capital_supply=k_demand=labor_supply=l_demand=service_supply=service_demand=0\n",
    "    for i_k in range(n_k):\n",
    "        for i_z in range(n_s*n_m):\n",
    "            capital_supply += tmp[i_k,i_z]*g[i_k,i_z]\n",
    "            labor_supply += state_worker[i_k,i_z]*tmp[i_k,i_z]\n",
    "            i_s = i_z % n_s\n",
    "            i_m = i_z // n_s\n",
    "            k_m=m_capital_demand(i_k, i_z, w, r, bound_matrix_m)*state_manufacture[i_k,i_z]\n",
    "            k_s=s_capital_demand(i_k, i_z, w, r, p_s, bound_matrix_s)*state_service[i_k,i_z]\n",
    "            k_demand += (k_m+k_s)*tmp[i_k,i_z]\n",
    "            l_m = (theta*mgrid[i_m]*(k_m**alpha)/w)**(1/(1-theta))\n",
    "            l_s = (p_s*theta*sgrid[i_s]*(k_s**alpha)/w)**(1/(1-theta))\n",
    "            l_demand += (l_m+l_s)*tmp[i_k,i_z]\n",
    "            service_demand += (psi/p_s)*tmp[i_k,i_z]*(budget_worker(kgrid[i_k], g[i_k,i_z], w, r)*state_worker[i_k,i_z]+budget_s(i_z,k_s,l_s,kgrid[i_k],g[i_k,i_z],w,r,p_s)*state_service[i_k,i_z]+budget_m(i_z,k_m,l_m,kgrid[i_k],g[i_k,i_z],w,r)*state_manufacture[i_k,i_z])\n",
    "            service_supply += state_service[i_k,i_z]*tmp[i_k,i_z]*f_s(i_z,k_s,l_s)\n",
    "    return capital_supply,k_demand,labor_supply,l_demand,service_supply,service_demand\n",
    "\n",
    "\n",
    "# Compute Demand and Supply in all markets (labor,capital,service,manufacture) for final check\n",
    "def capital_and_labor_and_service_and_manufacture(w,r,p_s):\n",
    "    bound_matrix_s=s_capital_bound_matrix(w,r,p_s)\n",
    "    bound_matrix_m=m_capital_bound_matrix(w,r)\n",
    "    V0 = np.zeros((n_k, n_s*n_m))\n",
    "    V_new,g,state_manufacture,state_service=V_iteration(V0,1e-7,w,r,p_s)\n",
    "    Q=transQ_sparse(g)\n",
    "    psi0 = np.ones((n_k * n_s*n_m))/(n_k * n_s*n_m)\n",
    "    ss=sparse_stationary_distribution_iteration(Q,psi0,1e-6)\n",
    "    tmp = ss.reshape((n_k, n_s*n_m))\n",
    "    state_worker=np.ones((n_k, n_s*n_m))-state_manufacture-state_service\n",
    "    capital_supply=k_demand=labor_supply=l_demand=service_supply=service_demand=m_demand=m_supply=fixed_cost=budget=0\n",
    "    for i_k in range(n_k):\n",
    "        for i_z in range(n_s*n_m):\n",
    "            capital_supply += tmp[i_k,i_z]*g[i_k,i_z]\n",
    "            labor_supply += state_worker[i_k,i_z]*tmp[i_k,i_z]\n",
    "            i_s = i_z % n_s\n",
    "            i_m = i_z // n_s\n",
    "            k_m=m_capital_demand(i_k, i_z, w, r, bound_matrix_m)*state_manufacture[i_k,i_z]\n",
    "            k_s=s_capital_demand(i_k, i_z, w, r, p_s, bound_matrix_s)*state_service[i_k,i_z]\n",
    "            k_demand += (k_m+k_s)*tmp[i_k,i_z]\n",
    "            l_m = (theta*mgrid[i_m]*(k_m**alpha)/w)**(1/(1-theta))\n",
    "            l_s = (p_s*theta*sgrid[i_s]*(k_s**alpha)/w)**(1/(1-theta))\n",
    "            l_demand += (l_m+l_s)*tmp[i_k,i_z]\n",
    "            budget += tmp[i_k,i_z]*(budget_worker(kgrid[i_k], g[i_k,i_z], w, r)*state_worker[i_k,i_z]+budget_s(i_z,k_s,l_s,kgrid[i_k],g[i_k,i_z],w,r,p_s)*state_service[i_k,i_z]+budget_m(i_z,k_m,l_m,kgrid[i_k],g[i_k,i_z],w,r)*state_manufacture[i_k,i_z])\n",
    "            service_supply += state_service[i_k,i_z]*tmp[i_k,i_z]*f_s(i_z,k_s,l_s)\n",
    "            m_supply += state_manufacture[i_k,i_z]*tmp[i_k,i_z]*f_m(i_z,k_m,l_m)\n",
    "            fixed_cost += state_manufacture[i_k,i_z]*tmp[i_k,i_z]*fc_m\n",
    "    service_demand = (psi/p_s)*budget\n",
    "    m_demand = (1-psi)*budget\n",
    "    return capital_supply,k_demand,labor_supply,l_demand,service_supply,service_demand,m_supply,m_demand,fixed_cost"
   ]
  },
  {
   "cell_type": "markdown",
   "id": "19069597",
   "metadata": {},
   "source": [
    "## Try code：given price, compute supply and demand"
   ]
  },
  {
   "cell_type": "code",
   "execution_count": 14,
   "id": "d0c6e458",
   "metadata": {},
   "outputs": [],
   "source": [
    "w= 1.47\n",
    "r= 0.067\n",
    "p_s= 1.31"
   ]
  },
  {
   "cell_type": "code",
   "execution_count": 15,
   "id": "c7167713",
   "metadata": {},
   "outputs": [
    {
     "data": {
      "text/plain": [
       "array([[3.81015075e-01, 6.06559461e-01, 9.26466382e-01, ...,\n",
       "        5.01273640e+00, 6.60692509e+00, 8.57727149e+00],\n",
       "       [5.16692262e+00, 5.65656114e+00, 6.24820290e+00, ...,\n",
       "        1.16211012e+01, 1.34283196e+01, 1.55911938e+01],\n",
       "       [9.29670428e+00, 9.94545069e+00, 1.07114271e+01, ...,\n",
       "        1.71293200e+01, 1.91619374e+01, 2.15478561e+01],\n",
       "       ...,\n",
       "       [8.76196957e+02, 8.84060787e+02, 8.92754634e+02, ...,\n",
       "        9.49611795e+02, 9.63891086e+02, 9.79231729e+02],\n",
       "       [8.79682437e+02, 8.87564265e+02, 8.96277852e+02, ...,\n",
       "        9.53260172e+02, 9.67569862e+02, 9.82942720e+02],\n",
       "       [8.83167777e+02, 8.91067572e+02, 8.99800865e+02, ...,\n",
       "        9.56908131e+02, 9.71248168e+02, 9.86653185e+02]])"
      ]
     },
     "execution_count": 15,
     "metadata": {},
     "output_type": "execute_result"
    }
   ],
   "source": [
    "s_capital_bound_matrix(w,r,p_s)"
   ]
  },
  {
   "cell_type": "code",
   "execution_count": 16,
   "id": "45bfd584",
   "metadata": {},
   "outputs": [
    {
     "data": {
      "text/plain": [
       "array([[   0.        ,    0.        ,    0.        , ...,    0.        ,\n",
       "           0.        ,    0.        ],\n",
       "       [   0.        ,    0.        ,    0.        , ...,    0.        ,\n",
       "           0.        ,    0.        ],\n",
       "       [   0.        ,    0.        ,    0.        , ...,    0.        ,\n",
       "           0.        ,    0.        ],\n",
       "       ...,\n",
       "       [ 851.18278293,  851.18278293,  851.18278293, ..., 1040.06396216,\n",
       "        1040.06396216, 1040.06396216],\n",
       "       [ 854.64832632,  854.64832632,  854.64832632, ..., 1043.93747649,\n",
       "        1043.93747649, 1043.93747649],\n",
       "       [ 858.11375983,  858.11375983,  858.11375983, ..., 1047.8101693 ,\n",
       "        1047.8101693 , 1047.8101693 ]])"
      ]
     },
     "execution_count": 16,
     "metadata": {},
     "output_type": "execute_result"
    }
   ],
   "source": [
    "m_capital_bound_matrix(w,r)"
   ]
  },
  {
   "cell_type": "code",
   "execution_count": 17,
   "id": "4bd7dd35",
   "metadata": {},
   "outputs": [],
   "source": [
    "m_opt=np.zeros((n_k,n_s*n_m))\n",
    "for i in range(n_k):\n",
    "    for j in range(n_s*n_m):\n",
    "        m_opt[i,j]=m_capital_opt_unconditional(i,j, w, r)\n",
    "s_opt=np.zeros((n_k,n_s*n_m))\n",
    "for i in range(n_k):\n",
    "    for j in range(n_s*n_m):\n",
    "        s_opt[i,j]=s_capital_opt_unconditional(i,j, w, r,p_s)\n"
   ]
  },
  {
   "cell_type": "code",
   "execution_count": 18,
   "id": "9e276e0b",
   "metadata": {},
   "outputs": [
    {
     "data": {
      "text/plain": [
       "array([[  4.75381232,   4.75381232,   4.75381232, ..., 555.82647518,\n",
       "        555.82647518, 555.82647518],\n",
       "       [  4.75381232,   4.75381232,   4.75381232, ..., 555.82647518,\n",
       "        555.82647518, 555.82647518],\n",
       "       [  4.75381232,   4.75381232,   4.75381232, ..., 555.82647518,\n",
       "        555.82647518, 555.82647518],\n",
       "       ...,\n",
       "       [  4.75381232,   4.75381232,   4.75381232, ..., 555.82647518,\n",
       "        555.82647518, 555.82647518],\n",
       "       [  4.75381232,   4.75381232,   4.75381232, ..., 555.82647518,\n",
       "        555.82647518, 555.82647518],\n",
       "       [  4.75381232,   4.75381232,   4.75381232, ..., 555.82647518,\n",
       "        555.82647518, 555.82647518]])"
      ]
     },
     "execution_count": 18,
     "metadata": {},
     "output_type": "execute_result"
    }
   ],
   "source": [
    "m_opt"
   ]
  },
  {
   "cell_type": "code",
   "execution_count": 19,
   "id": "e4a46e3e",
   "metadata": {},
   "outputs": [
    {
     "data": {
      "text/plain": [
       "array([[  9.27048281,  14.75820622,  22.54186572, ..., 121.96495541,\n",
       "        160.75318125, 208.69370548],\n",
       "       [  9.27048281,  14.75820622,  22.54186572, ..., 121.96495541,\n",
       "        160.75318125, 208.69370548],\n",
       "       [  9.27048281,  14.75820622,  22.54186572, ..., 121.96495541,\n",
       "        160.75318125, 208.69370548],\n",
       "       ...,\n",
       "       [  9.27048281,  14.75820622,  22.54186572, ..., 121.96495541,\n",
       "        160.75318125, 208.69370548],\n",
       "       [  9.27048281,  14.75820622,  22.54186572, ..., 121.96495541,\n",
       "        160.75318125, 208.69370548],\n",
       "       [  9.27048281,  14.75820622,  22.54186572, ..., 121.96495541,\n",
       "        160.75318125, 208.69370548]])"
      ]
     },
     "execution_count": 19,
     "metadata": {},
     "output_type": "execute_result"
    }
   ],
   "source": [
    "s_opt"
   ]
  },
  {
   "cell_type": "code",
   "execution_count": 28,
   "id": "a50291dd",
   "metadata": {},
   "outputs": [
    {
     "name": "stdout",
     "output_type": "stream",
     "text": [
      "The time difference is : 3.657272400101647\n"
     ]
    }
   ],
   "source": [
    "start_time = timeit.default_timer()\n",
    "V, g ,  state_manufacture , state_service= V_iteration(V0,1e-7,w,r,p_s)\n",
    "print(\"The time difference is :\", timeit.default_timer() - start_time)"
   ]
  },
  {
   "cell_type": "code",
   "execution_count": 21,
   "id": "84ff7eeb",
   "metadata": {},
   "outputs": [
    {
     "data": {
      "text/plain": [
       "Text(0, 0.5, '$k_{t+1}$')"
      ]
     },
     "execution_count": 21,
     "metadata": {},
     "output_type": "execute_result"
    },
    {
     "data": {
      "image/png": "[encoded data removed]",
      "text/plain": [
       "<Figure size 640x480 with 1 Axes>"
      ]
     },
     "metadata": {},
     "output_type": "display_data"
    }
   ],
   "source": [
    "for i in range (n_s*n_m):\n",
    "    plt.plot(kgrid,g[:,i],label='z_m='+ str(mgrid[i // n_s])+ ',' +'z_s='+ str(sgrid[i % n_s]))\n",
    "# plt.plot(kgrid,kgrid,label=\"45 degree\",color='black')\n",
    "plt.xlabel(\"$k_t$\")\n",
    "plt.ylabel(\"$k_{t+1}$\")\n",
    "# plt.title('policy function')\n",
    "# plt.legend()"
   ]
  },
  {
   "cell_type": "code",
   "execution_count": 22,
   "id": "ee57d5aa",
   "metadata": {},
   "outputs": [
    {
     "data": {
      "text/plain": [
       "Text(0, 0.5, '$V$')"
      ]
     },
     "execution_count": 22,
     "metadata": {},
     "output_type": "execute_result"
    },
    {
     "data": {
      "image/png": "[encoded data removed]",
      "text/plain": [
       "<Figure size 640x480 with 1 Axes>"
      ]
     },
     "metadata": {},
     "output_type": "display_data"
    }
   ],
   "source": [
    "for i in range (n_s*n_m):\n",
    "    plt.plot(kgrid,V[:,i],label='z_m='+ str(mgrid[i // n_s])+ ',' +'z_s='+ str(sgrid[i % n_s]))\n",
    "plt.xlabel(\"$k$\")\n",
    "plt.ylabel(\"$V$\")\n",
    "# plt.title('policy function')\n",
    "# plt.legend()"
   ]
  },
  {
   "cell_type": "code",
   "execution_count": 23,
   "id": "2b2ea9f6",
   "metadata": {},
   "outputs": [
    {
     "data": {
      "text/plain": [
       "[<matplotlib.lines.Line2D at 0x1ad44101a30>]"
      ]
     },
     "execution_count": 23,
     "metadata": {},
     "output_type": "execute_result"
    },
    {
     "data": {
      "image/png": "[encoded data removed]",
      "text/plain": [
       "<Figure size 640x480 with 1 Axes>"
      ]
     },
     "metadata": {},
     "output_type": "display_data"
    }
   ],
   "source": [
    "psi0 = np.ones((n_k * n_s*n_m))/(n_k * n_s*n_m)\n",
    "QQ=transQ_sparse(g)\n",
    "ss = sparse_stationary_distribution_iteration(QQ, psi0, tol=1e-7)\n",
    "a_dist=capital_marginal(ss)\n",
    "plt.plot(kgrid,a_dist)"
   ]
  },
  {
   "cell_type": "code",
   "execution_count": 24,
   "id": "2b2ea9f6",
   "metadata": {},
   "outputs": [
    {
     "data": {
      "text/plain": [
       "0.017102154993489"
      ]
     },
     "execution_count": 24,
     "metadata": {},
     "output_type": "execute_result"
    }
   ],
   "source": [
    "# proportion of entrepreneurs in manufacture\n",
    "sss=ss.reshape((n_k, n_s*n_m))\n",
    "np.sum(state_manufacture*sss)"
   ]
  },
  {
   "cell_type": "code",
   "execution_count": 25,
   "id": "1aeaa34c",
   "metadata": {},
   "outputs": [
    {
     "data": {
      "text/plain": [
       "0.34714940163490887"
      ]
     },
     "execution_count": 25,
     "metadata": {},
     "output_type": "execute_result"
    }
   ],
   "source": [
    "# proportion of entrepreneurs in service\n",
    "np.sum(state_service*sss)"
   ]
  },
  {
   "cell_type": "code",
   "execution_count": 26,
   "id": "308d2f6f",
   "metadata": {},
   "outputs": [
    {
     "data": {
      "text/plain": [
       "0.6357484433716185"
      ]
     },
     "execution_count": 26,
     "metadata": {},
     "output_type": "execute_result"
    }
   ],
   "source": [
    "# proportion of workers\n",
    "state_worker = np.ones((n_k, n_s*n_m))-state_manufacture-state_service\n",
    "np.sum(state_worker*sss)"
   ]
  },
  {
   "cell_type": "code",
   "execution_count": 27,
   "id": "a0549e8d",
   "metadata": {},
   "outputs": [
    {
     "data": {
      "text/plain": [
       "(9.486362860653207,\n",
       " 16.41424125277323,\n",
       " 0.6357454778239249,\n",
       " 2.5394436974301193,\n",
       " 4.850131965491565,\n",
       " 2.2823535996367417,\n",
       " 1.2646582174963221,\n",
       " 0.2957027356012876,\n",
       " 0.0800555713268351)"
      ]
     },
     "execution_count": 27,
     "metadata": {},
     "output_type": "execute_result"
    }
   ],
   "source": [
    "capital_and_labor_and_service_and_manufacture(w,r,p_s)"
   ]
  },
  {
   "cell_type": "markdown",
   "id": "63756ebc",
   "metadata": {},
   "source": [
    "## Sparse search"
   ]
  },
  {
   "cell_type": "markdown",
   "id": "2a033882",
   "metadata": {},
   "source": [
    "### given $r$ and $p_s$, find $w$ that clears labor market"
   ]
  },
  {
   "cell_type": "code",
   "execution_count": 43,
   "id": "beb2bcc8",
   "metadata": {},
   "outputs": [],
   "source": [
    "# compute residual of each market\n",
    "def equilibrium_k(w,r,p_s):\n",
    "    a_supply,a_demand,l_supply,l_demand,s_supply,s_demand=capital_and_labor_and_service(w,r,p_s)\n",
    "    res_k=a_supply-a_demand\n",
    "    print('w=',w,'r=',r,'p_s=',p_s,'capital supply=',a_supply,'capital demand=',a_demand,'res_k=',res_k)\n",
    "    return res_k\n",
    "    \n",
    "def equilibrium_l(w,r,p_s):\n",
    "    a_supply,a_demand,l_supply,l_demand,s_supply,s_demand=capital_and_labor_and_service(w,r,p_s)\n",
    "    res_l=l_supply-l_demand\n",
    "    print('w=',w,'r=',r,'p_s=',p_s,'labor suply=',l_supply,'labor demand=',l_demand,'res_l=',res_l)\n",
    "    return res_l\n",
    "\n",
    "def equilibrium_s(w,r,p_s):\n",
    "    a_supply,a_demand,l_supply,l_demand,s_supply,s_demand=capital_and_labor_and_service(w,r,p_s)\n",
    "    res_s=s_supply-s_demand\n",
    "    print('w=',w,'r=',r,'p_s=',p_s,'service suply=',s_supply,'service demand=',s_demand,'res_s=',res_s)\n",
    "    return res_s"
   ]
  },
  {
   "cell_type": "code",
   "execution_count": null,
   "id": "aad47106",
   "metadata": {},
   "outputs": [],
   "source": [
    "## plot\n",
    "from tqdm import tqdm\n",
    "\n",
    "def labor_curve(wmin, wmax, wgrid_number,r,p_s):\n",
    "    wgrid = np.linspace(wmin, wmax, wgrid_number)\n",
    "    l_supply = np.zeros(wgrid_number)\n",
    "    l_demand = np.zeros(wgrid_number)\n",
    "    for i in tqdm(range(wgrid_number)):\n",
    "        w0 = wgrid[i]\n",
    "        capital_supply,capital_demand,l_supply[i],l_demand[i],service_supply,service_demand=capital_and_labor_and_service(w0,r,p_s) #capital 只是为了占位\n",
    "    return wgrid, l_supply, l_demand\n",
    "\n",
    "wgrid, labor_supply, labor_demand = labor_curve(\n",
    "    wmin=1.7, wmax=1.77, wgrid_number=11,r=r,p_s=p_s\n",
    ")"
   ]
  },
  {
   "cell_type": "code",
   "execution_count": 135,
   "id": "5ee4a8f9",
   "metadata": {},
   "outputs": [
    {
     "data": {
      "image/png": "[encoded data removed]",
      "text/plain": [
       "<Figure size 640x480 with 1 Axes>"
      ]
     },
     "metadata": {},
     "output_type": "display_data"
    }
   ],
   "source": [
    "#plot\n",
    "plt.scatter(l_supply,wgrid,label=\"labor_supply\")\n",
    "plt.scatter(l_demand,wgrid,label=\"labor_demand\")\n",
    "# plt.title('labor market')\n",
    "plt.ylabel('w')\n",
    "plt.xlabel('labor')\n",
    "plt.legend()\n",
    "plt.grid(True)"
   ]
  },
  {
   "cell_type": "markdown",
   "id": "b6705f6c",
   "metadata": {},
   "source": [
    "### given $p_s$, find $r$ and corresponding $w$ that clear both capital and labor markets"
   ]
  },
  {
   "cell_type": "code",
   "execution_count": 137,
   "id": "d5731467",
   "metadata": {},
   "outputs": [],
   "source": [
    "# nested bisection inner part: find equilibrium w given r and p_s\n",
    "def w_update(r,p_s,tol):\n",
    "    wmin = 1.5\n",
    "    wmax = 2.5\n",
    "    w0=1/2*(wmin+wmax)\n",
    "    error = np.inf\n",
    "    count = 0\n",
    "    max_iter = 1000\n",
    "    while count < max_iter and error > tol:\n",
    "        res = equilibrium_l(w0,r,p_s)\n",
    "        if np.abs(res) < 0.025:\n",
    "            w0=w0\n",
    "            break\n",
    "        if res < 0:\n",
    "            wmin=w0\n",
    "        if res > 0:\n",
    "            wmax=w0\n",
    "        w0=1/2*(wmin+wmax)\n",
    "        error = np.abs(wmax-wmin)\n",
    "        count = count + 1\n",
    "    if error > tol and np.abs(res) > 0.025:\n",
    "        print(\"Failed to converge!\")\n",
    "    else:\n",
    "        print(f\"\\nConverged in {count} iterations.\")\n",
    "    print(\"final w=\", w0)\n",
    "    return w0"
   ]
  },
  {
   "cell_type": "code",
   "execution_count": 142,
   "id": "9c67c2ee",
   "metadata": {},
   "outputs": [
    {
     "name": "stderr",
     "output_type": "stream",
     "text": [
      "  0%|          | 0/11 [00:00<?, ?it/s]"
     ]
    },
    {
     "name": "stdout",
     "output_type": "stream",
     "text": [
      "w= 2.0 r= 0.065 p_s= 1.31 labor suply= 0.9401139488775485 labor demand= 0.27404543439266055 res_l= 0.6660685144848879\n",
      "w= 1.75 r= 0.065 p_s= 1.31 labor suply= 0.8402508272082546 labor demand= 0.8167931258789425 res_l= 0.02345770132931213\n",
      "\n",
      "Converged in 1 iterations.\n",
      "final w= 1.75\n"
     ]
    },
    {
     "name": "stderr",
     "output_type": "stream",
     "text": [
      "  9%|▉         | 1/11 [00:30<05:04, 30.43s/it]"
     ]
    },
    {
     "name": "stdout",
     "output_type": "stream",
     "text": [
      "2.941918558534439 6.079127493765574\n",
      "w= 2.0 r= 0.066 p_s= 1.31 labor suply= 0.9401176945953896 labor demand= 0.27333102730302145 res_l= 0.6667866672923681\n",
      "w= 1.75 r= 0.066 p_s= 1.31 labor suply= 0.8402161359038527 labor demand= 0.8141426187739195 res_l= 0.02607351712993322\n",
      "w= 1.625 r= 0.066 p_s= 1.31 labor suply= 0.7757052711677854 labor demand= 1.3037540531650116 res_l= -0.5280487819972262\n",
      "w= 1.6875 r= 0.066 p_s= 1.31 labor suply= 0.776707838574432 labor demand= 1.1326054930168787 res_l= -0.3558976544424467\n",
      "w= 1.71875 r= 0.066 p_s= 1.31 labor suply= 0.7769853968181175 labor demand= 1.0661826247590176 res_l= -0.2891972279409001\n",
      "w= 1.734375 r= 0.066 p_s= 1.31 labor suply= 0.7771667688717225 labor demand= 1.0354570871398145 res_l= -0.258290318268092\n",
      "w= 1.7421875 r= 0.066 p_s= 1.31 labor suply= 0.7773217837133886 labor demand= 1.0163627204939114 res_l= -0.23904093678052285\n",
      "w= 1.74609375 r= 0.066 p_s= 1.31 labor suply= 0.8401905086983481 labor demand= 0.8189008638981988 res_l= 0.021289644800149277\n",
      "\n",
      "Converged in 7 iterations.\n",
      "final w= 1.74609375\n"
     ]
    },
    {
     "name": "stderr",
     "output_type": "stream",
     "text": [
      " 18%|█▊        | 2/11 [02:02<09:59, 66.57s/it]"
     ]
    },
    {
     "name": "stdout",
     "output_type": "stream",
     "text": [
      "2.9696245108237194 6.056434384508831\n",
      "w= 2.0 r= 0.067 p_s= 1.31 labor suply= 0.9406675227667821 labor demand= 0.26789503547377674 res_l= 0.6727724872930054\n",
      "w= 1.75 r= 0.067 p_s= 1.31 labor suply= 0.7836777354211739 labor demand= 0.9599022950747402 res_l= -0.17622455965356632\n",
      "w= 1.875 r= 0.067 p_s= 1.31 labor suply= 0.8631768038098148 labor demand= 0.5853993282685827 res_l= 0.2777774755412321\n",
      "w= 1.8125 r= 0.067 p_s= 1.31 labor suply= 0.8581894167609653 labor demand= 0.7007439861795883 res_l= 0.15744543058137694\n",
      "w= 1.78125 r= 0.067 p_s= 1.31 labor suply= 0.8391522378075332 labor demand= 0.7972014268775177 res_l= 0.041950810930015514\n",
      "w= 1.765625 r= 0.067 p_s= 1.31 labor suply= 0.8388772964144223 labor demand= 0.8197955582308101 res_l= 0.01908173818361225\n",
      "\n",
      "Converged in 5 iterations.\n",
      "final w= 1.765625\n"
     ]
    },
    {
     "name": "stderr",
     "output_type": "stream",
     "text": [
      " 27%|██▋       | 3/11 [03:13<09:10, 68.76s/it]"
     ]
    },
    {
     "name": "stdout",
     "output_type": "stream",
     "text": [
      "3.7750339217565463 6.148977016189538\n",
      "w= 2.0 r= 0.068 p_s= 1.31 labor suply= 0.9131485467621112 labor demand= 0.3637223414607786 res_l= 0.5494262053013326\n",
      "w= 1.75 r= 0.068 p_s= 1.31 labor suply= 0.7731909319389956 labor demand= 1.1129948567950434 res_l= -0.3398039248560478\n",
      "w= 1.875 r= 0.068 p_s= 1.31 labor suply= 0.8586687909344004 labor demand= 0.6177535778912706 res_l= 0.2409152130431298\n",
      "w= 1.8125 r= 0.068 p_s= 1.31 labor suply= 0.8581428385977641 labor demand= 0.7202866535464338 res_l= 0.13785618505133024\n",
      "w= 1.78125 r= 0.068 p_s= 1.31 labor suply= 0.8389610633120584 labor demand= 0.8316840138600808 res_l= 0.007277049451977602\n",
      "\n",
      "Converged in 4 iterations.\n",
      "final w= 1.78125\n"
     ]
    },
    {
     "name": "stderr",
     "output_type": "stream",
     "text": [
      " 36%|███▋      | 4/11 [04:14<07:39, 65.69s/it]"
     ]
    },
    {
     "name": "stdout",
     "output_type": "stream",
     "text": [
      "4.684142920260423 6.356726612192135\n",
      "w= 2.0 r= 0.069 p_s= 1.31 labor suply= 0.9099926453183587 labor demand= 0.3795293263027778 res_l= 0.5304633190155809\n",
      "w= 1.75 r= 0.069 p_s= 1.31 labor suply= 0.7727412487888873 labor demand= 1.1388497943267608 res_l= -0.36610854553787353\n",
      "w= 1.875 r= 0.069 p_s= 1.31 labor suply= 0.8562701689492711 labor demand= 0.6849617538119702 res_l= 0.17130841513730088\n",
      "w= 1.8125 r= 0.069 p_s= 1.31 labor suply= 0.855993978184616 labor demand= 0.774736429999117 res_l= 0.08125754818549902\n",
      "w= 1.78125 r= 0.069 p_s= 1.31 labor suply= 0.7710468910372158 labor demand= 1.132638080959014 res_l= -0.3615911899217982\n",
      "w= 1.796875 r= 0.069 p_s= 1.31 labor suply= 0.8507833598304039 labor demand= 0.9073984939515499 res_l= -0.05661513412114605\n",
      "w= 1.8046875 r= 0.069 p_s= 1.31 labor suply= 0.8509121943102426 labor demand= 0.8950976487792399 res_l= -0.044185454468997354\n",
      "w= 1.80859375 r= 0.069 p_s= 1.31 labor suply= 0.855895398168708 labor demand= 0.7851186744458979 res_l= 0.07077672372281008\n",
      "w= 1.806640625 r= 0.069 p_s= 1.31 labor suply= 0.8509796519438227 labor demand= 0.8921056859528407 res_l= -0.04112603400901793\n",
      "w= 1.8076171875 r= 0.069 p_s= 1.31 labor suply= 0.8558920795384998 labor demand= 0.7870963719435493 res_l= 0.06879570759495046\n",
      "w= 1.80712890625 r= 0.069 p_s= 1.31 labor suply= 0.8509796537682932 labor demand= 0.8915344966525994 res_l= -0.04055484288430622\n",
      "w= 1.807373046875 r= 0.069 p_s= 1.31 labor suply= 0.8509796744006959 labor demand= 0.8912453420194781 res_l= -0.04026566761878225\n",
      "w= 1.8074951171875 r= 0.069 p_s= 1.31 labor suply= 0.8509797220535308 labor demand= 0.8910823945424577 res_l= -0.04010267248892696\n",
      "w= 1.80755615234375 r= 0.069 p_s= 1.31 labor suply= 0.8558920339503047 labor demand= 0.7871710036272623 res_l= 0.06872103032304233\n",
      "w= 1.807525634765625 r= 0.069 p_s= 1.31 labor suply= 0.850979722056842 labor demand= 0.8910467567328723 res_l= -0.04006703467603023\n",
      "w= 1.8075408935546875 r= 0.069 p_s= 1.31 labor suply= 0.8558920339503047 labor demand= 0.7871866842745905 res_l= 0.06870534967571418\n",
      "w= 1.8075332641601562 r= 0.069 p_s= 1.31 labor suply= 0.850979722056842 labor demand= 0.8910378476312908 res_l= -0.040058125574448766\n",
      "\n",
      "Converged in 17 iterations.\n",
      "final w= 1.8075370788574219\n"
     ]
    },
    {
     "name": "stderr",
     "output_type": "stream",
     "text": [
      " 45%|████▌     | 5/11 [07:23<11:01, 110.24s/it]"
     ]
    },
    {
     "name": "stdout",
     "output_type": "stream",
     "text": [
      "7.536927779420379 7.030269525392723\n",
      "w= 2.0 r= 0.07 p_s= 1.31 labor suply= 0.9084185786578138 labor demand= 0.42811478560390454 res_l= 0.4803037930539093\n",
      "w= 1.75 r= 0.07 p_s= 1.31 labor suply= 0.7709307708468647 labor demand= 1.186298850856808 res_l= -0.4153680800099433\n",
      "w= 1.875 r= 0.07 p_s= 1.31 labor suply= 0.8549009118122592 labor demand= 0.7209087522590143 res_l= 0.13399215955324495\n",
      "w= 1.8125 r= 0.07 p_s= 1.31 labor suply= 0.8510737377112485 labor demand= 0.8739009782014335 res_l= -0.02282724049018503\n",
      "\n",
      "Converged in 3 iterations.\n",
      "final w= 1.8125\n"
     ]
    },
    {
     "name": "stderr",
     "output_type": "stream",
     "text": [
      " 55%|█████▍    | 6/11 [08:16<07:33, 90.63s/it] "
     ]
    },
    {
     "name": "stdout",
     "output_type": "stream",
     "text": [
      "7.502021427307967 6.86152734234015\n",
      "w= 2.0 r= 0.071 p_s= 1.31 labor suply= 0.9040464969651356 labor demand= 0.5102326626694227 res_l= 0.39381383429571293\n",
      "w= 1.75 r= 0.071 p_s= 1.31 labor suply= 0.7657886732979372 labor demand= 1.2858369542711099 res_l= -0.5200482809731727\n",
      "w= 1.875 r= 0.071 p_s= 1.31 labor suply= 0.851038935059372 labor demand= 0.8071025316684249 res_l= 0.043936403390947065\n",
      "w= 1.8125 r= 0.071 p_s= 1.31 labor suply= 0.8485064687805439 labor demand= 0.9257135900633997 res_l= -0.07720712128285578\n",
      "w= 1.84375 r= 0.071 p_s= 1.31 labor suply= 0.8485502115653556 labor demand= 0.8788747220293934 res_l= -0.030324510464037835\n",
      "w= 1.859375 r= 0.071 p_s= 1.31 labor suply= 0.8485883745435956 labor demand= 0.8500045579369069 res_l= -0.0014161833933112877\n",
      "\n",
      "Converged in 5 iterations.\n",
      "final w= 1.859375\n"
     ]
    },
    {
     "name": "stderr",
     "output_type": "stream",
     "text": [
      " 64%|██████▎   | 7/11 [09:37<05:49, 87.38s/it]"
     ]
    },
    {
     "name": "stdout",
     "output_type": "stream",
     "text": [
      "9.164111560820027 6.916447633868222\n",
      "w= 2.0 r= 0.072 p_s= 1.31 labor suply= 0.9015804526499761 labor demand= 0.5520806653088537 res_l= 0.3494997873411224\n",
      "w= 1.75 r= 0.072 p_s= 1.31 labor suply= 0.7654189083185751 labor demand= 1.3091786692649539 res_l= -0.5437597609463788\n",
      "w= 1.875 r= 0.072 p_s= 1.31 labor suply= 0.8483353213614951 labor demand= 0.8572236257534017 res_l= -0.008888304391906576\n",
      "\n",
      "Converged in 2 iterations.\n",
      "final w= 1.875\n"
     ]
    },
    {
     "name": "stderr",
     "output_type": "stream",
     "text": [
      " 73%|███████▎  | 8/11 [10:29<03:48, 76.22s/it]"
     ]
    },
    {
     "name": "stdout",
     "output_type": "stream",
     "text": [
      "11.972879796565715 7.132295943041353\n",
      "w= 2.0 r= 0.073 p_s= 1.31 labor suply= 0.8986583871828675 labor demand= 0.5856943439204217 res_l= 0.31296404326244576\n",
      "w= 1.75 r= 0.073 p_s= 1.31 labor suply= 0.7618687182331856 labor demand= 1.3574362619803224 res_l= -0.5955675437471368\n",
      "w= 1.875 r= 0.073 p_s= 1.31 labor suply= 0.8448330130075987 labor demand= 0.897869162238718 res_l= -0.05303614923111932\n",
      "w= 1.9375 r= 0.073 p_s= 1.31 labor suply= 0.8485621963494493 labor demand= 0.779350130999082 res_l= 0.06921206535036728\n",
      "w= 1.90625 r= 0.073 p_s= 1.31 labor suply= 0.8483663228978308 labor demand= 0.8232963988795662 res_l= 0.025069924018264578\n",
      "w= 1.890625 r= 0.073 p_s= 1.31 labor suply= 0.8452179787548569 labor demand= 0.872385637018479 res_l= -0.027167658263622108\n",
      "w= 1.8984375 r= 0.073 p_s= 1.31 labor suply= 0.8483381746774116 labor demand= 0.8363952677103479 res_l= 0.011942906967063682\n",
      "\n",
      "Converged in 6 iterations.\n",
      "final w= 1.8984375\n"
     ]
    },
    {
     "name": "stderr",
     "output_type": "stream",
     "text": [
      " 82%|████████▏ | 9/11 [12:31<03:01, 90.61s/it]"
     ]
    },
    {
     "name": "stdout",
     "output_type": "stream",
     "text": [
      "14.79306469836708 7.089639530462776\n",
      "w= 2.0 r= 0.074 p_s= 1.31 labor suply= 0.8986596737281694 labor demand= 0.594640332118243 res_l= 0.3040193416099264\n",
      "w= 1.75 r= 0.074 p_s= 1.31 labor suply= 0.7614311782238422 labor demand= 1.3764178344457847 res_l= -0.6149866562219425\n",
      "w= 1.875 r= 0.074 p_s= 1.31 labor suply= 0.8448333339453932 labor demand= 0.9082425936330755 res_l= -0.0634092596876823\n",
      "w= 1.9375 r= 0.074 p_s= 1.31 labor suply= 0.848562196173849 labor demand= 0.7864927077278128 res_l= 0.062069488446036214\n",
      "w= 1.90625 r= 0.074 p_s= 1.31 labor suply= 0.844862012922509 labor demand= 0.8582814095273689 res_l= -0.013419396604859912\n",
      "\n",
      "Converged in 4 iterations.\n",
      "final w= 1.90625\n"
     ]
    },
    {
     "name": "stderr",
     "output_type": "stream",
     "text": [
      " 91%|█████████ | 10/11 [14:04<01:31, 91.35s/it]"
     ]
    },
    {
     "name": "stdout",
     "output_type": "stream",
     "text": [
      "18.632924257982204 7.303119878796064\n",
      "w= 2.0 r= 0.075 p_s= 1.31 labor suply= 0.8986599771834544 labor demand= 0.5998086303853861 res_l= 0.29885134679806824\n",
      "w= 1.75 r= 0.075 p_s= 1.31 labor suply= 0.7622635477650841 labor demand= 1.381267183625784 res_l= -0.6190036358606998\n",
      "w= 1.875 r= 0.075 p_s= 1.31 labor suply= 0.844837118743217 labor demand= 0.9146682536493256 res_l= -0.0698311349061086\n",
      "w= 1.9375 r= 0.075 p_s= 1.31 labor suply= 0.8485626833924242 labor demand= 0.7906246932867146 res_l= 0.05793799010570966\n",
      "w= 1.90625 r= 0.075 p_s= 1.31 labor suply= 0.8449597323814162 labor demand= 0.8643611890954452 res_l= -0.01940145671402904\n",
      "\n",
      "Converged in 4 iterations.\n",
      "final w= 1.90625\n"
     ]
    },
    {
     "name": "stderr",
     "output_type": "stream",
     "text": [
      "100%|██████████| 11/11 [15:39<00:00, 85.38s/it]"
     ]
    },
    {
     "name": "stdout",
     "output_type": "stream",
     "text": [
      "23.52120460146468 7.376432381822564\n"
     ]
    },
    {
     "name": "stderr",
     "output_type": "stream",
     "text": [
      "\n"
     ]
    }
   ],
   "source": [
    "from tqdm import tqdm\n",
    "def capital_curve(rmin, rmax, rgrid_number,p_s):\n",
    "    rgrid = np.linspace(rmin, rmax, rgrid_number)\n",
    "    a_supply = np.zeros(rgrid_number)\n",
    "    a_demand = np.zeros(rgrid_number)\n",
    "    for i in tqdm(range(rgrid_number)):\n",
    "        r0 = rgrid[i]\n",
    "        w = w_update(r0,p_s,1e-5)\n",
    "        a_supply[i],a_demand[i],l_supply,l_demand,a,b=capital_and_labor_and_service(w,r0,p_s) #capital 只是为了占位\n",
    "        print(a_supply[i],a_demand[i])\n",
    "    return rgrid, a_supply, a_demand\n",
    "rgrid, k_supply, k_demand = capital_curve(\n",
    "     rmin=0.065, rmax=0.075, rgrid_number=11, p_s=p_s\n",
    ")"
   ]
  },
  {
   "cell_type": "code",
   "execution_count": 143,
   "id": "f64f4823",
   "metadata": {},
   "outputs": [
    {
     "data": {
      "image/png": "[encoded data removed]",
      "text/plain": [
       "<Figure size 640x480 with 1 Axes>"
      ]
     },
     "metadata": {},
     "output_type": "display_data"
    }
   ],
   "source": [
    "# Plot\n",
    "plt.scatter(k_supply,rgrid,label=\"capital_supply\")\n",
    "plt.scatter(k_demand,rgrid,label=\"capital_demand\")\n",
    "# plt.title('capital market with w=w_eq')\n",
    "plt.ylabel('r')\n",
    "# plt.xlim(0,2)\n",
    "plt.xlabel('asset')\n",
    "plt.legend()\n",
    "plt.grid(True)"
   ]
  },
  {
   "cell_type": "markdown",
   "id": "bc0f8a7c",
   "metadata": {},
   "source": [
    "### find $p_s$ and corresponding $r$ and $w$ that clear service, capital and labor markets"
   ]
  },
  {
   "cell_type": "code",
   "execution_count": 152,
   "id": "c26726d7",
   "metadata": {},
   "outputs": [],
   "source": [
    "# nested bisection middle part: find equilibrium r given p_s\n",
    "def r_update(p_s,tol):\n",
    "    rmin=0.06\n",
    "    rmax=0.08\n",
    "    r0=1/2*(rmin+rmax)\n",
    "    error = np.inf\n",
    "    count = 0\n",
    "    max_iter = 1000\n",
    "    while count < max_iter and error > tol:\n",
    "        w = w_update(r0,p_s,1e-4)\n",
    "        res_k = equilibrium_k(w,r0,p_s)\n",
    "        if np.abs(res_k) < 0.1:\n",
    "            r0=r0\n",
    "            break\n",
    "        if res_k < 0: \n",
    "            rmin=r0\n",
    "        if res_k > 0:\n",
    "            rmax=r0\n",
    "        r0 = 1/2*(rmin+rmax)\n",
    "        error = np.abs(rmax-rmin)\n",
    "        count = count + 1\n",
    "    if error > tol and np.abs(res_k) > 0.1:\n",
    "        print(\"Failed to converge!\")\n",
    "    else:\n",
    "        print(f\"\\nConverged in {count} iterations.\")\n",
    "    return r0"
   ]
  },
  {
   "cell_type": "code",
   "execution_count": 153,
   "id": "68cbdb9f",
   "metadata": {},
   "outputs": [
    {
     "name": "stderr",
     "output_type": "stream",
     "text": [
      "  0%|          | 0/11 [00:00<?, ?it/s]"
     ]
    },
    {
     "name": "stdout",
     "output_type": "stream",
     "text": [
      "w= 2.0 r= 0.07 p_s= 1.2 labor suply= 0.9404783036768942 labor demand= 0.2570031493575284 res_l= 0.6834751543193658\n",
      "w= 1.75 r= 0.07 p_s= 1.2 labor suply= 0.8481831390279324 labor demand= 0.7751104320423966 res_l= 0.0730727069855358\n",
      "w= 1.625 r= 0.07 p_s= 1.2 labor suply= 0.8399601709795789 labor demand= 1.0936919991357326 res_l= -0.2537318281561537\n",
      "w= 1.6875 r= 0.07 p_s= 1.2 labor suply= 0.8447655472477411 labor demand= 0.9126230943270536 res_l= -0.06785754707931246\n",
      "w= 1.71875 r= 0.07 p_s= 1.2 labor suply= 0.8449003024047933 labor demand= 0.8577978074939732 res_l= -0.012897505089179861\n",
      "\n",
      "Converged in 4 iterations.\n",
      "final w= 1.71875\n",
      "w= 1.71875 r= 0.07 p_s= 1.2 capital supply= 9.381416638524893 capital demand= 6.448270573555357 res_k= 2.9331460649695362\n",
      "w= 2.0 r= 0.065 p_s= 1.2 labor suply= 0.9682848593050791 labor demand= 0.12221504778435528 res_l= 0.8460698115207238\n",
      "w= 1.75 r= 0.065 p_s= 1.2 labor suply= 0.910618543204023 labor demand= 0.3814634118978653 res_l= 0.5291551313061578\n",
      "w= 1.625 r= 0.065 p_s= 1.2 labor suply= 0.8623238631979939 labor demand= 0.662674574945142 res_l= 0.1996492882528519\n",
      "w= 1.5625 r= 0.065 p_s= 1.2 labor suply= 0.8404388544430842 labor demand= 0.8333739700745717 res_l= 0.007064884368512492\n",
      "\n",
      "Converged in 3 iterations.\n",
      "final w= 1.5625\n",
      "w= 1.5625 r= 0.065 p_s= 1.2 capital supply= 2.880738202215436 capital demand= 5.56390789353637 res_k= -2.6831696913209337\n",
      "w= 2.0 r= 0.0675 p_s= 1.2 labor suply= 0.9683132166766631 labor demand= 0.11985774269115772 res_l= 0.8484554739855055\n",
      "w= 1.75 r= 0.0675 p_s= 1.2 labor suply= 0.8580647308594334 labor demand= 0.5593162816762866 res_l= 0.2987484491831468\n",
      "w= 1.625 r= 0.0675 p_s= 1.2 labor suply= 0.8524629661016957 labor demand= 0.8577752141821039 res_l= -0.0053122480804081995\n",
      "\n",
      "Converged in 2 iterations.\n",
      "final w= 1.625\n",
      "w= 1.625 r= 0.0675 p_s= 1.2 capital supply= 5.866458742495485 capital demand= 5.968654985817559 res_k= -0.10219624332207378\n",
      "w= 2.0 r= 0.06875 p_s= 1.2 labor suply= 0.9434774098823611 labor demand= 0.19499751865563494 res_l= 0.7484798912267261\n",
      "w= 1.75 r= 0.06875 p_s= 1.2 labor suply= 0.8531416879825807 labor demand= 0.6831122142084765 res_l= 0.17002947377410427\n",
      "w= 1.625 r= 0.06875 p_s= 1.2 labor suply= 0.8475678387769396 labor demand= 0.9705216327370232 res_l= -0.12295379396008355\n",
      "w= 1.6875 r= 0.06875 p_s= 1.2 labor suply= 0.8493225230128526 labor demand= 0.83802357085349 res_l= 0.011298952159362607\n",
      "\n",
      "Converged in 3 iterations.\n",
      "final w= 1.6875\n",
      "w= 1.6875 r= 0.06875 p_s= 1.2 capital supply= 7.567333181113837 capital demand= 6.1679029764811775 res_k= 1.3994302046326599\n",
      "w= 2.0 r= 0.068125 p_s= 1.2 labor suply= 0.9457532131273747 labor demand= 0.1826512531919714 res_l= 0.7631019599354033\n",
      "w= 1.75 r= 0.068125 p_s= 1.2 labor suply= 0.855017913780345 labor demand= 0.6425489670178367 res_l= 0.21246894676250827\n",
      "w= 1.625 r= 0.068125 p_s= 1.2 labor suply= 0.8501771252423733 labor demand= 0.919078979294903 res_l= -0.06890185405252969\n",
      "w= 1.6875 r= 0.068125 p_s= 1.2 labor suply= 0.8481768265387061 labor demand= 0.8568093063954163 res_l= -0.008632479856710229\n",
      "\n",
      "Converged in 3 iterations.\n",
      "final w= 1.6875\n",
      "w= 1.6875 r= 0.068125 p_s= 1.2 capital supply= 7.555300808072739 capital demand= 6.322470473630692 res_k= 1.2328303344420473\n",
      "w= 2.0 r= 0.0678125 p_s= 1.2 labor suply= 0.943517337636296 labor demand= 0.19654034537904586 res_l= 0.7469769922572501\n",
      "w= 1.75 r= 0.0678125 p_s= 1.2 labor suply= 0.8531255243675403 labor demand= 0.6860433262064506 res_l= 0.1670821981610897\n",
      "w= 1.625 r= 0.0678125 p_s= 1.2 labor suply= 0.8524691458172311 labor demand= 0.8554207853867357 res_l= -0.002951639569504616\n",
      "\n",
      "Converged in 2 iterations.\n",
      "final w= 1.625\n",
      "w= 1.625 r= 0.0678125 p_s= 1.2 capital supply= 5.865318860751749 capital demand= 5.940740856573977 res_k= -0.07542199582222775\n",
      "\n",
      "Converged in 5 iterations.\n",
      "w= 2.0 r= 0.0678125 p_s= 1.2 labor suply= 0.943517337636296 labor demand= 0.19654034537904586 res_l= 0.7469769922572501\n",
      "w= 1.75 r= 0.0678125 p_s= 1.2 labor suply= 0.8531255243675403 labor demand= 0.6860433262064506 res_l= 0.1670821981610897\n",
      "w= 1.625 r= 0.0678125 p_s= 1.2 labor suply= 0.8524691458172311 labor demand= 0.8554207853867357 res_l= -0.002951639569504616\n",
      "\n",
      "Converged in 2 iterations.\n",
      "final w= 1.625\n"
     ]
    },
    {
     "name": "stderr",
     "output_type": "stream",
     "text": [
      "  9%|▉         | 1/11 [05:59<59:54, 359.46s/it]"
     ]
    },
    {
     "name": "stdout",
     "output_type": "stream",
     "text": [
      "w= 2.0 r= 0.07 p_s= 1.22 labor suply= 0.9404681997435329 labor demand= 0.2682353794727296 res_l= 0.6722328202708033\n",
      "w= 1.75 r= 0.07 p_s= 1.22 labor suply= 0.8483015613302095 labor demand= 0.8111120560338254 res_l= 0.037189505296384096\n",
      "w= 1.625 r= 0.07 p_s= 1.22 labor suply= 0.8394350548959683 labor demand= 1.1707288170032188 res_l= -0.3312937621072506\n",
      "w= 1.6875 r= 0.07 p_s= 1.22 labor suply= 0.8447399883195164 labor demand= 0.9593058614947907 res_l= -0.11456587317527434\n",
      "w= 1.71875 r= 0.07 p_s= 1.22 labor suply= 0.8448891926385002 labor demand= 0.8993354799782985 res_l= -0.054446287339798394\n",
      "w= 1.734375 r= 0.07 p_s= 1.22 labor suply= 0.8451682189994478 labor demand= 0.8673831443859604 res_l= -0.022214925386512596\n",
      "\n",
      "Converged in 5 iterations.\n",
      "final w= 1.734375\n",
      "w= 1.734375 r= 0.07 p_s= 1.22 capital supply= 8.961505706894101 capital demand= 6.57125018506419 res_k= 2.3902555218299115\n",
      "w= 2.0 r= 0.065 p_s= 1.22 labor suply= 0.9660513539780056 labor demand= 0.1363993987533428 res_l= 0.8296519552246627\n",
      "w= 1.75 r= 0.065 p_s= 1.22 labor suply= 0.9094331213081872 labor demand= 0.41548678300044123 res_l= 0.493946338307746\n",
      "w= 1.625 r= 0.065 p_s= 1.22 labor suply= 0.8409573215524401 labor demand= 0.7797754721718879 res_l= 0.061181849380552156\n",
      "w= 1.5625 r= 0.065 p_s= 1.22 labor suply= 0.7763388222514259 labor demand= 1.0935916782475845 res_l= -0.3172528559961586\n",
      "w= 1.59375 r= 0.065 p_s= 1.22 labor suply= 0.8374278677253215 labor demand= 0.8514654368177021 res_l= -0.01403756909238063\n",
      "\n",
      "Converged in 4 iterations.\n",
      "final w= 1.59375\n",
      "w= 1.59375 r= 0.065 p_s= 1.22 capital supply= 2.978195198126142 capital demand= 5.787910281043169 res_k= -2.809715082917027\n",
      "w= 2.0 r= 0.0675 p_s= 1.22 labor suply= 0.9670570569188747 labor demand= 0.13363788782240682 res_l= 0.8334191690964678\n",
      "w= 1.75 r= 0.0675 p_s= 1.22 labor suply= 0.8579208288645453 labor demand= 0.6083043617272733 res_l= 0.24961646713727204\n",
      "w= 1.625 r= 0.0675 p_s= 1.22 labor suply= 0.7795167877592503 labor demand= 1.0907314291665422 res_l= -0.31121464140729194\n",
      "w= 1.6875 r= 0.0675 p_s= 1.22 labor suply= 0.856704287756886 labor demand= 0.7091095454516342 res_l= 0.14759474230525182\n",
      "w= 1.65625 r= 0.0675 p_s= 1.22 labor suply= 0.8502420164827947 labor demand= 0.911811764678905 res_l= -0.061569748196110274\n",
      "w= 1.671875 r= 0.0675 p_s= 1.22 labor suply= 0.8507430686816423 labor demand= 0.882763978193567 res_l= -0.03202090951192471\n",
      "w= 1.6796875 r= 0.0675 p_s= 1.22 labor suply= 0.8507571754940161 labor demand= 0.8702534347202727 res_l= -0.01949625922625664\n",
      "\n",
      "Converged in 6 iterations.\n",
      "final w= 1.6796875\n",
      "w= 1.6796875 r= 0.0675 p_s= 1.22 capital supply= 6.688176960971992 capital demand= 6.359077958721727 res_k= 0.3290990022502651\n",
      "w= 2.0 r= 0.06625 p_s= 1.22 labor suply= 0.9668648055820879 labor demand= 0.13496131147189652 res_l= 0.8319034941101914\n",
      "w= 1.75 r= 0.06625 p_s= 1.22 labor suply= 0.858568205373865 labor demand= 0.5830073472848859 res_l= 0.2755608580889791\n",
      "w= 1.625 r= 0.06625 p_s= 1.22 labor suply= 0.8413336856083542 labor demand= 0.8093071390947701 res_l= 0.03202654651358405\n",
      "w= 1.5625 r= 0.06625 p_s= 1.22 labor suply= 0.7741903787409914 labor demand= 1.181616543652106 res_l= -0.4074261649111146\n",
      "w= 1.59375 r= 0.06625 p_s= 1.22 labor suply= 0.7753671639379928 labor demand= 1.082049969156577 res_l= -0.30668280521858426\n",
      "w= 1.609375 r= 0.06625 p_s= 1.22 labor suply= 0.7755589041145946 labor demand= 1.0481979233852725 res_l= -0.2726390192706779\n",
      "w= 1.6171875 r= 0.06625 p_s= 1.22 labor suply= 0.83856415256141 labor demand= 0.8376281916678033 res_l= 0.0009359608936067021\n",
      "\n",
      "Converged in 6 iterations.\n",
      "final w= 1.6171875\n",
      "w= 1.6171875 r= 0.06625 p_s= 1.22 capital supply= 3.745097184329501 capital demand= 5.833484144764379 res_k= -2.0883869604348777\n",
      "w= 2.0 r= 0.066875 p_s= 1.22 labor suply= 0.9670239233011322 labor demand= 0.13440627178022324 res_l= 0.8326176515209089\n",
      "w= 1.75 r= 0.066875 p_s= 1.22 labor suply= 0.8586202256017884 labor demand= 0.5743291991587272 res_l= 0.28429102644306126\n",
      "w= 1.625 r= 0.066875 p_s= 1.22 labor suply= 0.8376213553113416 labor demand= 0.8870060734439176 res_l= -0.049384718132575944\n",
      "w= 1.6875 r= 0.066875 p_s= 1.22 labor suply= 0.8581382472378338 labor demand= 0.652813523046996 res_l= 0.2053247241908378\n",
      "w= 1.65625 r= 0.066875 p_s= 1.22 labor suply= 0.8563856833517468 labor demand= 0.7539539732336799 res_l= 0.10243171011806695\n",
      "w= 1.640625 r= 0.066875 p_s= 1.22 labor suply= 0.8561067136907061 labor demand= 0.7947661967303692 res_l= 0.06134051696033693\n",
      "w= 1.6328125 r= 0.066875 p_s= 1.22 labor suply= 0.8560922943765016 labor demand= 0.8046741273245672 res_l= 0.05141816705193436\n",
      "w= 1.62890625 r= 0.066875 p_s= 1.22 labor suply= 0.8553035676858386 labor demand= 0.8207526326098449 res_l= 0.034550935075993716\n",
      "w= 1.626953125 r= 0.066875 p_s= 1.22 labor suply= 0.8385877080869429 labor demand= 0.8786799551763942 res_l= -0.04009224708945125\n",
      "w= 1.6279296875 r= 0.066875 p_s= 1.22 labor suply= 0.8432080839390955 labor demand= 0.8504050846521303 res_l= -0.007197000713034751\n",
      "\n",
      "Converged in 9 iterations.\n",
      "final w= 1.6279296875\n",
      "w= 1.6279296875 r= 0.066875 p_s= 1.22 capital supply= 4.764428166717388 capital demand= 5.935457938671121 res_k= -1.1710297719537328\n",
      "w= 2.0 r= 0.06718750000000001 p_s= 1.22 labor suply= 0.9670415878097683 labor demand= 0.1342729302177153 res_l= 0.832768657592053\n",
      "w= 1.75 r= 0.06718750000000001 p_s= 1.22 labor suply= 0.8579253211401846 labor demand= 0.6087606056474355 res_l= 0.2491647154927491\n",
      "w= 1.625 r= 0.06718750000000001 p_s= 1.22 labor suply= 0.7716006550066918 labor demand= 1.1673243906776898 res_l= -0.39572373567099794\n",
      "w= 1.6875 r= 0.06718750000000001 p_s= 1.22 labor suply= 0.8566754470444262 labor demand= 0.7100177275310701 res_l= 0.14665771951335616\n",
      "w= 1.65625 r= 0.06718750000000001 p_s= 1.22 labor suply= 0.850245240706825 labor demand= 0.9127982824325276 res_l= -0.06255304172570264\n",
      "w= 1.671875 r= 0.06718750000000001 p_s= 1.22 labor suply= 0.8565617140290779 labor demand= 0.7320381163270838 res_l= 0.12452359770199406\n",
      "w= 1.6640625 r= 0.06718750000000001 p_s= 1.22 labor suply= 0.8503031688454408 labor demand= 0.9011596992460078 res_l= -0.050856530400567035\n",
      "w= 1.66796875 r= 0.06718750000000001 p_s= 1.22 labor suply= 0.8565472668574655 labor demand= 0.7362884313817544 res_l= 0.12025883547571115\n",
      "w= 1.666015625 r= 0.06718750000000001 p_s= 1.22 labor suply= 0.8564627055984879 labor demand= 0.7411921080315392 res_l= 0.11527059756694868\n",
      "w= 1.6650390625 r= 0.06718750000000001 p_s= 1.22 labor suply= 0.8564618717972857 labor demand= 0.7423277112250543 res_l= 0.11413416057223147\n",
      "w= 1.66455078125 r= 0.06718750000000001 p_s= 1.22 labor suply= 0.856461489827228 labor demand= 0.7428744831640801 res_l= 0.11358700666314792\n",
      "w= 1.664306640625 r= 0.06718750000000001 p_s= 1.22 labor suply= 0.8564608291912292 labor demand= 0.7432078940653993 res_l= 0.1132529351258299\n",
      "w= 1.6641845703125 r= 0.06718750000000001 p_s= 1.22 labor suply= 0.8503056099840696 labor demand= 0.9004589965875661 res_l= -0.05015338660349655\n",
      "w= 1.66424560546875 r= 0.06718750000000001 p_s= 1.22 labor suply= 0.856460826969121 labor demand= 0.7432717066948298 res_l= 0.11318912027429118\n",
      "\n",
      "Converged in 14 iterations.\n",
      "final w= 1.664215087890625\n",
      "w= 1.664215087890625 r= 0.06718750000000001 p_s= 1.22 capital supply= 4.491999767458411 capital demand= 5.258793257356365 res_k= -0.766793489897954\n",
      "w= 2.0 r= 0.06734375000000001 p_s= 1.22 labor suply= 0.9670570911753702 labor demand= 0.13368491038416397 res_l= 0.8333721807912062\n",
      "w= 1.75 r= 0.06734375000000001 p_s= 1.22 labor suply= 0.8579248649101786 labor demand= 0.6084879484160938 res_l= 0.24943691649408484\n",
      "w= 1.625 r= 0.06734375000000001 p_s= 1.22 labor suply= 0.7751126363996875 labor demand= 1.1179266814405533 res_l= -0.34281404504086577\n",
      "w= 1.6875 r= 0.06734375000000001 p_s= 1.22 labor suply= 0.8567051565873437 labor demand= 0.709435779808037 res_l= 0.14726937677930674\n",
      "w= 1.65625 r= 0.06734375000000001 p_s= 1.22 labor suply= 0.8502439927250528 labor demand= 0.9122979724071562 res_l= -0.062053979682103355\n",
      "w= 1.671875 r= 0.06734375000000001 p_s= 1.22 labor suply= 0.856630773796274 labor demand= 0.7312551672832487 res_l= 0.12537560651302526\n",
      "w= 1.6640625 r= 0.06734375000000001 p_s= 1.22 labor suply= 0.8564605406490909 labor demand= 0.743038503747665 res_l= 0.11342203690142594\n",
      "w= 1.66015625 r= 0.06734375000000001 p_s= 1.22 labor suply= 0.8502612774141745 labor demand= 0.9067567071368307 res_l= -0.0564954297226562\n",
      "w= 1.662109375 r= 0.06734375000000001 p_s= 1.22 labor suply= 0.8502679071378418 labor demand= 0.903543654418494 res_l= -0.05327574728065221\n",
      "w= 1.6630859375 r= 0.06734375000000001 p_s= 1.22 labor suply= 0.8503020495252939 labor demand= 0.901971958077639 res_l= -0.0516699085523451\n",
      "w= 1.66357421875 r= 0.06734375000000001 p_s= 1.22 labor suply= 0.8503057844840617 labor demand= 0.9005407637681305 res_l= -0.05023497928406884\n",
      "w= 1.663818359375 r= 0.06734375000000001 p_s= 1.22 labor suply= 0.8564604001283624 labor demand= 0.7433091713722239 res_l= 0.11315122875613859\n",
      "w= 1.6636962890625 r= 0.06734375000000001 p_s= 1.22 labor suply= 0.8564603862070991 labor demand= 0.7434370824125514 res_l= 0.11302330379454772\n",
      "w= 1.66363525390625 r= 0.06734375000000001 p_s= 1.22 labor suply= 0.8504713565524751 labor demand= 0.8996611852292351 res_l= -0.04918982867676003\n",
      "\n",
      "Converged in 14 iterations.\n",
      "final w= 1.663665771484375\n",
      "w= 1.663665771484375 r= 0.06734375000000001 p_s= 1.22 capital supply= 4.495555929360352 capital demand= 5.255079207811934 res_k= -0.7595232784515824\n",
      "w= 2.0 r= 0.067421875 p_s= 1.22 labor suply= 0.9670567899058926 labor demand= 0.13366259500381045 res_l= 0.8333941949020822\n",
      "w= 1.75 r= 0.067421875 p_s= 1.22 labor suply= 0.8579243172043263 labor demand= 0.6083589171315723 res_l= 0.24956540007275396\n",
      "w= 1.625 r= 0.067421875 p_s= 1.22 labor suply= 0.7794958963565942 labor demand= 1.089294979949209 res_l= -0.3097990835926149\n",
      "w= 1.6875 r= 0.067421875 p_s= 1.22 labor suply= 0.8567045755515034 labor demand= 0.7092702289909704 res_l= 0.147434346560533\n",
      "w= 1.65625 r= 0.067421875 p_s= 1.22 labor suply= 0.8502443844466472 labor demand= 0.911998968960217 res_l= -0.061754584513569855\n",
      "w= 1.671875 r= 0.067421875 p_s= 1.22 labor suply= 0.8566308587370769 labor demand= 0.7310573038907354 res_l= 0.12557355484634147\n",
      "w= 1.6640625 r= 0.067421875 p_s= 1.22 labor suply= 0.8504723124858214 labor demand= 0.898761380031309 res_l= -0.04828906754548756\n",
      "w= 1.66796875 r= 0.067421875 p_s= 1.22 labor suply= 0.8505878681624034 labor demand= 0.8895841744247579 res_l= -0.03899630626235451\n",
      "w= 1.669921875 r= 0.067421875 p_s= 1.22 labor suply= 0.8506064566310276 labor demand= 0.8869052074520271 res_l= -0.036298750820999426\n",
      "w= 1.6708984375 r= 0.067421875 p_s= 1.22 labor suply= 0.8566306264740404 labor demand= 0.7320909342310894 res_l= 0.12453969224295103\n",
      "w= 1.67041015625 r= 0.067421875 p_s= 1.22 labor suply= 0.8506888166943953 labor demand= 0.885474544907045 res_l= -0.03478572821264969\n",
      "w= 1.670654296875 r= 0.067421875 p_s= 1.22 labor suply= 0.8507427593092816 labor demand= 0.8846634053732837 res_l= -0.033920646064002136\n",
      "w= 1.6707763671875 r= 0.067421875 p_s= 1.22 labor suply= 0.8566306251526686 labor demand= 0.7322158281237495 res_l= 0.12441479702891911\n",
      "w= 1.67071533203125 r= 0.067421875 p_s= 1.22 labor suply= 0.8507427611625207 labor demand= 0.8845865572800207 res_l= -0.03384379611749999\n",
      "\n",
      "Converged in 14 iterations.\n",
      "final w= 1.670745849609375\n",
      "w= 1.670745849609375 r= 0.067421875 p_s= 1.22 capital supply= 4.465571329745524 capital demand= 5.202649302945129 res_k= -0.7370779731996047\n",
      "\n",
      "Converged in 8 iterations.\n",
      "w= 2.0 r= 0.06746093750000001 p_s= 1.22 labor suply= 0.9670575181644406 labor demand= 0.13364731346349915 res_l= 0.8334102047009415\n",
      "w= 1.75 r= 0.06746093750000001 p_s= 1.22 labor suply= 0.857920906195593 labor demand= 0.608372978932647 res_l= 0.24954792726294606\n",
      "w= 1.625 r= 0.06746093750000001 p_s= 1.22 labor suply= 0.7794992821775978 labor demand= 1.0891593248591538 res_l= -0.309660042681556\n",
      "w= 1.6875 r= 0.06746093750000001 p_s= 1.22 labor suply= 0.8567043730267507 labor demand= 0.7091921216845857 res_l= 0.14751225134216506\n",
      "w= 1.65625 r= 0.06746093750000001 p_s= 1.22 labor suply= 0.85024331297707 labor demand= 0.911906536844352 res_l= -0.06166322386728196\n",
      "w= 1.671875 r= 0.06746093750000001 p_s= 1.22 labor suply= 0.8507433554208347 labor demand= 0.8829335288730001 res_l= -0.03219017345216546\n",
      "w= 1.6796875 r= 0.06746093750000001 p_s= 1.22 labor suply= 0.8566378000108711 labor demand= 0.7220997048076017 res_l= 0.13453809520326943\n",
      "w= 1.67578125 r= 0.06746093750000001 p_s= 1.22 labor suply= 0.8507465408007304 labor demand= 0.8774476473395312 res_l= -0.026701106538800756\n",
      "w= 1.677734375 r= 0.06746093750000001 p_s= 1.22 labor suply= 0.8507510182066794 labor demand= 0.8741355187310432 res_l= -0.023384500524363805\n",
      "\n",
      "Converged in 8 iterations.\n",
      "final w= 1.677734375\n"
     ]
    },
    {
     "name": "stderr",
     "output_type": "stream",
     "text": [
      " 18%|█▊        | 2/11 [22:30<1:49:36, 730.74s/it]"
     ]
    },
    {
     "name": "stdout",
     "output_type": "stream",
     "text": [
      "w= 2.0 r= 0.07 p_s= 1.24 labor suply= 0.9074116426088399 labor demand= 0.3714460447590806 res_l= 0.5359655978497593\n",
      "w= 1.75 r= 0.07 p_s= 1.24 labor suply= 0.8482702707489276 labor demand= 0.853755435035399 res_l= -0.005485164286471389\n",
      "\n",
      "Converged in 1 iterations.\n",
      "final w= 1.75\n",
      "w= 1.75 r= 0.07 p_s= 1.24 capital supply= 8.390181405254346 capital demand= 6.529764228568259 res_k= 1.860417176686087\n",
      "w= 2.0 r= 0.065 p_s= 1.24 labor suply= 0.9656720442460873 labor demand= 0.14862716169748927 res_l= 0.8170448825485981\n",
      "w= 1.75 r= 0.065 p_s= 1.24 labor suply= 0.9090691065182993 labor demand= 0.444780156560287 res_l= 0.4642889499580123\n",
      "w= 1.625 r= 0.065 p_s= 1.24 labor suply= 0.8375326147190755 labor demand= 0.8512905216019908 res_l= -0.013757906882915338\n",
      "\n",
      "Converged in 2 iterations.\n",
      "final w= 1.625\n",
      "w= 1.625 r= 0.065 p_s= 1.24 capital supply= 2.993267719764165 capital demand= 5.905025499834202 res_k= -2.9117577800700367\n",
      "w= 2.0 r= 0.0675 p_s= 1.24 labor suply= 0.9135452750340285 labor demand= 0.29596586487376125 res_l= 0.6175794101602672\n",
      "w= 1.75 r= 0.0675 p_s= 1.24 labor suply= 0.8577192176478615 labor demand= 0.651536971679672 res_l= 0.20618224596818957\n",
      "w= 1.625 r= 0.0675 p_s= 1.24 labor suply= 0.7723226100046794 labor demand= 1.1768133551098898 res_l= -0.40449074510521044\n",
      "w= 1.6875 r= 0.0675 p_s= 1.24 labor suply= 0.8564856645580942 labor demand= 0.7628537970570511 res_l= 0.09363186750104302\n",
      "w= 1.65625 r= 0.0675 p_s= 1.24 labor suply= 0.7711251959780703 labor demand= 1.1264238733786611 res_l= -0.35529867740059085\n",
      "w= 1.671875 r= 0.0675 p_s= 1.24 labor suply= 0.8563075722147788 labor demand= 0.7995272697522513 res_l= 0.05678030246252752\n",
      "w= 1.6640625 r= 0.0675 p_s= 1.24 labor suply= 0.8553280971476251 labor demand= 0.8213849184006297 res_l= 0.033943178746995484\n",
      "w= 1.66015625 r= 0.0675 p_s= 1.24 labor suply= 0.7709200549291892 labor demand= 1.151582495297887 res_l= -0.3806624403686978\n",
      "w= 1.662109375 r= 0.0675 p_s= 1.24 labor suply= 0.777378705120682 labor demand= 1.1319209505009844 res_l= -0.35454224538030243\n",
      "w= 1.6630859375 r= 0.0675 p_s= 1.24 labor suply= 0.849637214832195 labor demand= 0.9578076282303514 res_l= -0.10817041339815636\n",
      "w= 1.66357421875 r= 0.0675 p_s= 1.24 labor suply= 0.8553176444139055 labor demand= 0.822231571020127 res_l= 0.03308607339377845\n",
      "w= 1.663330078125 r= 0.0675 p_s= 1.24 labor suply= 0.8499520845857887 labor demand= 0.9550080513227851 res_l= -0.10505596673699635\n",
      "w= 1.6634521484375 r= 0.0675 p_s= 1.24 labor suply= 0.8553174727168326 labor demand= 0.8223929237761816 res_l= 0.032924548940651\n",
      "w= 1.66339111328125 r= 0.0675 p_s= 1.24 labor suply= 0.8499520845857887 labor demand= 0.9549234169255539 res_l= -0.10497133233976519\n",
      "\n",
      "Converged in 14 iterations.\n",
      "final w= 1.663421630859375\n",
      "w= 1.663421630859375 r= 0.0675 p_s= 1.24 capital supply= 4.772295207410632 capital demand= 5.868856998387967 res_k= -1.0965617909773346\n",
      "w= 2.0 r= 0.06875 p_s= 1.24 labor suply= 0.9405109199780846 labor demand= 0.23440459465299998 res_l= 0.7061063253250845\n",
      "w= 1.75 r= 0.06875 p_s= 1.24 labor suply= 0.8529437551585641 labor demand= 0.7705157955288177 res_l= 0.08242795962974647\n",
      "w= 1.625 r= 0.06875 p_s= 1.24 labor suply= 0.7680361689431128 labor demand= 1.2874097588603046 res_l= -0.5193735899171918\n",
      "w= 1.6875 r= 0.06875 p_s= 1.24 labor suply= 0.8507339658177823 labor demand= 0.8909119072048585 res_l= -0.0401779413870762\n",
      "w= 1.71875 r= 0.06875 p_s= 1.24 labor suply= 0.8508315204842662 labor demand= 0.8427956719659145 res_l= 0.008035848518351707\n",
      "\n",
      "Converged in 4 iterations.\n",
      "final w= 1.71875\n",
      "w= 1.71875 r= 0.06875 p_s= 1.24 capital supply= 6.597702912684896 capital demand= 6.252647683945092 res_k= 0.34505522873980343\n",
      "w= 2.0 r= 0.068125 p_s= 1.24 labor suply= 0.9431347630631749 labor demand= 0.21770212705126973 res_l= 0.7254326360119052\n",
      "w= 1.75 r= 0.068125 p_s= 1.24 labor suply= 0.8534752590240352 labor demand= 0.7410370701370242 res_l= 0.11243818888701096\n",
      "w= 1.625 r= 0.068125 p_s= 1.24 labor suply= 0.7703068485108251 labor demand= 1.2288560007445148 res_l= -0.45854915223368975\n",
      "w= 1.6875 r= 0.068125 p_s= 1.24 labor suply= 0.8480222899990527 labor demand= 0.9551689942361323 res_l= -0.10714670423707962\n",
      "w= 1.71875 r= 0.068125 p_s= 1.24 labor suply= 0.8544405945426202 labor demand= 0.7663300005679232 res_l= 0.088110593974697\n",
      "w= 1.703125 r= 0.068125 p_s= 1.24 labor suply= 0.854419975941011 labor demand= 0.7855878638523817 res_l= 0.06883211208862938\n",
      "w= 1.6953125 r= 0.068125 p_s= 1.24 labor suply= 0.8543664006413869 labor demand= 0.7993441745929314 res_l= 0.055022226048455525\n",
      "w= 1.69140625 r= 0.068125 p_s= 1.24 labor suply= 0.8480365748591703 labor demand= 0.9397191609752739 res_l= -0.09168258611610358\n",
      "w= 1.693359375 r= 0.068125 p_s= 1.24 labor suply= 0.8480372370344335 labor demand= 0.9368628935396377 res_l= -0.08882565650520424\n",
      "w= 1.6943359375 r= 0.068125 p_s= 1.24 labor suply= 0.8543651570948998 labor demand= 0.8005318168033067 res_l= 0.053833340291593146\n",
      "w= 1.69384765625 r= 0.068125 p_s= 1.24 labor suply= 0.8480381524204149 labor demand= 0.9358368185491931 res_l= -0.08779866612877818\n",
      "w= 1.694091796875 r= 0.068125 p_s= 1.24 labor suply= 0.848038417175697 labor demand= 0.9353671109065959 res_l= -0.08732869373089891\n",
      "w= 1.6942138671875 r= 0.068125 p_s= 1.24 labor suply= 0.8543647876152749 labor demand= 0.8007219818899405 res_l= 0.05364280572533442\n",
      "w= 1.69415283203125 r= 0.068125 p_s= 1.24 labor suply= 0.8480384337044184 labor demand= 0.9352712399203148 res_l= -0.08723280621589635\n",
      "\n",
      "Converged in 14 iterations.\n",
      "final w= 1.694183349609375\n",
      "w= 1.694183349609375 r= 0.068125 p_s= 1.24 capital supply= 5.6080619681442965 capital demand= 5.7557706212070645 res_k= -0.14770865306276804\n",
      "w= 2.0 r= 0.06843750000000001 p_s= 1.24 labor suply= 0.9405122470606787 labor demand= 0.23454737675483353 res_l= 0.7059648703058452\n",
      "w= 1.75 r= 0.06843750000000001 p_s= 1.24 labor suply= 0.854759599852445 labor demand= 0.7227025407888241 res_l= 0.13205705906362086\n",
      "w= 1.625 r= 0.06843750000000001 p_s= 1.24 labor suply= 0.7703138701743265 labor demand= 1.2282558536867223 res_l= -0.4579419835123958\n",
      "w= 1.6875 r= 0.06843750000000001 p_s= 1.24 labor suply= 0.8506788915545219 labor demand= 0.8987352328857642 res_l= -0.04805634133124226\n",
      "w= 1.71875 r= 0.06843750000000001 p_s= 1.24 labor suply= 0.848100202221984 labor demand= 0.8932138517396366 res_l= -0.04511364951765262\n",
      "w= 1.734375 r= 0.06843750000000001 p_s= 1.24 labor suply= 0.8546469225064088 labor demand= 0.7422108306032231 res_l= 0.11243609190318571\n",
      "w= 1.7265625 r= 0.06843750000000001 p_s= 1.24 labor suply= 0.854594432066878 labor demand= 0.754228193034197 res_l= 0.10036623903268105\n",
      "w= 1.72265625 r= 0.06843750000000001 p_s= 1.24 labor suply= 0.8481014010364567 labor demand= 0.8878217809030313 res_l= -0.03972037986657462\n",
      "w= 1.724609375 r= 0.06843750000000001 p_s= 1.24 labor suply= 0.8545648384249964 labor demand= 0.757562507072201 res_l= 0.09700233135279546\n",
      "w= 1.7236328125 r= 0.06843750000000001 p_s= 1.24 labor suply= 0.8504247367330234 labor demand= 0.8623842578655652 res_l= -0.011959521132541728\n",
      "\n",
      "Converged in 9 iterations.\n",
      "final w= 1.7236328125\n",
      "w= 1.7236328125 r= 0.06843750000000001 p_s= 1.24 capital supply= 7.513078135804608 capital demand= 6.495399054215587 res_k= 1.017679081589021\n",
      "w= 2.0 r= 0.06828125000000002 p_s= 1.24 labor suply= 0.9431354365666236 labor demand= 0.21759791776295795 res_l= 0.7255375188036657\n",
      "w= 1.75 r= 0.06828125000000002 p_s= 1.24 labor suply= 0.8547619001158295 labor demand= 0.7229818546307824 res_l= 0.13178004548504718\n",
      "w= 1.625 r= 0.06828125000000002 p_s= 1.24 labor suply= 0.7703124877235709 labor demand= 1.229246704746323 res_l= -0.45893421702275206\n",
      "w= 1.6875 r= 0.06828125000000002 p_s= 1.24 labor suply= 0.8480235031651644 labor demand= 0.9535686299867955 res_l= -0.10554512682163109\n",
      "w= 1.71875 r= 0.06828125000000002 p_s= 1.24 labor suply= 0.8481010013508954 labor demand= 0.8938326532424773 res_l= -0.045731651891581904\n",
      "w= 1.734375 r= 0.06828125000000002 p_s= 1.24 labor suply= 0.8546574276670019 labor demand= 0.7418705231073092 res_l= 0.11278690455969276\n",
      "w= 1.7265625 r= 0.06828125000000002 p_s= 1.24 labor suply= 0.8545861637764909 labor demand= 0.7556271056305414 res_l= 0.09895905814594952\n",
      "w= 1.72265625 r= 0.06828125000000002 p_s= 1.24 labor suply= 0.8544429859397146 labor demand= 0.7615455069174577 res_l= 0.09289747902225687\n",
      "w= 1.720703125 r= 0.06828125000000002 p_s= 1.24 labor suply= 0.854441236927953 labor demand= 0.7637361348445609 res_l= 0.09070510208339211\n",
      "w= 1.7197265625 r= 0.06828125000000002 p_s= 1.24 labor suply= 0.8481010250731496 labor demand= 0.8925460952884295 res_l= -0.04444507021527999\n",
      "w= 1.72021484375 r= 0.06828125000000002 p_s= 1.24 labor suply= 0.8481010834536326 labor demand= 0.8919022866915866 res_l= -0.043801203237954\n",
      "w= 1.720458984375 r= 0.06828125000000002 p_s= 1.24 labor suply= 0.8544408875129035 labor demand= 0.7640117210971317 res_l= 0.09042916641577181\n",
      "w= 1.7203369140625 r= 0.06828125000000002 p_s= 1.24 labor suply= 0.8481010847284792 labor demand= 0.891742685663132 res_l= -0.04364160093465275\n",
      "w= 1.72039794921875 r= 0.06828125000000002 p_s= 1.24 labor suply= 0.8544408875129035 labor demand= 0.7640753786897827 res_l= 0.09036550882312078\n",
      "\n",
      "Converged in 14 iterations.\n",
      "final w= 1.720367431640625\n",
      "w= 1.720367431640625 r= 0.06828125000000002 p_s= 1.24 capital supply= 5.494905981714232 capital demand= 5.601811209225567 res_k= -0.10690522751133535\n",
      "w= 2.0 r= 0.06835937500000001 p_s= 1.24 labor suply= 0.9431636569801266 labor demand= 0.21654122407712942 res_l= 0.7266224329029972\n",
      "w= 1.75 r= 0.06835937500000001 p_s= 1.24 labor suply= 0.8547611747605663 labor demand= 0.7228289508067794 res_l= 0.1319322239537869\n",
      "w= 1.625 r= 0.06835937500000001 p_s= 1.24 labor suply= 0.770310287342105 labor demand= 1.228814447367575 res_l= -0.45850416002547\n",
      "w= 1.6875 r= 0.06835937500000001 p_s= 1.24 labor suply= 0.8486885316179971 labor demand= 0.9132213003228566 res_l= -0.06453276870485958\n",
      "w= 1.71875 r= 0.06835937500000001 p_s= 1.24 labor suply= 0.8481005707357676 labor demand= 0.8935285908334066 res_l= -0.04542802009763902\n",
      "w= 1.734375 r= 0.06835937500000001 p_s= 1.24 labor suply= 0.854647378275965 labor demand= 0.7423804521758963 res_l= 0.11226692610006872\n",
      "w= 1.7265625 r= 0.06835937500000001 p_s= 1.24 labor suply= 0.8545887834523884 labor demand= 0.7553253926252715 res_l= 0.09926339082711688\n",
      "w= 1.72265625 r= 0.06835937500000001 p_s= 1.24 labor suply= 0.8481026121266394 labor demand= 0.8881260898424471 res_l= -0.04002347771580772\n",
      "w= 1.724609375 r= 0.06835937500000001 p_s= 1.24 labor suply= 0.8545654289548394 labor demand= 0.7577596752036166 res_l= 0.0968057537512228\n",
      "w= 1.7236328125 r= 0.06835937500000001 p_s= 1.24 labor suply= 0.8504253939468438 labor demand= 0.8627058580422721 res_l= -0.012280464095428267\n",
      "\n",
      "Converged in 9 iterations.\n",
      "final w= 1.7236328125\n",
      "w= 1.7236328125 r= 0.06835937500000001 p_s= 1.24 capital supply= 7.50833221342791 capital demand= 6.499781885410414 res_k= 1.0085503280174963\n",
      "\n",
      "Converged in 8 iterations.\n",
      "w= 2.0 r= 0.06832031250000001 p_s= 1.24 labor suply= 0.9431352341108123 labor demand= 0.21758186137710409 res_l= 0.7255533727337082\n",
      "w= 1.75 r= 0.06832031250000001 p_s= 1.24 labor suply= 0.8547613046307104 labor demand= 0.7229091661643043 res_l= 0.1318521384664061\n",
      "w= 1.625 r= 0.06832031250000001 p_s= 1.24 labor suply= 0.7703101973923595 labor demand= 1.2290898195592863 res_l= -0.4587796221669268\n",
      "w= 1.6875 r= 0.06832031250000001 p_s= 1.24 labor suply= 0.8486765410678694 labor demand= 0.9213263600058208 res_l= -0.07264981893795142\n",
      "w= 1.71875 r= 0.06832031250000001 p_s= 1.24 labor suply= 0.8481009823987453 labor demand= 0.8936747251428835 res_l= -0.04557374274413817\n",
      "w= 1.734375 r= 0.06832031250000001 p_s= 1.24 labor suply= 0.8546473559563891 labor demand= 0.7424716324367195 res_l= 0.11217572351966953\n",
      "w= 1.7265625 r= 0.06832031250000001 p_s= 1.24 labor suply= 0.8545861088824392 labor demand= 0.7555190949068411 res_l= 0.09906701397559814\n",
      "w= 1.72265625 r= 0.06832031250000001 p_s= 1.24 labor suply= 0.8481026329554207 labor demand= 0.8882954081759933 res_l= -0.04019277522057263\n",
      "w= 1.724609375 r= 0.06832031250000001 p_s= 1.24 labor suply= 0.8545654468575415 labor demand= 0.757863718313891 res_l= 0.09670172854365056\n",
      "w= 1.7236328125 r= 0.06832031250000001 p_s= 1.24 labor suply= 0.8504254059130666 labor demand= 0.8628726365073036 res_l= -0.012447230594237024\n",
      "\n",
      "Converged in 9 iterations.\n",
      "final w= 1.7236328125\n"
     ]
    },
    {
     "name": "stderr",
     "output_type": "stream",
     "text": [
      " 27%|██▋       | 3/11 [38:08<1:50:05, 825.73s/it]"
     ]
    },
    {
     "name": "stdout",
     "output_type": "stream",
     "text": [
      "w= 2.0 r= 0.07 p_s= 1.26 labor suply= 0.9073320518859804 labor demand= 0.39182161205814947 res_l= 0.515510439827831\n",
      "w= 1.75 r= 0.07 p_s= 1.26 labor suply= 0.8482332839757669 labor demand= 0.9005034175308126 res_l= -0.05227013355504573\n",
      "w= 1.875 r= 0.07 p_s= 1.26 labor suply= 0.8533967206766944 labor demand= 0.6640212421834059 res_l= 0.1893754784932885\n",
      "w= 1.8125 r= 0.07 p_s= 1.26 labor suply= 0.8512252165239576 labor demand= 0.7560073529304544 res_l= 0.09521786359350315\n",
      "w= 1.78125 r= 0.07 p_s= 1.26 labor suply= 0.8483281833664144 labor demand= 0.8502093175357629 res_l= -0.0018811341693485417\n",
      "\n",
      "Converged in 4 iterations.\n",
      "final w= 1.78125\n",
      "w= 1.78125 r= 0.07 p_s= 1.26 capital supply= 8.329349690575382 capital demand= 6.627613524534393 res_k= 1.7017361660409893\n",
      "w= 2.0 r= 0.065 p_s= 1.26 labor suply= 0.9454820047215589 labor demand= 0.22006702372496947 res_l= 0.7254149809965894\n",
      "w= 1.75 r= 0.065 p_s= 1.26 labor suply= 0.8580761175749851 labor demand= 0.686280983216491 res_l= 0.17179513435849414\n",
      "w= 1.625 r= 0.065 p_s= 1.26 labor suply= 0.7764520137897676 labor demand= 1.1106350538674263 res_l= -0.33418304007765876\n",
      "w= 1.6875 r= 0.065 p_s= 1.26 labor suply= 0.8407566017248748 labor demand= 0.7847290007562688 res_l= 0.05602760096860593\n",
      "w= 1.65625 r= 0.065 p_s= 1.26 labor suply= 0.837616164894113 labor demand= 0.845774155612367 res_l= -0.008157990718254071\n",
      "\n",
      "Converged in 4 iterations.\n",
      "final w= 1.65625\n",
      "w= 1.65625 r= 0.065 p_s= 1.26 capital supply= 2.9793889062403767 capital demand= 5.941676473348975 res_k= -2.9622875671085986\n",
      "w= 2.0 r= 0.0675 p_s= 1.26 labor suply= 0.9455837445570301 labor demand= 0.2141203678187996 res_l= 0.7314633767382305\n",
      "w= 1.75 r= 0.0675 p_s= 1.26 labor suply= 0.857511904152396 labor demand= 0.6982919842049888 res_l= 0.15921991994740714\n",
      "w= 1.625 r= 0.0675 p_s= 1.26 labor suply= 0.7721370774590953 labor demand= 1.242103086504797 res_l= -0.46996600904570174\n",
      "w= 1.6875 r= 0.0675 p_s= 1.26 labor suply= 0.7741455378878039 labor demand= 1.0779583209748926 res_l= -0.3038127830870887\n",
      "w= 1.71875 r= 0.0675 p_s= 1.26 labor suply= 0.8571179991513853 labor demand= 0.7574496103107078 res_l= 0.09966838884067752\n",
      "w= 1.703125 r= 0.0675 p_s= 1.26 labor suply= 0.857081533719494 labor demand= 0.7781327134966256 res_l= 0.07894882022286842\n",
      "w= 1.6953125 r= 0.0675 p_s= 1.26 labor suply= 0.8389186823447451 labor demand= 0.8418392255848063 res_l= -0.002920543240061191\n",
      "\n",
      "Converged in 6 iterations.\n",
      "final w= 1.6953125\n",
      "w= 1.6953125 r= 0.0675 p_s= 1.26 capital supply= 4.659728992756054 capital demand= 6.144585895114184 res_k= -1.4848569023581302\n",
      "w= 2.0 r= 0.06875 p_s= 1.26 labor suply= 0.9134123578212208 labor demand= 0.3112471854483418 res_l= 0.6021651723728789\n",
      "w= 1.75 r= 0.06875 p_s= 1.26 labor suply= 0.8528760759394863 labor demand= 0.8109641502554442 res_l= 0.04191192568404212\n",
      "w= 1.625 r= 0.06875 p_s= 1.26 labor suply= 0.765046397166444 labor demand= 1.4181078852049323 res_l= -0.6530614880384883\n",
      "w= 1.6875 r= 0.06875 p_s= 1.26 labor suply= 0.771047804043868 labor demand= 1.1384459385219319 res_l= -0.3673981344780639\n",
      "w= 1.71875 r= 0.06875 p_s= 1.26 labor suply= 0.8506914935107753 labor demand= 0.8935727161098517 res_l= -0.04288122259907634\n",
      "w= 1.734375 r= 0.06875 p_s= 1.26 labor suply= 0.8526305423122879 labor demand= 0.8486340825595271 res_l= 0.00399645975276075\n",
      "\n",
      "Converged in 5 iterations.\n",
      "final w= 1.734375\n",
      "w= 1.734375 r= 0.06875 p_s= 1.26 capital supply= 6.598437111323878 capital demand= 6.389017715079979 res_k= 0.2094193962438986\n",
      "w= 2.0 r= 0.068125 p_s= 1.26 labor suply= 0.9407591019949797 labor demand= 0.23537975191960941 res_l= 0.7053793500753702\n",
      "w= 1.75 r= 0.068125 p_s= 1.26 labor suply= 0.8528687060622814 labor demand= 0.8147897722521737 res_l= 0.03807893381010763\n",
      "w= 1.625 r= 0.068125 p_s= 1.26 labor suply= 0.7701324931993943 labor demand= 1.3020876296491737 res_l= -0.5319551364497794\n",
      "w= 1.6875 r= 0.068125 p_s= 1.26 labor suply= 0.7741625447293562 labor demand= 1.0737203147444658 res_l= -0.29955777001510964\n",
      "w= 1.71875 r= 0.068125 p_s= 1.26 labor suply= 0.8542222986909346 labor demand= 0.8328493360592876 res_l= 0.021372962631647008\n",
      "\n",
      "Converged in 4 iterations.\n",
      "final w= 1.71875\n",
      "w= 1.71875 r= 0.068125 p_s= 1.26 capital supply= 5.710513418800954 capital demand= 6.177485391561882 res_k= -0.4669719727609287\n",
      "w= 2.0 r= 0.06843750000000001 p_s= 1.26 labor suply= 0.9101845895902091 labor demand= 0.3295525519250317 res_l= 0.5806320376651775\n",
      "w= 1.75 r= 0.06843750000000001 p_s= 1.26 labor suply= 0.8546917685476242 labor demand= 0.7585777917873939 res_l= 0.09611397676023026\n",
      "w= 1.625 r= 0.06843750000000001 p_s= 1.26 labor suply= 0.7701441469531966 labor demand= 1.2965466060234097 res_l= -0.5264024590702131\n",
      "w= 1.6875 r= 0.06843750000000001 p_s= 1.26 labor suply= 0.7692700131651762 labor demand= 1.1587393493781977 res_l= -0.3894693362130215\n",
      "w= 1.71875 r= 0.06843750000000001 p_s= 1.26 labor suply= 0.8480396664558119 labor demand= 0.9498268087997846 res_l= -0.10178714234397279\n",
      "w= 1.734375 r= 0.06843750000000001 p_s= 1.26 labor suply= 0.8544361166920831 labor demand= 0.7961746216049901 res_l= 0.058261495087092996\n",
      "w= 1.7265625 r= 0.06843750000000001 p_s= 1.26 labor suply= 0.8544286498286786 labor demand= 0.8058947310783076 res_l= 0.04853391875037105\n",
      "w= 1.72265625 r= 0.06843750000000001 p_s= 1.26 labor suply= 0.848044945308189 labor demand= 0.9435895065261558 res_l= -0.09554456121796684\n",
      "w= 1.724609375 r= 0.06843750000000001 p_s= 1.26 labor suply= 0.8544019095960413 labor demand= 0.808486700443873 res_l= 0.04591520915216829\n",
      "w= 1.7236328125 r= 0.06843750000000001 p_s= 1.26 labor suply= 0.8544015250738705 labor demand= 0.809619655430751 res_l= 0.044781869643119476\n",
      "w= 1.72314453125 r= 0.06843750000000001 p_s= 1.26 labor suply= 0.8503626385622117 labor demand= 0.9188582129944033 res_l= -0.06849557443219156\n",
      "w= 1.723388671875 r= 0.06843750000000001 p_s= 1.26 labor suply= 0.8503626594332923 labor demand= 0.9185233651917011 res_l= -0.06816070575840882\n",
      "w= 1.7235107421875 r= 0.06843750000000001 p_s= 1.26 labor suply= 0.8503626594502618 labor demand= 0.9183590619506091 res_l= -0.06799640250034733\n",
      "w= 1.72357177734375 r= 0.06843750000000001 p_s= 1.26 labor suply= 0.8503626595774377 labor demand= 0.9182769219796835 res_l= -0.06791426240224574\n",
      "\n",
      "Converged in 14 iterations.\n",
      "final w= 1.723602294921875\n",
      "w= 1.723602294921875 r= 0.06843750000000001 p_s= 1.26 capital supply= 7.644891348405713 capital demand= 6.940755474628067 res_k= 0.7041358737776457\n",
      "w= 2.0 r= 0.06828125000000002 p_s= 1.26 labor suply= 0.9407592329306858 labor demand= 0.23528779428047544 res_l= 0.7054714386502103\n",
      "w= 1.75 r= 0.06828125000000002 p_s= 1.26 labor suply= 0.8546930237456055 labor demand= 0.7589145164396726 res_l= 0.09577850730593296\n",
      "w= 1.625 r= 0.06828125000000002 p_s= 1.26 labor suply= 0.7701287054505968 labor demand= 1.3011174394125018 res_l= -0.530988733961905\n",
      "w= 1.6875 r= 0.06828125000000002 p_s= 1.26 labor suply= 0.7686843874913518 labor demand= 1.19808205335595 res_l= -0.42939766586459815\n",
      "w= 1.71875 r= 0.06828125000000002 p_s= 1.26 labor suply= 0.8542210585344443 labor demand= 0.8324231364536959 res_l= 0.021797922080748378\n",
      "\n",
      "Converged in 4 iterations.\n",
      "final w= 1.71875\n",
      "w= 1.71875 r= 0.06828125000000002 p_s= 1.26 capital supply= 5.714722018407839 capital demand= 6.1717555981520995 res_k= -0.4570335797442606\n",
      "w= 2.0 r= 0.06835937500000001 p_s= 1.26 labor suply= 0.9407586835657729 labor demand= 0.23524712348193752 res_l= 0.7055115600838353\n",
      "w= 1.75 r= 0.06835937500000001 p_s= 1.26 labor suply= 0.8546918167113525 labor demand= 0.7587612159278175 res_l= 0.09593060078353499\n",
      "w= 1.625 r= 0.06835937500000001 p_s= 1.26 labor suply= 0.7701317866550235 labor demand= 1.3005538772223249 res_l= -0.5304220905673014\n",
      "w= 1.6875 r= 0.06835937500000001 p_s= 1.26 labor suply= 0.7686830942644319 labor demand= 1.1969807467153672 res_l= -0.4282976524509353\n",
      "w= 1.71875 r= 0.06835937500000001 p_s= 1.26 labor suply= 0.8480395588684013 labor demand= 0.9502858853547328 res_l= -0.10224632648633147\n",
      "w= 1.734375 r= 0.06835937500000001 p_s= 1.26 labor suply= 0.8544360984291954 labor demand= 0.7963728685890673 res_l= 0.05806322984012813\n",
      "w= 1.7265625 r= 0.06835937500000001 p_s= 1.26 labor suply= 0.8544286801432944 labor demand= 0.8061345465034706 res_l= 0.04829413363982382\n",
      "w= 1.72265625 r= 0.06835937500000001 p_s= 1.26 labor suply= 0.8480449635573402 labor demand= 0.9439234076481412 res_l= -0.09587844409080104\n",
      "w= 1.724609375 r= 0.06835937500000001 p_s= 1.26 labor suply= 0.8544021535629375 labor demand= 0.8087215002392353 res_l= 0.04568065332370219\n",
      "w= 1.7236328125 r= 0.06835937500000001 p_s= 1.26 labor suply= 0.8503627046544687 labor demand= 0.9185288497456291 res_l= -0.06816614509116037\n",
      "w= 1.72412109375 r= 0.06835937500000001 p_s= 1.26 labor suply= 0.8544016841663161 labor demand= 0.8092769261087568 res_l= 0.04512475805755933\n",
      "w= 1.723876953125 r= 0.06835937500000001 p_s= 1.26 labor suply= 0.8503627443270978 labor demand= 0.9181936634941722 res_l= -0.0678309191670744\n",
      "w= 1.7239990234375 r= 0.06835937500000001 p_s= 1.26 labor suply= 0.854401684020805 labor demand= 0.8094116097630698 res_l= 0.04499007425773516\n",
      "w= 1.72393798828125 r= 0.06835937500000001 p_s= 1.26 labor suply= 0.854401684020805 labor demand= 0.8094789608329965 res_l= 0.04492272318780843\n",
      "\n",
      "Converged in 14 iterations.\n",
      "final w= 1.723907470703125\n",
      "w= 1.723907470703125 r= 0.06835937500000001 p_s= 1.26 capital supply= 7.6439985835487105 capital demand= 6.943948856159987 res_k= 0.7000497273887234\n",
      "\n",
      "Converged in 8 iterations.\n",
      "w= 2.0 r= 0.06832031250000001 p_s= 1.26 labor suply= 0.9407591812816096 labor demand= 0.23526751647716712 res_l= 0.7054916648044425\n",
      "w= 1.75 r= 0.06832031250000001 p_s= 1.26 labor suply= 0.8546930123208114 labor demand= 0.7588223465568126 res_l= 0.09587066576399883\n",
      "w= 1.625 r= 0.06832031250000001 p_s= 1.26 labor suply= 0.7701286464545967 labor demand= 1.3008614908488834 res_l= -0.5307328443942867\n",
      "w= 1.6875 r= 0.06832031250000001 p_s= 1.26 labor suply= 0.7686855755942814 labor demand= 1.197113420964751 res_l= -0.4284278453704695\n",
      "w= 1.71875 r= 0.06832031250000001 p_s= 1.26 labor suply= 0.854241722005401 labor demand= 0.8191524106426866 res_l= 0.035089311362714426\n",
      "w= 1.703125 r= 0.06832031250000001 p_s= 1.26 labor suply= 0.8480236968113701 labor demand= 0.975829030127172 res_l= -0.1278053333158019\n",
      "w= 1.7109375 r= 0.06832031250000001 p_s= 1.26 labor suply= 0.8480358263424368 labor demand= 0.9624009737422176 res_l= -0.11436514739978076\n",
      "w= 1.71484375 r= 0.06832031250000001 p_s= 1.26 labor suply= 0.8480382774191075 labor demand= 0.9562383394901658 res_l= -0.10820006207105826\n",
      "w= 1.716796875 r= 0.06832031250000001 p_s= 1.26 labor suply= 0.8480389276999962 labor demand= 0.9532962876236895 res_l= -0.10525735992369323\n",
      "w= 1.7177734375 r= 0.06832031250000001 p_s= 1.26 labor suply= 0.8480393082559922 labor demand= 0.9518848656319213 res_l= -0.10384555737592915\n",
      "w= 1.71826171875 r= 0.06832031250000001 p_s= 1.26 labor suply= 0.8542201013716659 labor demand= 0.8329027091683975 res_l= 0.021317392203268448\n",
      "\n",
      "Converged in 10 iterations.\n",
      "final w= 1.71826171875\n"
     ]
    },
    {
     "name": "stderr",
     "output_type": "stream",
     "text": [
      " 36%|███▋      | 4/11 [52:07<1:36:56, 830.95s/it]"
     ]
    },
    {
     "name": "stdout",
     "output_type": "stream",
     "text": [
      "w= 2.0 r= 0.07 p_s= 1.28 labor suply= 0.907278390676493 labor demand= 0.4158289680955615 res_l= 0.49144942258093144\n",
      "w= 1.75 r= 0.07 p_s= 1.28 labor suply= 0.8480868896514686 labor demand= 0.9486999681945861 res_l= -0.10061307854311752\n",
      "w= 1.875 r= 0.07 p_s= 1.28 labor suply= 0.8533637447620239 labor demand= 0.6980008157892954 res_l= 0.15536292897272852\n",
      "w= 1.8125 r= 0.07 p_s= 1.28 labor suply= 0.8511354430163993 labor demand= 0.7999497786881856 res_l= 0.0511856643282137\n",
      "w= 1.78125 r= 0.07 p_s= 1.28 labor suply= 0.8482301673937815 labor demand= 0.8975110843690138 res_l= -0.04928091697523229\n",
      "w= 1.796875 r= 0.07 p_s= 1.28 labor suply= 0.8510164427874741 labor demand= 0.8213855433844597 res_l= 0.029630899403014443\n",
      "w= 1.7890625 r= 0.07 p_s= 1.28 labor suply= 0.8508911254532742 labor demand= 0.8358089577649488 res_l= 0.015082167688325376\n",
      "\n",
      "Converged in 6 iterations.\n",
      "final w= 1.7890625\n",
      "w= 1.7890625 r= 0.07 p_s= 1.28 capital supply= 7.39951216198157 capital demand= 6.452610682788945 res_k= 0.9469014791926247\n",
      "w= 2.0 r= 0.065 p_s= 1.28 labor suply= 0.9453397130689228 labor demand= 0.23631309706806886 res_l= 0.709026616000854\n",
      "w= 1.75 r= 0.065 p_s= 1.28 labor suply= 0.8432348206993048 labor demand= 0.7308218906300016 res_l= 0.1124129300693032\n",
      "w= 1.625 r= 0.065 p_s= 1.28 labor suply= 0.7761380150818606 labor demand= 1.1796520933819563 res_l= -0.40351407830009567\n",
      "w= 1.6875 r= 0.065 p_s= 1.28 labor suply= 0.7831935010013381 labor demand= 0.9787227085105621 res_l= -0.19552920750922398\n",
      "w= 1.71875 r= 0.065 p_s= 1.28 labor suply= 0.8409255053527541 labor demand= 0.7809937346730134 res_l= 0.05993177067974076\n",
      "w= 1.703125 r= 0.065 p_s= 1.28 labor suply= 0.8404928848388186 labor demand= 0.8087444746131803 res_l= 0.031748410225638235\n",
      "w= 1.6953125 r= 0.065 p_s= 1.28 labor suply= 0.8378178996703857 labor demand= 0.8352249010008136 res_l= 0.0025929986695720775\n",
      "\n",
      "Converged in 6 iterations.\n",
      "final w= 1.6953125\n",
      "w= 1.6953125 r= 0.065 p_s= 1.28 capital supply= 2.979002346672752 capital demand= 6.0102780657909065 res_k= -3.0312757191181543\n",
      "w= 2.0 r= 0.0675 p_s= 1.28 labor suply= 0.9101011060127443 labor demand= 0.35082878825111097 res_l= 0.5592723177616333\n",
      "w= 1.75 r= 0.0675 p_s= 1.28 labor suply= 0.8579984859838383 labor demand= 0.7143870817618774 res_l= 0.14361140422196095\n",
      "w= 1.625 r= 0.0675 p_s= 1.28 labor suply= 0.7718895473489812 labor demand= 1.325123793164991 res_l= -0.5532342458160099\n",
      "w= 1.6875 r= 0.0675 p_s= 1.28 labor suply= 0.7759892302059338 labor demand= 1.056611306952952 res_l= -0.2806220767470181\n",
      "w= 1.71875 r= 0.0675 p_s= 1.28 labor suply= 0.7768242209696392 labor demand= 0.9774073113707679 res_l= -0.20058309040112865\n",
      "w= 1.734375 r= 0.0675 p_s= 1.28 labor suply= 0.8417313745846727 labor demand= 0.7772323254156595 res_l= 0.06449904916901328\n",
      "w= 1.7265625 r= 0.0675 p_s= 1.28 labor suply= 0.8390757482066704 labor demand= 0.8380649574977452 res_l= 0.00101079070892518\n",
      "\n",
      "Converged in 6 iterations.\n",
      "final w= 1.7265625\n",
      "w= 1.7265625 r= 0.0675 p_s= 1.28 capital supply= 4.650756795435713 capital demand= 6.2081208076455106 res_k= -1.5573640122097974\n",
      "w= 2.0 r= 0.06875 p_s= 1.28 labor suply= 0.9100594299417872 labor demand= 0.3499746169998081 res_l= 0.5600848129419791\n",
      "w= 1.75 r= 0.06875 p_s= 1.28 labor suply= 0.8526385001035637 labor demand= 0.8651981009278006 res_l= -0.012559600824236905\n",
      "\n",
      "Converged in 1 iterations.\n",
      "final w= 1.75\n",
      "w= 1.75 r= 0.06875 p_s= 1.28 capital supply= 6.641965360020265 capital demand= 6.522979378476102 res_k= 0.11898598154416273\n",
      "w= 2.0 r= 0.068125 p_s= 1.28 labor suply= 0.913270005411368 labor demand= 0.3284273710317324 res_l= 0.5848426343796356\n",
      "w= 1.75 r= 0.068125 p_s= 1.28 labor suply= 0.8526372534282397 labor demand= 0.8685495193850721 res_l= -0.015912265956832372\n",
      "\n",
      "Converged in 1 iterations.\n",
      "final w= 1.75\n",
      "w= 1.75 r= 0.068125 p_s= 1.28 capital supply= 6.629621708144285 capital demand= 6.56863002838153 res_k= 0.06099167976275499\n",
      "\n",
      "Converged in 4 iterations.\n",
      "w= 2.0 r= 0.068125 p_s= 1.28 labor suply= 0.913270005411368 labor demand= 0.3284273710317324 res_l= 0.5848426343796356\n",
      "w= 1.75 r= 0.068125 p_s= 1.28 labor suply= 0.8526372534282397 labor demand= 0.8685495193850721 res_l= -0.015912265956832372\n",
      "\n",
      "Converged in 1 iterations.\n",
      "final w= 1.75\n"
     ]
    },
    {
     "name": "stderr",
     "output_type": "stream",
     "text": [
      " 45%|████▌     | 5/11 [57:45<1:05:17, 652.92s/it]"
     ]
    },
    {
     "name": "stdout",
     "output_type": "stream",
     "text": [
      "w= 2.0 r= 0.07 p_s= 1.2999999999999998 labor suply= 0.9084723474780159 labor demand= 0.41393189410310927 res_l= 0.4945404533749066\n",
      "w= 1.75 r= 0.07 p_s= 1.2999999999999998 labor suply= 0.7697231919173158 labor demand= 1.1874291121731129 res_l= -0.4177059202557971\n",
      "w= 1.875 r= 0.07 p_s= 1.2999999999999998 labor suply= 0.8549224695919706 labor demand= 0.7048924053281829 res_l= 0.15003006426378773\n",
      "w= 1.8125 r= 0.07 p_s= 1.2999999999999998 labor suply= 0.8510969112238047 labor demand= 0.8516966155806608 res_l= -0.0005997043568560789\n",
      "\n",
      "Converged in 3 iterations.\n",
      "final w= 1.8125\n",
      "w= 1.8125 r= 0.07 p_s= 1.2999999999999998 capital supply= 7.422430020051656 capital demand= 6.707639188294226 res_k= 0.7147908317574299\n",
      "w= 2.0 r= 0.065 p_s= 1.2999999999999998 labor suply= 0.9440940335821834 labor demand= 0.25492733116563543 res_l= 0.689166702416548\n",
      "w= 1.75 r= 0.065 p_s= 1.2999999999999998 labor suply= 0.8407143175573898 labor demand= 0.7853134316659784 res_l= 0.055400885891411344\n",
      "w= 1.625 r= 0.065 p_s= 1.2999999999999998 labor suply= 0.775770697302515 labor demand= 1.27369063456885 res_l= -0.4979199372663349\n",
      "w= 1.6875 r= 0.065 p_s= 1.2999999999999998 labor suply= 0.7828756662946339 labor demand= 1.0550285302354632 res_l= -0.27215286394082927\n",
      "w= 1.71875 r= 0.065 p_s= 1.2999999999999998 labor suply= 0.783321759651975 labor demand= 0.9879897576081229 res_l= -0.20466799795614787\n",
      "w= 1.734375 r= 0.065 p_s= 1.2999999999999998 labor suply= 0.840028295686866 labor demand= 0.8207613121548436 res_l= 0.019266983532022386\n",
      "\n",
      "Converged in 5 iterations.\n",
      "final w= 1.734375\n",
      "w= 1.734375 r= 0.065 p_s= 1.2999999999999998 capital supply= 2.9593196559044306 capital demand= 6.075927969640151 res_k= -3.116608313735721\n",
      "w= 2.0 r= 0.0675 p_s= 1.2999999999999998 labor suply= 0.9100368887327835 labor demand= 0.37338054259542175 res_l= 0.5366563461373618\n",
      "w= 1.75 r= 0.0675 p_s= 1.2999999999999998 labor suply= 0.7768857411795858 labor demand= 0.9826522483035931 res_l= -0.20576650712400735\n",
      "w= 1.875 r= 0.0675 p_s= 1.2999999999999998 labor suply= 0.8588081352461563 labor demand= 0.5859433759103114 res_l= 0.27286475933584486\n",
      "w= 1.8125 r= 0.0675 p_s= 1.2999999999999998 labor suply= 0.8583339352274361 labor demand= 0.6754639903861819 res_l= 0.18286994484125418\n",
      "w= 1.78125 r= 0.0675 p_s= 1.2999999999999998 labor suply= 0.8580677939578308 labor demand= 0.7169927272455526 res_l= 0.1410750667122782\n",
      "w= 1.765625 r= 0.0675 p_s= 1.2999999999999998 labor suply= 0.8413481107453237 labor demand= 0.7866935770277118 res_l= 0.054654533717611864\n",
      "w= 1.7578125 r= 0.0675 p_s= 1.2999999999999998 labor suply= 0.8390190646599833 labor demand= 0.806220186310882 res_l= 0.032798878349101335\n",
      "w= 1.75390625 r= 0.0675 p_s= 1.2999999999999998 labor suply= 0.7769156789916427 labor demand= 0.9763070435560496 res_l= -0.19939136456440687\n",
      "w= 1.755859375 r= 0.0675 p_s= 1.2999999999999998 labor suply= 0.7769166723975767 labor demand= 0.9736713420660851 res_l= -0.1967546696685084\n",
      "w= 1.7568359375 r= 0.0675 p_s= 1.2999999999999998 labor suply= 0.8389937274738379 labor demand= 0.8078224901977307 res_l= 0.031171237276107266\n",
      "w= 1.75634765625 r= 0.0675 p_s= 1.2999999999999998 labor suply= 0.8389937048856356 labor demand= 0.808362508245657 res_l= 0.030631196639978597\n",
      "w= 1.756103515625 r= 0.0675 p_s= 1.2999999999999998 labor suply= 0.776917105947815 labor demand= 0.9733204179666067 res_l= -0.1964033120187917\n",
      "w= 1.7562255859375 r= 0.0675 p_s= 1.2999999999999998 labor suply= 0.7769171064483292 labor demand= 0.9731593224929513 res_l= -0.1962422160446221\n",
      "w= 1.75628662109375 r= 0.0675 p_s= 1.2999999999999998 labor suply= 0.8389936819216843 labor demand= 0.8084304826713699 res_l= 0.030563199250314477\n",
      "\n",
      "Converged in 14 iterations.\n",
      "final w= 1.756256103515625\n",
      "w= 1.756256103515625 r= 0.0675 p_s= 1.2999999999999998 capital supply= 4.711422459233333 capital demand= 7.317237232353951 res_k= -2.605814773120618\n",
      "w= 2.0 r= 0.06875 p_s= 1.2999999999999998 labor suply= 0.9099989428404047 labor demand= 0.3719988860454867 res_l= 0.538000056794918\n",
      "w= 1.75 r= 0.06875 p_s= 1.2999999999999998 labor suply= 0.7743747664381713 labor demand= 1.0646090400409118 res_l= -0.29023427360274057\n",
      "w= 1.875 r= 0.06875 p_s= 1.2999999999999998 labor suply= 0.8548730654127455 labor demand= 0.7086428434769619 res_l= 0.1462302219357836\n",
      "w= 1.8125 r= 0.06875 p_s= 1.2999999999999998 labor suply= 0.8560253940477525 labor demand= 0.7576060805324227 res_l= 0.09841931351532973\n",
      "w= 1.78125 r= 0.06875 p_s= 1.2999999999999998 labor suply= 0.8556127942629211 labor demand= 0.8043737417600074 res_l= 0.05123905250291372\n",
      "w= 1.765625 r= 0.06875 p_s= 1.2999999999999998 labor suply= 0.7745241175464688 labor demand= 1.0315116384117797 res_l= -0.25698752086531096\n",
      "w= 1.7734375 r= 0.06875 p_s= 1.2999999999999998 labor suply= 0.8543935978807553 labor demand= 0.833462713791829 res_l= 0.020930884088926294\n",
      "\n",
      "Converged in 6 iterations.\n",
      "final w= 1.7734375\n",
      "w= 1.7734375 r= 0.06875 p_s= 1.2999999999999998 capital supply= 5.715338967198684 capital demand= 6.313339448137805 res_k= -0.5980004809391213\n",
      "w= 2.0 r= 0.069375 p_s= 1.2999999999999998 labor suply= 0.9099569021133305 labor demand= 0.38467004435391594 res_l= 0.5252868577594145\n",
      "w= 1.75 r= 0.069375 p_s= 1.2999999999999998 labor suply= 0.7727457548650513 labor demand= 1.1109831227184206 res_l= -0.33823736785336933\n",
      "w= 1.875 r= 0.069375 p_s= 1.2999999999999998 labor suply= 0.8563436332396577 labor demand= 0.6602928812343882 res_l= 0.19605075200526945\n",
      "w= 1.8125 r= 0.069375 p_s= 1.2999999999999998 labor suply= 0.8531818533236302 labor demand= 0.8098869426377155 res_l= 0.04329491068591462\n",
      "w= 1.78125 r= 0.069375 p_s= 1.2999999999999998 labor suply= 0.8528191288749881 labor demand= 0.8563529917032557 res_l= -0.00353386282826762\n",
      "\n",
      "Converged in 4 iterations.\n",
      "final w= 1.78125\n",
      "w= 1.78125 r= 0.069375 p_s= 1.2999999999999998 capital supply= 6.62454250016894 capital demand= 6.528920518511595 res_k= 0.09562198165734515\n",
      "\n",
      "Converged in 4 iterations.\n",
      "w= 2.0 r= 0.069375 p_s= 1.2999999999999998 labor suply= 0.9099569021133305 labor demand= 0.38467004435391594 res_l= 0.5252868577594145\n",
      "w= 1.75 r= 0.069375 p_s= 1.2999999999999998 labor suply= 0.7727457548650513 labor demand= 1.1109831227184206 res_l= -0.33823736785336933\n",
      "w= 1.875 r= 0.069375 p_s= 1.2999999999999998 labor suply= 0.8563436332396577 labor demand= 0.6602928812343882 res_l= 0.19605075200526945\n",
      "w= 1.8125 r= 0.069375 p_s= 1.2999999999999998 labor suply= 0.8531818533236302 labor demand= 0.8098869426377155 res_l= 0.04329491068591462\n",
      "w= 1.78125 r= 0.069375 p_s= 1.2999999999999998 labor suply= 0.8528191288749881 labor demand= 0.8563529917032557 res_l= -0.00353386282826762\n",
      "\n",
      "Converged in 4 iterations.\n",
      "final w= 1.78125\n"
     ]
    },
    {
     "name": "stderr",
     "output_type": "stream",
     "text": [
      " 55%|█████▍    | 6/11 [1:06:23<50:35, 607.05s/it]"
     ]
    },
    {
     "name": "stdout",
     "output_type": "stream",
     "text": [
      "w= 2.0 r= 0.07 p_s= 1.3199999999999998 labor suply= 0.8577697962073169 labor demand= 0.5571330117644351 res_l= 0.3006367844428818\n",
      "w= 1.75 r= 0.07 p_s= 1.3199999999999998 labor suply= 0.7708812310405494 labor demand= 1.2185756121621705 res_l= -0.4476943811216211\n",
      "w= 1.875 r= 0.07 p_s= 1.3199999999999998 labor suply= 0.8547894776986201 labor demand= 0.7477170066718688 res_l= 0.10707247102675133\n",
      "w= 1.8125 r= 0.07 p_s= 1.3199999999999998 labor suply= 0.8509970084933611 labor demand= 0.8981790924800731 res_l= -0.047182083986711976\n",
      "w= 1.84375 r= 0.07 p_s= 1.3199999999999998 labor suply= 0.8531151923690885 labor demand= 0.8285103637189651 res_l= 0.024604828650123367\n",
      "\n",
      "Converged in 4 iterations.\n",
      "final w= 1.84375\n",
      "w= 1.84375 r= 0.07 p_s= 1.3199999999999998 capital supply= 7.342928514877681 capital demand= 6.6287113184519 res_k= 0.7142171964257802\n",
      "w= 2.0 r= 0.065 p_s= 1.3199999999999998 labor suply= 0.9394275202495539 labor demand= 0.28493310191223153 res_l= 0.6544944183373224\n",
      "w= 1.75 r= 0.065 p_s= 1.3199999999999998 labor suply= 0.7833219275095845 labor demand= 0.9955552905019064 res_l= -0.21223336299232187\n",
      "w= 1.875 r= 0.065 p_s= 1.3199999999999998 labor suply= 0.9073592564155885 labor demand= 0.46612203721390183 res_l= 0.4412372192016866\n",
      "w= 1.8125 r= 0.065 p_s= 1.3199999999999998 labor suply= 0.853187614497666 labor demand= 0.6871176944833857 res_l= 0.16606992001428034\n",
      "w= 1.78125 r= 0.065 p_s= 1.3199999999999998 labor suply= 0.84033364507122 labor demand= 0.7971904914569246 res_l= 0.04314315361429544\n",
      "w= 1.765625 r= 0.065 p_s= 1.3199999999999998 labor suply= 0.8400785554751865 labor demand= 0.8226184497561277 res_l= 0.01746010571905876\n",
      "\n",
      "Converged in 5 iterations.\n",
      "final w= 1.765625\n",
      "w= 1.765625 r= 0.065 p_s= 1.3199999999999998 capital supply= 2.9933039823545355 capital demand= 6.19270288330403 res_k= -3.199398900949494\n",
      "w= 2.0 r= 0.0675 p_s= 1.3199999999999998 labor suply= 0.9036701780271141 labor demand= 0.4133559070426088 res_l= 0.49031427098450536\n",
      "w= 1.75 r= 0.0675 p_s= 1.3199999999999998 labor suply= 0.7767243941966582 labor demand= 1.0629932971596685 res_l= -0.28626890296301033\n",
      "w= 1.875 r= 0.0675 p_s= 1.3199999999999998 labor suply= 0.8585334689791217 labor demand= 0.6455549516734024 res_l= 0.21297851730571937\n",
      "w= 1.8125 r= 0.0675 p_s= 1.3199999999999998 labor suply= 0.8417180125840467 labor demand= 0.7645380168326863 res_l= 0.07717999575136036\n",
      "w= 1.78125 r= 0.0675 p_s= 1.3199999999999998 labor suply= 0.776987163712904 labor demand= 0.9820298338335547 res_l= -0.2050426701206507\n",
      "w= 1.796875 r= 0.0675 p_s= 1.3199999999999998 labor suply= 0.8391592366882393 labor demand= 0.7944779870180043 res_l= 0.04468124967023501\n",
      "w= 1.7890625 r= 0.0675 p_s= 1.3199999999999998 labor suply= 0.8390164479930371 labor demand= 0.8064400254263875 res_l= 0.03257642256664961\n",
      "w= 1.78515625 r= 0.0675 p_s= 1.3199999999999998 labor suply= 0.7770131005295785 labor demand= 0.9751253611378377 res_l= -0.19811226060825915\n",
      "w= 1.787109375 r= 0.0675 p_s= 1.3199999999999998 labor suply= 0.8390100527364008 labor demand= 0.8087935580717582 res_l= 0.0302164946646426\n",
      "w= 1.7861328125 r= 0.0675 p_s= 1.3199999999999998 labor suply= 0.8390077436933245 labor demand= 0.8099351853509393 res_l= 0.029072558342385202\n",
      "w= 1.78564453125 r= 0.0675 p_s= 1.3199999999999998 labor suply= 0.7770136444030811 labor demand= 0.9744393098852273 res_l= -0.19742566548214624\n",
      "w= 1.785888671875 r= 0.0675 p_s= 1.3199999999999998 labor suply= 0.8390060681334096 labor demand= 0.8102724970936618 res_l= 0.02873357103974783\n",
      "w= 1.7857666015625 r= 0.0675 p_s= 1.3199999999999998 labor suply= 0.8390057514560552 labor demand= 0.8104229096423141 res_l= 0.028582841813741044\n",
      "w= 1.78570556640625 r= 0.0675 p_s= 1.3199999999999998 labor suply= 0.8390044106521652 labor demand= 0.8104991333954399 res_l= 0.02850527725672536\n",
      "\n",
      "Converged in 14 iterations.\n",
      "final w= 1.785675048828125\n",
      "w= 1.785675048828125 r= 0.0675 p_s= 1.3199999999999998 capital supply= 4.724675506585102 capital demand= 7.409860717371732 res_k= -2.6851852107866296\n",
      "w= 2.0 r= 0.06875 p_s= 1.3199999999999998 labor suply= 0.9036049108952563 labor demand= 0.4122690605962492 res_l= 0.4913358502990071\n",
      "w= 1.75 r= 0.06875 p_s= 1.3199999999999998 labor suply= 0.7742274158264446 labor demand= 1.128590111255325 res_l= -0.3543626954288803\n",
      "w= 1.875 r= 0.06875 p_s= 1.3199999999999998 labor suply= 0.8547623311780802 labor demand= 0.7531579397425001 res_l= 0.10160439143558009\n",
      "w= 1.8125 r= 0.06875 p_s= 1.3199999999999998 labor suply= 0.853073702170125 labor demand= 0.858940396579362 res_l= -0.005866694409237039\n",
      "\n",
      "Converged in 3 iterations.\n",
      "final w= 1.8125\n",
      "w= 1.8125 r= 0.06875 p_s= 1.3199999999999998 capital supply= 6.616722926034315 capital demand= 6.69405481824106 res_k= -0.07733189220674497\n",
      "\n",
      "Converged in 3 iterations.\n",
      "w= 2.0 r= 0.06875 p_s= 1.3199999999999998 labor suply= 0.9036049108952563 labor demand= 0.4122690605962492 res_l= 0.4913358502990071\n",
      "w= 1.75 r= 0.06875 p_s= 1.3199999999999998 labor suply= 0.7742274158264446 labor demand= 1.128590111255325 res_l= -0.3543626954288803\n",
      "w= 1.875 r= 0.06875 p_s= 1.3199999999999998 labor suply= 0.8547623311780802 labor demand= 0.7531579397425001 res_l= 0.10160439143558009\n",
      "w= 1.8125 r= 0.06875 p_s= 1.3199999999999998 labor suply= 0.853073702170125 labor demand= 0.858940396579362 res_l= -0.005866694409237039\n",
      "\n",
      "Converged in 3 iterations.\n",
      "final w= 1.8125\n"
     ]
    },
    {
     "name": "stderr",
     "output_type": "stream",
     "text": [
      " 64%|██████▎   | 7/11 [1:13:29<36:31, 547.83s/it]"
     ]
    },
    {
     "name": "stdout",
     "output_type": "stream",
     "text": [
      "w= 2.0 r= 0.07 p_s= 1.3399999999999999 labor suply= 0.857659937410364 labor demand= 0.5896841256143596 res_l= 0.2679758117960044\n",
      "w= 1.75 r= 0.07 p_s= 1.3399999999999999 labor suply= 0.7708155745179767 labor demand= 1.287647169962028 res_l= -0.5168315954440513\n",
      "w= 1.875 r= 0.07 p_s= 1.3399999999999999 labor suply= 0.8547144510714986 labor demand= 0.787278730240831 res_l= 0.06743572083066762\n",
      "w= 1.8125 r= 0.07 p_s= 1.3399999999999999 labor suply= 0.7713833541165651 labor demand= 1.1495879796925985 res_l= -0.3782046255760334\n",
      "w= 1.84375 r= 0.07 p_s= 1.3399999999999999 labor suply= 0.8545405078585309 labor demand= 0.8364183142765409 res_l= 0.018122193581989965\n",
      "\n",
      "Converged in 4 iterations.\n",
      "final w= 1.84375\n",
      "w= 1.84375 r= 0.07 p_s= 1.3399999999999999 capital supply= 6.591842943754897 capital demand= 6.59785681004992 res_k= -0.006013866295022652\n",
      "\n",
      "Converged in 0 iterations.\n",
      "w= 2.0 r= 0.07 p_s= 1.3399999999999999 labor suply= 0.857659937410364 labor demand= 0.5896841256143596 res_l= 0.2679758117960044\n",
      "w= 1.75 r= 0.07 p_s= 1.3399999999999999 labor suply= 0.7708155745179767 labor demand= 1.287647169962028 res_l= -0.5168315954440513\n",
      "w= 1.875 r= 0.07 p_s= 1.3399999999999999 labor suply= 0.8547144510714986 labor demand= 0.787278730240831 res_l= 0.06743572083066762\n",
      "w= 1.8125 r= 0.07 p_s= 1.3399999999999999 labor suply= 0.7713833541165651 labor demand= 1.1495879796925985 res_l= -0.3782046255760334\n",
      "w= 1.84375 r= 0.07 p_s= 1.3399999999999999 labor suply= 0.8545405078585309 labor demand= 0.8364183142765409 res_l= 0.018122193581989965\n",
      "\n",
      "Converged in 4 iterations.\n",
      "final w= 1.84375\n"
     ]
    },
    {
     "name": "stderr",
     "output_type": "stream",
     "text": [
      " 73%|███████▎  | 8/11 [1:15:32<20:37, 412.61s/it]"
     ]
    },
    {
     "name": "stdout",
     "output_type": "stream",
     "text": [
      "w= 2.0 r= 0.07 p_s= 1.3599999999999999 labor suply= 0.8575299896430608 labor demand= 0.6326882865163233 res_l= 0.22484170312673757\n",
      "w= 1.75 r= 0.07 p_s= 1.3599999999999999 labor suply= 0.7705976356013364 labor demand= 1.3653826713064436 res_l= -0.5947850357051072\n",
      "w= 1.875 r= 0.07 p_s= 1.3599999999999999 labor suply= 0.77481486535469 labor demand= 1.027052924029247 res_l= -0.25223805867455695\n",
      "w= 1.9375 r= 0.07 p_s= 1.3599999999999999 labor suply= 0.8549922109558061 labor demand= 0.7486755833547044 res_l= 0.10631662760110172\n",
      "w= 1.90625 r= 0.07 p_s= 1.3599999999999999 labor suply= 0.8547772971578427 labor demand= 0.7929594628743468 res_l= 0.061817834283495854\n",
      "w= 1.890625 r= 0.07 p_s= 1.3599999999999999 labor suply= 0.854738875986799 labor demand= 0.812285342961486 res_l= 0.04245353302531296\n",
      "w= 1.8828125 r= 0.07 p_s= 1.3599999999999999 labor suply= 0.8546226364086891 labor demand= 0.8218188412744966 res_l= 0.032803795134192515\n",
      "w= 1.87890625 r= 0.07 p_s= 1.3599999999999999 labor suply= 0.8542565597136388 labor demand= 0.8292831240449827 res_l= 0.024973435668656063\n",
      "\n",
      "Converged in 7 iterations.\n",
      "final w= 1.87890625\n",
      "w= 1.87890625 r= 0.07 p_s= 1.3599999999999999 capital supply= 6.552106106903245 capital demand= 6.627556073953198 res_k= -0.07544996704995288\n",
      "\n",
      "Converged in 0 iterations.\n",
      "w= 2.0 r= 0.07 p_s= 1.3599999999999999 labor suply= 0.8575299896430608 labor demand= 0.6326882865163233 res_l= 0.22484170312673757\n",
      "w= 1.75 r= 0.07 p_s= 1.3599999999999999 labor suply= 0.7705976356013364 labor demand= 1.3653826713064436 res_l= -0.5947850357051072\n",
      "w= 1.875 r= 0.07 p_s= 1.3599999999999999 labor suply= 0.77481486535469 labor demand= 1.027052924029247 res_l= -0.25223805867455695\n",
      "w= 1.9375 r= 0.07 p_s= 1.3599999999999999 labor suply= 0.8549922109558061 labor demand= 0.7486755833547044 res_l= 0.10631662760110172\n",
      "w= 1.90625 r= 0.07 p_s= 1.3599999999999999 labor suply= 0.8547772971578427 labor demand= 0.7929594628743468 res_l= 0.061817834283495854\n",
      "w= 1.890625 r= 0.07 p_s= 1.3599999999999999 labor suply= 0.854738875986799 labor demand= 0.812285342961486 res_l= 0.04245353302531296\n",
      "w= 1.8828125 r= 0.07 p_s= 1.3599999999999999 labor suply= 0.8546226364086891 labor demand= 0.8218188412744966 res_l= 0.032803795134192515\n",
      "w= 1.87890625 r= 0.07 p_s= 1.3599999999999999 labor suply= 0.8542565597136388 labor demand= 0.8292831240449827 res_l= 0.024973435668656063\n",
      "\n",
      "Converged in 7 iterations.\n",
      "final w= 1.87890625\n"
     ]
    },
    {
     "name": "stderr",
     "output_type": "stream",
     "text": [
      " 82%|████████▏ | 9/11 [1:18:36<11:22, 341.18s/it]"
     ]
    },
    {
     "name": "stdout",
     "output_type": "stream",
     "text": [
      "w= 2.0 r= 0.07 p_s= 1.38 labor suply= 0.8574814800377316 labor demand= 0.6748081320974558 res_l= 0.1826733479402758\n",
      "w= 1.75 r= 0.07 p_s= 1.38 labor suply= 0.770484078459908 labor demand= 1.4506712059419906 res_l= -0.6801871274820827\n",
      "w= 1.875 r= 0.07 p_s= 1.38 labor suply= 0.7746023285056007 labor demand= 1.0991186542397742 res_l= -0.32451632573417344\n",
      "w= 1.9375 r= 0.07 p_s= 1.38 labor suply= 0.8532796032265696 labor demand= 0.8321886223196893 res_l= 0.02109098090688033\n",
      "\n",
      "Converged in 3 iterations.\n",
      "final w= 1.9375\n",
      "w= 1.9375 r= 0.07 p_s= 1.38 capital supply= 7.393551922856665 capital demand= 6.973801350242398 res_k= 0.4197505726142676\n",
      "w= 2.0 r= 0.065 p_s= 1.38 labor suply= 0.9072416244709678 labor demand= 0.4627214403314251 res_l= 0.4445201841395427\n",
      "w= 1.75 r= 0.065 p_s= 1.38 labor suply= 0.7822148581283896 labor demand= 1.2303168089747774 res_l= -0.4481019508463877\n",
      "w= 1.875 r= 0.065 p_s= 1.38 labor suply= 0.8504120282155971 labor demand= 0.7532041058384721 res_l= 0.09720792237712506\n",
      "w= 1.8125 r= 0.065 p_s= 1.38 labor suply= 0.7770247309984917 labor demand= 1.1248321931370293 res_l= -0.34780746213853764\n",
      "w= 1.84375 r= 0.065 p_s= 1.38 labor suply= 0.8457753314448442 labor demand= 0.8215050137777272 res_l= 0.02427031766711696\n",
      "\n",
      "Converged in 4 iterations.\n",
      "final w= 1.84375\n",
      "w= 1.84375 r= 0.065 p_s= 1.38 capital supply= 2.4292424554853107 capital demand= 6.455450160725876 res_k= -4.026207705240566\n",
      "w= 2.0 r= 0.0675 p_s= 1.38 labor suply= 0.8633168565025463 labor demand= 0.5911960383078602 res_l= 0.27212081819468614\n",
      "w= 1.75 r= 0.0675 p_s= 1.38 labor suply= 0.776440807461501 labor demand= 1.259387166395229 res_l= -0.48294635893372795\n",
      "w= 1.875 r= 0.0675 p_s= 1.38 labor suply= 0.7839404746659467 labor demand= 0.9651716155663506 res_l= -0.18123114090040382\n",
      "w= 1.9375 r= 0.0675 p_s= 1.38 labor suply= 0.8629138467013322 labor demand= 0.6586673605011518 res_l= 0.20424648620018038\n",
      "w= 1.90625 r= 0.0675 p_s= 1.38 labor suply= 0.8391084681060434 labor demand= 0.791925516797594 res_l= 0.047182951308449406\n",
      "w= 1.890625 r= 0.0675 p_s= 1.38 labor suply= 0.784023963285214 labor demand= 0.9444113753994959 res_l= -0.16038741211428198\n",
      "w= 1.8984375 r= 0.0675 p_s= 1.38 labor suply= 0.8389739038341762 labor demand= 0.8032912709065404 res_l= 0.03568263292763585\n",
      "w= 1.89453125 r= 0.0675 p_s= 1.38 labor suply= 0.8389002816526032 labor demand= 0.8097163834879005 res_l= 0.029183898164702682\n",
      "w= 1.892578125 r= 0.0675 p_s= 1.38 labor suply= 0.7840241665501576 labor demand= 0.9421345239172954 res_l= -0.15811035736713774\n",
      "w= 1.8935546875 r= 0.0675 p_s= 1.38 labor suply= 0.8388462194190262 labor demand= 0.8111376990737037 res_l= 0.02770852034532245\n",
      "w= 1.89306640625 r= 0.0675 p_s= 1.38 labor suply= 0.8388453784733505 labor demand= 0.811638303656345 res_l= 0.02720707481700546\n",
      "w= 1.892822265625 r= 0.0675 p_s= 1.38 labor suply= 0.8387837079322551 labor demand= 0.8141204903816086 res_l= 0.024663217550646488\n",
      "\n",
      "Converged in 11 iterations.\n",
      "final w= 1.892822265625\n",
      "w= 1.892822265625 r= 0.0675 p_s= 1.38 capital supply= 3.899947585506547 capital demand= 6.557624796779833 res_k= -2.657677211273286\n",
      "w= 2.0 r= 0.06875 p_s= 1.38 labor suply= 0.8588583989048301 labor demand= 0.6232054191915771 res_l= 0.23565297971325294\n",
      "w= 1.75 r= 0.06875 p_s= 1.38 labor suply= 0.7735858169475389 labor demand= 1.3656960417804687 res_l= -0.5921102248329297\n",
      "w= 1.875 r= 0.06875 p_s= 1.38 labor suply= 0.7745013301125037 labor demand= 1.1086196675308204 res_l= -0.33411833741831676\n",
      "w= 1.9375 r= 0.06875 p_s= 1.38 labor suply= 0.8585197932116658 labor demand= 0.6879058354565183 res_l= 0.17061395775514754\n",
      "w= 1.90625 r= 0.06875 p_s= 1.38 labor suply= 0.8398229570603754 labor demand= 0.8051008065536884 res_l= 0.03472215050668692\n",
      "w= 1.890625 r= 0.06875 p_s= 1.38 labor suply= 0.7778429499266488 labor demand= 0.9752339567663708 res_l= -0.197391006839722\n",
      "w= 1.8984375 r= 0.06875 p_s= 1.38 labor suply= 0.7779186251762717 labor demand= 0.9562881071247055 res_l= -0.17836948194843372\n",
      "w= 1.90234375 r= 0.06875 p_s= 1.38 labor suply= 0.7779310790076973 labor demand= 0.9497885998808705 res_l= -0.1718575208731732\n",
      "w= 1.904296875 r= 0.06875 p_s= 1.38 labor suply= 0.7779328636923106 labor demand= 0.947358883358884 res_l= -0.16942601966657334\n",
      "w= 1.9052734375 r= 0.06875 p_s= 1.38 labor suply= 0.8397998826420285 labor demand= 0.8062692783570156 res_l= 0.03353060428501298\n",
      "w= 1.90478515625 r= 0.06875 p_s= 1.38 labor suply= 0.8397666454632592 labor demand= 0.8072695861639188 res_l= 0.032497059299340436\n",
      "w= 1.904541015625 r= 0.06875 p_s= 1.38 labor suply= 0.8397661091975626 labor demand= 0.8075217881972048 res_l= 0.03224432100035779\n",
      "w= 1.9044189453125 r= 0.06875 p_s= 1.38 labor suply= 0.8397601366778815 labor demand= 0.8078015788514772 res_l= 0.03195855782640433\n",
      "w= 1.90435791015625 r= 0.06875 p_s= 1.38 labor suply= 0.7779328636923106 labor demand= 0.9472870383068741 res_l= -0.16935417461456348\n",
      "\n",
      "Converged in 14 iterations.\n",
      "final w= 1.904388427734375\n",
      "w= 1.904388427734375 r= 0.06875 p_s= 1.38 capital supply= 4.725102659019558 capital demand= 7.725136125607479 res_k= -3.0000334665879214\n",
      "w= 2.0 r= 0.069375 p_s= 1.38 labor suply= 0.8588120590615043 labor demand= 0.6382288548977516 res_l= 0.22058320416375266\n",
      "w= 1.75 r= 0.069375 p_s= 1.38 labor suply= 0.7721323870397756 labor demand= 1.4054484748246334 res_l= -0.6333160877848578\n",
      "w= 1.875 r= 0.069375 p_s= 1.38 labor suply= 0.7757955751625942 labor demand= 1.055360331617683 res_l= -0.2795647564550887\n",
      "w= 1.9375 r= 0.069375 p_s= 1.38 labor suply= 0.8584409494019053 labor demand= 0.7076351590710944 res_l= 0.15080579033081087\n",
      "w= 1.90625 r= 0.069375 p_s= 1.38 labor suply= 0.7767295537037108 labor demand= 0.9855414903621531 res_l= -0.20881193665844233\n",
      "w= 1.921875 r= 0.069375 p_s= 1.38 labor suply= 0.8544052774394887 labor demand= 0.8176390699680615 res_l= 0.036766207471427226\n",
      "w= 1.9140625 r= 0.069375 p_s= 1.38 labor suply= 0.7767335585720074 labor demand= 0.9756907599238605 res_l= -0.19895720135185302\n",
      "w= 1.91796875 r= 0.069375 p_s= 1.38 labor suply= 0.7749498453226594 labor demand= 1.0124674178549173 res_l= -0.23751757253225791\n",
      "w= 1.919921875 r= 0.069375 p_s= 1.38 labor suply= 0.8437358145337059 labor demand= 0.7687483137889182 res_l= 0.07498750074478777\n",
      "w= 1.9189453125 r= 0.069375 p_s= 1.38 labor suply= 0.7753203734482532 labor demand= 1.009759607743885 res_l= -0.23443923429563185\n",
      "w= 1.91943359375 r= 0.069375 p_s= 1.38 labor suply= 0.7758904892702373 labor demand= 1.007701455756015 res_l= -0.23181096648577781\n",
      "w= 1.919677734375 r= 0.069375 p_s= 1.38 labor suply= 0.8431287020314917 labor demand= 0.7704583502563713 res_l= 0.07267035177512038\n",
      "w= 1.9195556640625 r= 0.069375 p_s= 1.38 labor suply= 0.8429396893024262 labor demand= 0.7710309746372553 res_l= 0.0719087146651709\n",
      "w= 1.91949462890625 r= 0.069375 p_s= 1.38 labor suply= 0.776085338643754 labor demand= 1.0071505782816355 res_l= -0.2310652396378815\n",
      "\n",
      "Converged in 14 iterations.\n",
      "final w= 1.919525146484375\n",
      "w= 1.919525146484375 r= 0.069375 p_s= 1.38 capital supply= 4.571580800223472 capital demand= 6.255311693717104 res_k= -1.6837308934936317\n",
      "w= 2.0 r= 0.06968750000000001 p_s= 1.38 labor suply= 0.8563790784842217 labor demand= 0.7005030672271355 res_l= 0.15587601125708617\n",
      "w= 1.75 r= 0.06968750000000001 p_s= 1.38 labor suply= 0.7721029812895156 labor demand= 1.4042927182912086 res_l= -0.632189737001693\n",
      "w= 1.875 r= 0.06968750000000001 p_s= 1.38 labor suply= 0.7745621235698503 labor demand= 1.1038690026250777 res_l= -0.3293068790552274\n",
      "w= 1.9375 r= 0.06968750000000001 p_s= 1.38 labor suply= 0.8570804411225033 labor demand= 0.7471954207484969 res_l= 0.10988502037400638\n",
      "w= 1.90625 r= 0.06968750000000001 p_s= 1.38 labor suply= 0.776727762159386 labor demand= 0.9845247300681603 res_l= -0.20779696790877433\n",
      "w= 1.921875 r= 0.06968750000000001 p_s= 1.38 labor suply= 0.8566727951835293 labor demand= 0.7738141271657393 res_l= 0.08285866801779007\n",
      "w= 1.9140625 r= 0.06968750000000001 p_s= 1.38 labor suply= 0.7767349569978528 labor demand= 0.9745536738630988 res_l= -0.197818716865246\n",
      "w= 1.91796875 r= 0.06968750000000001 p_s= 1.38 labor suply= 0.8413315742666196 labor demand= 0.8140950055873453 res_l= 0.027236568679274376\n",
      "w= 1.916015625 r= 0.06968750000000001 p_s= 1.38 labor suply= 0.7768418532320708 labor demand= 0.9716933988351351 res_l= -0.19485154560306428\n",
      "w= 1.9169921875 r= 0.06968750000000001 p_s= 1.38 labor suply= 0.8397260593166102 labor demand= 0.819011874178524 res_l= 0.020714185138086205\n",
      "\n",
      "Converged in 9 iterations.\n",
      "final w= 1.9169921875\n",
      "w= 1.9169921875 r= 0.06968750000000001 p_s= 1.38 capital supply= 5.58101660206449 capital demand= 6.686822453771903 res_k= -1.1058058517074132\n",
      "w= 2.0 r= 0.06984375000000001 p_s= 1.38 labor suply= 0.8574805368157743 labor demand= 0.6751323353220531 res_l= 0.18234820149372122\n",
      "w= 1.75 r= 0.06984375000000001 p_s= 1.38 labor suply= 0.7721140456571275 labor demand= 1.3982168719866024 res_l= -0.6261028263294749\n",
      "w= 1.875 r= 0.06984375000000001 p_s= 1.38 labor suply= 0.7745615273945771 labor demand= 1.1029213235809432 res_l= -0.3283597961863661\n",
      "w= 1.9375 r= 0.06984375000000001 p_s= 1.38 labor suply= 0.8571481283052589 labor demand= 0.7464746334726123 res_l= 0.11067349483264655\n",
      "w= 1.90625 r= 0.06984375000000001 p_s= 1.38 labor suply= 0.7748039401554832 labor demand= 1.0395299421747177 res_l= -0.2647260020192346\n",
      "w= 1.921875 r= 0.06984375000000001 p_s= 1.38 labor suply= 0.8530847800282753 labor demand= 0.8580220793442683 res_l= -0.004937299315993071\n",
      "\n",
      "Converged in 5 iterations.\n",
      "final w= 1.921875\n",
      "w= 1.921875 r= 0.06984375000000001 p_s= 1.38 capital supply= 7.473730104697934 capital demand= 7.142326257217679 res_k= 0.33140384748025475\n",
      "w= 2.0 r= 0.06976562500000001 p_s= 1.38 labor suply= 0.8574694377327097 labor demand= 0.67539160481931 res_l= 0.18207783291339963\n",
      "w= 1.75 r= 0.06976562500000001 p_s= 1.38 labor suply= 0.7721141483755892 labor demand= 1.3987450210341938 res_l= -0.6266308726586046\n",
      "w= 1.875 r= 0.06976562500000001 p_s= 1.38 labor suply= 0.7745615070089236 labor demand= 1.1033689512571268 res_l= -0.3288074442482032\n",
      "w= 1.9375 r= 0.06976562500000001 p_s= 1.38 labor suply= 0.8570800228552717 labor demand= 0.7470162026080596 res_l= 0.11006382024721217\n",
      "w= 1.90625 r= 0.06976562500000001 p_s= 1.38 labor suply= 0.7733054213129255 labor demand= 1.0725396066965394 res_l= -0.2992341853836139\n",
      "w= 1.921875 r= 0.06976562500000001 p_s= 1.38 labor suply= 0.8569664389338877 labor demand= 0.7700978091503019 res_l= 0.08686862978358578\n",
      "w= 1.9140625 r= 0.06976562500000001 p_s= 1.38 labor suply= 0.7733303914655175 labor demand= 1.0608537892830914 res_l= -0.28752339781757386\n",
      "w= 1.91796875 r= 0.06976562500000001 p_s= 1.38 labor suply= 0.8445447863221299 labor demand= 0.8061065008660295 res_l= 0.038438285456100396\n",
      "w= 1.916015625 r= 0.06976562500000001 p_s= 1.38 labor suply= 0.7735784691478411 labor demand= 1.057025678845245 res_l= -0.2834472096974039\n",
      "w= 1.9169921875 r= 0.06976562500000001 p_s= 1.38 labor suply= 0.7746880921350058 labor demand= 1.0529561275434471 res_l= -0.27826803540844136\n",
      "w= 1.91748046875 r= 0.06976562500000001 p_s= 1.38 labor suply= 0.8415387816116875 labor demand= 0.8138666836731656 res_l= 0.027672097938521878\n",
      "w= 1.917236328125 r= 0.06976562500000001 p_s= 1.38 labor suply= 0.8407834277143852 labor demand= 0.8159338253814598 res_l= 0.024849602332925436\n",
      "\n",
      "Converged in 11 iterations.\n",
      "final w= 1.917236328125\n",
      "w= 1.917236328125 r= 0.06976562500000001 p_s= 1.38 capital supply= 5.580795506218065 capital demand= 6.659141972584725 res_k= -1.0783464663666598\n",
      "\n",
      "Converged in 8 iterations.\n",
      "w= 2.0 r= 0.06980468750000002 p_s= 1.38 labor suply= 0.8574694340938783 labor demand= 0.6753111088485697 res_l= 0.18215832524530862\n",
      "w= 1.75 r= 0.06980468750000002 p_s= 1.38 labor suply= 0.7721145616924975 labor demand= 1.3984216688928774 res_l= -0.62630710720038\n",
      "w= 1.875 r= 0.06980468750000002 p_s= 1.38 labor suply= 0.7745616053554967 labor demand= 1.103128136551287 res_l= -0.3285665311957904\n",
      "w= 1.9375 r= 0.06980468750000002 p_s= 1.38 labor suply= 0.8571481336234369 labor demand= 0.7465694659839882 res_l= 0.11057866763944868\n",
      "w= 1.90625 r= 0.06980468750000002 p_s= 1.38 labor suply= 0.7736799046170304 labor demand= 1.052718027736891 res_l= -0.27903812311986065\n",
      "w= 1.921875 r= 0.06980468750000002 p_s= 1.38 labor suply= 0.8530843055655154 labor demand= 0.8582722697704505 res_l= -0.005187964204935058\n",
      "\n",
      "Converged in 5 iterations.\n",
      "final w= 1.921875\n"
     ]
    },
    {
     "name": "stderr",
     "output_type": "stream",
     "text": [
      " 91%|█████████ | 10/11 [1:34:11<08:44, 524.73s/it]"
     ]
    },
    {
     "name": "stdout",
     "output_type": "stream",
     "text": [
      "w= 2.0 r= 0.07 p_s= 1.4 labor suply= 0.8573820601060984 labor demand= 0.7141127065778342 res_l= 0.1432693535282642\n",
      "w= 1.75 r= 0.07 p_s= 1.4 labor suply= 0.7702495604716043 labor demand= 1.541976125455458 res_l= -0.7717265649838537\n",
      "w= 1.875 r= 0.07 p_s= 1.4 labor suply= 0.7744936096514337 labor demand= 1.1563087059186785 res_l= -0.38181509626724486\n",
      "w= 1.9375 r= 0.07 p_s= 1.4 labor suply= 0.7748884775022878 labor demand= 1.0464762765737834 res_l= -0.27158779907149555\n",
      "w= 1.96875 r= 0.07 p_s= 1.4 labor suply= 0.8572665783691253 labor demand= 0.7499863378296971 res_l= 0.1072802405394282\n",
      "w= 1.953125 r= 0.07 p_s= 1.4 labor suply= 0.7736801750023682 labor demand= 1.0427604767113299 res_l= -0.2690803017089617\n",
      "w= 1.9609375 r= 0.07 p_s= 1.4 labor suply= 0.8571080876708015 labor demand= 0.7694851949591959 res_l= 0.08762289271160562\n",
      "w= 1.95703125 r= 0.07 p_s= 1.4 labor suply= 0.8452197174018049 labor demand= 0.8053231028901692 res_l= 0.03989661451163573\n",
      "w= 1.955078125 r= 0.07 p_s= 1.4 labor suply= 0.8407985747716012 labor demand= 0.8163924618756381 res_l= 0.024406112895963172\n",
      "\n",
      "Converged in 8 iterations.\n",
      "final w= 1.955078125\n",
      "w= 1.955078125 r= 0.07 p_s= 1.4 capital supply= 5.60255369796996 capital demand= 6.816291107070256 res_k= -1.213737409100296\n",
      "w= 2.0 r= 0.07500000000000001 p_s= 1.4 labor suply= 0.8485623511655117 labor demand= 0.9058265664204158 res_l= -0.057264215254904105\n",
      "w= 2.25 r= 0.07500000000000001 p_s= 1.4 labor suply= 0.9041283101490989 labor demand= 0.47668178684598805 res_l= 0.42744652330311084\n",
      "w= 2.125 r= 0.07500000000000001 p_s= 1.4 labor suply= 0.8514579122263459 labor demand= 0.7222224885412908 res_l= 0.12923542368505514\n",
      "w= 2.0625 r= 0.07500000000000001 p_s= 1.4 labor suply= 0.851457395302898 labor demand= 0.7962817476833692 res_l= 0.055175647619528756\n",
      "w= 2.03125 r= 0.07500000000000001 p_s= 1.4 labor suply= 0.8485650772523463 labor demand= 0.8611895706111329 res_l= -0.01262449335878657\n",
      "\n",
      "Converged in 4 iterations.\n",
      "final w= 2.03125\n",
      "w= 2.03125 r= 0.07500000000000001 p_s= 1.4 capital supply= 20.59838981150493 capital demand= 7.827083232925874 res_k= 12.771306578579056\n",
      "w= 2.0 r= 0.07250000000000001 p_s= 1.4 labor suply= 0.8512358386779371 labor demand= 0.8501742623520834 res_l= 0.0010615763258536859\n",
      "\n",
      "Converged in 0 iterations.\n",
      "final w= 2.0\n",
      "w= 2.0 r= 0.07250000000000001 p_s= 1.4 capital supply= 11.01433459478069 capital demand= 7.488195553558525 res_k= 3.526139041222165\n",
      "w= 2.0 r= 0.07125000000000001 p_s= 1.4 labor suply= 0.855013858365095 labor demand= 0.7764168999622268 res_l= 0.07859695840286818\n",
      "w= 1.75 r= 0.07125000000000001 p_s= 1.4 labor suply= 0.7679922239226455 labor demand= 1.593431090845911 res_l= -0.8254388669232655\n",
      "w= 1.875 r= 0.07125000000000001 p_s= 1.4 labor suply= 0.7714210195055065 labor demand= 1.231097538874097 res_l= -0.45967651936859055\n",
      "w= 1.9375 r= 0.07125000000000001 p_s= 1.4 labor suply= 0.7733975083791137 labor demand= 1.084727595426998 res_l= -0.31133008704788423\n",
      "w= 1.96875 r= 0.07125000000000001 p_s= 1.4 labor suply= 0.8533756329856412 labor demand= 0.8491120008771422 res_l= 0.004263632108499005\n",
      "\n",
      "Converged in 4 iterations.\n",
      "final w= 1.96875\n",
      "w= 1.96875 r= 0.07125000000000001 p_s= 1.4 capital supply= 8.35100089641477 capital demand= 7.27946772620844 res_k= 1.0715331702063304\n",
      "w= 2.0 r= 0.07062500000000001 p_s= 1.4 labor suply= 0.856276682938762 labor demand= 0.7409268365689764 res_l= 0.11534984636978562\n",
      "w= 1.75 r= 0.07062500000000001 p_s= 1.4 labor suply= 0.7682765207995218 labor demand= 1.579767009609677 res_l= -0.8114904888101552\n",
      "w= 1.875 r= 0.07062500000000001 p_s= 1.4 labor suply= 0.7731452621767291 labor demand= 1.1900323899458154 res_l= -0.4168871277690863\n",
      "w= 1.9375 r= 0.07062500000000001 p_s= 1.4 labor suply= 0.7734648077450105 labor demand= 1.0672131923867394 res_l= -0.2937483846417289\n",
      "w= 1.96875 r= 0.07062500000000001 p_s= 1.4 labor suply= 0.8532188461436515 labor demand= 0.8531421925956787 res_l= 7.665354797281587e-05\n",
      "\n",
      "Converged in 4 iterations.\n",
      "final w= 1.96875\n",
      "w= 1.96875 r= 0.07062500000000001 p_s= 1.4 capital supply= 8.335430756559417 capital demand= 7.338477850323442 res_k= 0.9969529062359745\n",
      "w= 2.0 r= 0.0703125 p_s= 1.4 labor suply= 0.8573810685012235 labor demand= 0.7134279597913521 res_l= 0.14395310870987144\n",
      "w= 1.75 r= 0.0703125 p_s= 1.4 labor suply= 0.7702512381184266 labor demand= 1.5370839059922354 res_l= -0.7668326678738089\n",
      "w= 1.875 r= 0.0703125 p_s= 1.4 labor suply= 0.7744911699543678 labor demand= 1.1527980791721448 res_l= -0.378306909217777\n",
      "w= 1.9375 r= 0.0703125 p_s= 1.4 labor suply= 0.7748871592410512 labor demand= 1.0449150865776766 res_l= -0.2700279273366254\n",
      "w= 1.96875 r= 0.0703125 p_s= 1.4 labor suply= 0.8561683243679388 labor demand= 0.7772524859865767 res_l= 0.07891583838136207\n",
      "w= 1.953125 r= 0.0703125 p_s= 1.4 labor suply= 0.777180782329195 labor demand= 1.0060705715435694 res_l= -0.22888978921437442\n",
      "w= 1.9609375 r= 0.0703125 p_s= 1.4 labor suply= 0.8549983382769331 labor demand= 0.8106815075645891 res_l= 0.044316830712343935\n",
      "w= 1.95703125 r= 0.0703125 p_s= 1.4 labor suply= 0.8548437499667749 labor demand= 0.8159960555136 res_l= 0.03884769445317493\n",
      "w= 1.955078125 r= 0.0703125 p_s= 1.4 labor suply= 0.7821130497130263 labor demand= 0.9932733533262971 res_l= -0.21116030361327076\n",
      "w= 1.9560546875 r= 0.0703125 p_s= 1.4 labor suply= 0.8548428833646101 labor demand= 0.8169966937720666 res_l= 0.03784618959254349\n",
      "w= 1.95556640625 r= 0.0703125 p_s= 1.4 labor suply= 0.8546501347276543 labor demand= 0.8187400205499139 res_l= 0.03591011417774037\n",
      "w= 1.955322265625 r= 0.0703125 p_s= 1.4 labor suply= 0.8546501176822967 labor demand= 0.8189836970644951 res_l= 0.035666420617801564\n",
      "w= 1.9552001953125 r= 0.0703125 p_s= 1.4 labor suply= 0.7821130484501302 labor demand= 0.9931155283055455 res_l= -0.21100247985541531\n",
      "w= 1.95526123046875 r= 0.0703125 p_s= 1.4 labor suply= 0.8546501176822967 labor demand= 0.8190443941727069 res_l= 0.03560572350958979\n",
      "\n",
      "Converged in 14 iterations.\n",
      "final w= 1.955230712890625\n",
      "w= 1.955230712890625 r= 0.0703125 p_s= 1.4 capital supply= 6.565354201207305 capital demand= 6.842050548053076 res_k= -0.27669634684577105\n",
      "w= 2.0 r= 0.07046875 p_s= 1.4 labor suply= 0.8562766720744388 labor demand= 0.7413425968951245 res_l= 0.11493407517931431\n",
      "w= 1.75 r= 0.07046875 p_s= 1.4 labor suply= 0.7702893808383448 labor demand= 1.5357151690626276 res_l= -0.7654257882242829\n",
      "w= 1.875 r= 0.07046875 p_s= 1.4 labor suply= 0.7730914431515165 labor demand= 1.1913897734259933 res_l= -0.4182983302744768\n",
      "w= 1.9375 r= 0.07046875 p_s= 1.4 labor suply= 0.7749354333273012 labor demand= 1.0380366701530135 res_l= -0.2631012368257123\n",
      "w= 1.96875 r= 0.07046875 p_s= 1.4 labor suply= 0.8561666246679647 labor demand= 0.7770771667735853 res_l= 0.07908945789437938\n",
      "w= 1.953125 r= 0.07046875 p_s= 1.4 labor suply= 0.7821124208696774 labor demand= 0.9943245683582435 res_l= -0.2122121474885661\n",
      "w= 1.9609375 r= 0.07046875 p_s= 1.4 labor suply= 0.854998164436026 labor demand= 0.8102379050453495 res_l= 0.044760259390676516\n",
      "w= 1.95703125 r= 0.07046875 p_s= 1.4 labor suply= 0.854997059514326 labor demand= 0.814174463216677 res_l= 0.04082259629764906\n",
      "w= 1.955078125 r= 0.07046875 p_s= 1.4 labor suply= 0.8546500641065078 labor demand= 0.8187929736581383 res_l= 0.03585709044836949\n",
      "w= 1.9541015625 r= 0.07046875 p_s= 1.4 labor suply= 0.7821201777415882 labor demand= 0.9938152474363282 res_l= -0.21169506969474006\n",
      "w= 1.95458984375 r= 0.07046875 p_s= 1.4 labor suply= 0.85464999248589 labor demand= 0.8192929711943628 res_l= 0.03535702129152718\n",
      "w= 1.954345703125 r= 0.07046875 p_s= 1.4 labor suply= 0.8546493811817453 labor demand= 0.819558577229945 res_l= 0.03509080395180031\n",
      "w= 1.9542236328125 r= 0.07046875 p_s= 1.4 labor suply= 0.854649366842527 labor demand= 0.8196810077880989 res_l= 0.03496835905442808\n",
      "w= 1.95416259765625 r= 0.07046875 p_s= 1.4 labor suply= 0.7821201777415882 labor demand= 0.9937363387641228 res_l= -0.21161616102253467\n",
      "\n",
      "Converged in 14 iterations.\n",
      "final w= 1.954193115234375\n",
      "w= 1.954193115234375 r= 0.07046875 p_s= 1.4 capital supply= 6.568171138761784 capital demand= 8.434261726026795 res_k= -1.8660905872650115\n",
      "w= 2.0 r= 0.07054687500000001 p_s= 1.4 labor suply= 0.8562766587396092 labor demand= 0.741151059026277 res_l= 0.11512559971333225\n",
      "w= 1.75 r= 0.07054687500000001 p_s= 1.4 labor suply= 0.7682804079038279 labor demand= 1.580160380948123 res_l= -0.8118799730442952\n",
      "w= 1.875 r= 0.07054687500000001 p_s= 1.4 labor suply= 0.773140259308468 labor demand= 1.1904932335365288 res_l= -0.41735297422806084\n",
      "w= 1.9375 r= 0.07054687500000001 p_s= 1.4 labor suply= 0.7736013413985209 labor demand= 1.0600790890020801 res_l= -0.28647774760355926\n",
      "w= 1.96875 r= 0.07054687500000001 p_s= 1.4 labor suply= 0.8561666476983792 labor demand= 0.7768657703003877 res_l= 0.07930087739799152\n",
      "w= 1.953125 r= 0.07054687500000001 p_s= 1.4 labor suply= 0.7821295048973841 labor demand= 0.994732105748268 res_l= -0.2126026008508839\n",
      "w= 1.9609375 r= 0.07054687500000001 p_s= 1.4 labor suply= 0.855024017764512 labor demand= 0.7985667834114365 res_l= 0.05645723435307548\n",
      "w= 1.95703125 r= 0.07054687500000001 p_s= 1.4 labor suply= 0.8549964903675509 labor demand= 0.8139584861306779 res_l= 0.04103800423687298\n",
      "w= 1.955078125 r= 0.07054687500000001 p_s= 1.4 labor suply= 0.8548419753592821 labor demand= 0.8173564986863022 res_l= 0.037485476672979856\n",
      "w= 1.9541015625 r= 0.07054687500000001 p_s= 1.4 labor suply= 0.8546492286418252 labor demand= 0.8195930825972675 res_l= 0.03505614604455776\n",
      "w= 1.95361328125 r= 0.07054687500000001 p_s= 1.4 labor suply= 0.7821215391690748 labor demand= 0.9940855116359735 res_l= -0.2119639724668987\n",
      "w= 1.953857421875 r= 0.07054687500000001 p_s= 1.4 labor suply= 0.8546492167667691 labor demand= 0.8198366687167649 res_l= 0.03481254805000422\n",
      "w= 1.9537353515625 r= 0.07054687500000001 p_s= 1.4 labor suply= 0.8546492068672596 labor demand= 0.8199586554269466 res_l= 0.03469055144031308\n",
      "w= 1.95367431640625 r= 0.07054687500000001 p_s= 1.4 labor suply= 0.7821215253702879 labor demand= 0.9940065456211554 res_l= -0.21188502025086753\n",
      "\n",
      "Converged in 14 iterations.\n",
      "final w= 1.953704833984375\n",
      "w= 1.953704833984375 r= 0.07054687500000001 p_s= 1.4 capital supply= 6.569268135160748 capital demand= 6.836896333539172 res_k= -0.2676281983784241\n",
      "\n",
      "Converged in 8 iterations.\n",
      "w= 2.0 r= 0.0705859375 p_s= 1.4 labor suply= 0.8562766371290619 labor demand= 0.7410568210839085 res_l= 0.11521981604515341\n",
      "w= 1.75 r= 0.0705859375 p_s= 1.4 labor suply= 0.7682765118231898 labor demand= 1.580113138428923 res_l= -0.8118366266057333\n",
      "w= 1.875 r= 0.0705859375 p_s= 1.4 labor suply= 0.773139724953525 labor demand= 1.1902828511789394 res_l= -0.4171431262254144\n",
      "w= 1.9375 r= 0.0705859375 p_s= 1.4 labor suply= 0.7734647772789921 labor demand= 1.0674316703135922 res_l= -0.2939668930346001\n",
      "w= 1.96875 r= 0.0705859375 p_s= 1.4 labor suply= 0.8532188348550849 labor demand= 0.8533127852890956 res_l= -9.395043401072556e-05\n",
      "\n",
      "Converged in 4 iterations.\n",
      "final w= 1.96875\n"
     ]
    },
    {
     "name": "stderr",
     "output_type": "stream",
     "text": [
      "100%|██████████| 11/11 [1:48:41<00:00, 592.90s/it]\n"
     ]
    }
   ],
   "source": [
    "from tqdm import tqdm\n",
    "# capital 之前 工资要稳定：劳动力市场要出清\n",
    "def service_curve(pmin, pmax, pgrid_number):\n",
    "    pgrid = np.linspace(pmin, pmax, pgrid_number)\n",
    "    s_supply = np.zeros(pgrid_number)\n",
    "    s_demand = np.zeros(pgrid_number)\n",
    "    for i in tqdm(range(pgrid_number)):\n",
    "        p0 = pgrid[i]\n",
    "        r= r_update(p0,1e-4)\n",
    "        w = w_update(r,p0,1e-4)\n",
    "        a,b,l_supply,l_demand,s_supply[i],s_demand[i],=capital_and_labor_and_service(w,r,p0) #capital 只是为了占位\n",
    "    return pgrid, s_supply, s_demand\n",
    "\n",
    "pgrid, s_supply, s_demand = service_curve(\n",
    "     pmin=1.2, pmax=1.4, pgrid_number=11\n",
    ")\n"
   ]
  },
  {
   "cell_type": "code",
   "execution_count": 154,
   "id": "09a09071",
   "metadata": {},
   "outputs": [
    {
     "data": {
      "image/png": "[encoded data removed]",
      "text/plain": [
       "<Figure size 640x480 with 1 Axes>"
      ]
     },
     "metadata": {},
     "output_type": "display_data"
    }
   ],
   "source": [
    "# Plot\n",
    "plt.scatter(s_supply,pgrid,label=\"service_supply\")\n",
    "plt.scatter(s_demand,pgrid,label=\"service_demand\")\n",
    "# plt.title('capital market with w=w_eq')\n",
    "# plt.ylabel('r')\n",
    "# plt.xlim(5,5.2)\n",
    "# plt.xlabel('asset')\n",
    "plt.legend()\n",
    "plt.grid(True)"
   ]
  },
  {
   "cell_type": "code",
   "execution_count": 156,
   "id": "49112db3",
   "metadata": {},
   "outputs": [
    {
     "data": {
      "text/plain": [
       "array([-0.00687255, -0.00719011, -0.03051   ,  0.12676582,  0.1261305 ,\n",
       "        0.12893336,  0.17523225,  0.19089574,  0.19639722,  0.22025677,\n",
       "        0.20638344])"
      ]
     },
     "execution_count": 156,
     "metadata": {},
     "output_type": "execute_result"
    }
   ],
   "source": [
    "s_supply-s_demand"
   ]
  },
  {
   "cell_type": "markdown",
   "id": "5b91f046",
   "metadata": {},
   "source": [
    "## Precise search"
   ]
  },
  {
   "cell_type": "code",
   "execution_count": 54,
   "id": "eb649f5c",
   "metadata": {},
   "outputs": [],
   "source": [
    "# Complete cede for nested bisection method\n",
    "\n",
    "# nested bisection inner part: find equilibrium w given r and p_s\n",
    "def w_update(r,p_s,tol):\n",
    "    wmin = 1.5\n",
    "    wmax = 2.5\n",
    "    w0=1/2*(wmin+wmax)\n",
    "    error = np.inf\n",
    "    count = 0\n",
    "    max_iter = 1000\n",
    "    while count < max_iter and error > tol:\n",
    "        res = equilibrium_l(w0,r,p_s)\n",
    "        if np.abs(res) < 0.025:\n",
    "            w0=w0\n",
    "            break\n",
    "        if res < 0:\n",
    "            wmin=w0\n",
    "        if res > 0:\n",
    "            wmax=w0\n",
    "        w0=1/2*(wmin+wmax)\n",
    "        error = np.abs(wmax-wmin)\n",
    "        count = count + 1\n",
    "    if error > tol and np.abs(res) > 0.025:\n",
    "        print(\"Failed to converge!\")\n",
    "    else:\n",
    "        print(f\"\\nConverged in {count} iterations.\")\n",
    "    print(\"final w=\", w0)\n",
    "    return w0\n",
    "\n",
    "# nested bisection middle part: find equilibrium r given p_s\n",
    "def r_update(p_s,tol):\n",
    "    rmin=0.05\n",
    "    rmax=0.08\n",
    "    r0=1/2*(rmin+rmax)\n",
    "    error = np.inf\n",
    "    count = 0\n",
    "    max_iter = 1000\n",
    "    while count < max_iter and error > tol:\n",
    "        w = w_update(r0,p_s,1e-4)\n",
    "        res_k = equilibrium_k(w,r0,p_s)\n",
    "        if np.abs(res_k) < 0.1:\n",
    "            r0=r0\n",
    "            break\n",
    "        if res_k < 0: \n",
    "            rmin=r0\n",
    "        if res_k > 0:\n",
    "            rmax=r0\n",
    "        r0 = 1/2*(rmin+rmax)\n",
    "        error = np.abs(rmax-rmin)\n",
    "        count = count + 1\n",
    "    if error > tol and np.abs(res_k) > 0.1:\n",
    "        print(\"Failed to converge!\")\n",
    "    else:\n",
    "        print(f\"\\nConverged in {count} iterations.\")\n",
    "    return r0\n",
    "\n",
    "# nested bisection outer part: find equilibrium p_s\n",
    "def p_iteration(tol):\n",
    "    pmin=1.1\n",
    "    pmax=1.3\n",
    "    p0=0.5*(pmin+pmax)\n",
    "    error = np.inf\n",
    "    count = 0\n",
    "    max_iter = 1000\n",
    "    while count < max_iter and error > tol:\n",
    "        r= r_update(p0,1e-4)\n",
    "        w = w_update(r,p0,1e-4)\n",
    "        res_s = equilibrium_s(w,r,p0)\n",
    "        if res_s < 1e-3:\n",
    "            p0=p0\n",
    "            break\n",
    "        if res_s > 0:\n",
    "            pmax = p0\n",
    "        if res_s < 0:\n",
    "            pmin = p0\n",
    "        p0=0.5*(pmin+pmax)\n",
    "        error = np.abs(pmax-pmin)\n",
    "        count = count + 1\n",
    "        print('pmin=',pmin,'pmax=',pmax,'p0=',p0,'r=',r,'w=',w,'iteration times=',count,'res=',res_s)\n",
    "    if error > tol:\n",
    "        print(\"Failed to converge!\")\n",
    "    else:\n",
    "        print(f\"\\nConverged in {count} iterations.\")\n",
    "    return p0\n",
    "   "
   ]
  },
  {
   "cell_type": "code",
   "execution_count": 55,
   "id": "80c325d3",
   "metadata": {},
   "outputs": [
    {
     "name": "stdout",
     "output_type": "stream",
     "text": [
      "w= 2.0 r= 0.065 p_s= 1.2000000000000002 labor suply= 0.9682848593050791 labor demand= 0.12221504778435534 res_l= 0.8460698115207238\n",
      "w= 1.75 r= 0.065 p_s= 1.2000000000000002 labor suply= 0.910618543204023 labor demand= 0.3814634118978655 res_l= 0.5291551313061575\n",
      "w= 1.625 r= 0.065 p_s= 1.2000000000000002 labor suply= 0.8623238631979939 labor demand= 0.6626745749451421 res_l= 0.19964928825285178\n",
      "w= 1.5625 r= 0.065 p_s= 1.2000000000000002 labor suply= 0.8404388544430842 labor demand= 0.8333739700745726 res_l= 0.007064884368511604\n",
      "\n",
      "Converged in 3 iterations.\n",
      "final w= 1.5625\n",
      "w= 1.5625 r= 0.065 p_s= 1.2000000000000002 capital supply= 2.880738202215436 capital demand= 5.563907893536371 res_k= -2.6831696913209346\n",
      "w= 2.0 r= 0.07250000000000001 p_s= 1.2000000000000002 labor suply= 0.9313823079908367 labor demand= 0.37394938617091156 res_l= 0.5574329218199251\n",
      "w= 1.75 r= 0.07250000000000001 p_s= 1.2000000000000002 labor suply= 0.8895732271553923 labor demand= 0.7787957108356968 res_l= 0.11077751631969557\n",
      "w= 1.625 r= 0.07250000000000001 p_s= 1.2000000000000002 labor suply= 0.8393444881165294 labor demand= 1.1518023092309815 res_l= -0.3124578211144521\n",
      "w= 1.6875 r= 0.07250000000000001 p_s= 1.2000000000000002 labor suply= 0.8399677528900513 labor demand= 1.0120253579423122 res_l= -0.17205760505226086\n",
      "w= 1.71875 r= 0.07250000000000001 p_s= 1.2000000000000002 labor suply= 0.8399691291929752 labor demand= 0.9482445036514875 res_l= -0.10827537445851232\n",
      "w= 1.734375 r= 0.07250000000000001 p_s= 1.2000000000000002 labor suply= 0.8399719679808896 labor demand= 0.9217693992308612 res_l= -0.08179743124997163\n",
      "w= 1.7421875 r= 0.07250000000000001 p_s= 1.2000000000000002 labor suply= 0.889563171833722 labor demand= 0.7898114232386055 res_l= 0.09975174859511649\n",
      "w= 1.73828125 r= 0.07250000000000001 p_s= 1.2000000000000002 labor suply= 0.8404173503435929 labor demand= 0.913360008201139 res_l= -0.07294265785754617\n",
      "w= 1.740234375 r= 0.07250000000000001 p_s= 1.2000000000000002 labor suply= 0.8895556224161867 labor demand= 0.7931449608597908 res_l= 0.09641066155639588\n",
      "w= 1.7392578125 r= 0.07250000000000001 p_s= 1.2000000000000002 labor suply= 0.8420733571209391 labor demand= 0.907896744251012 res_l= -0.06582338713007285\n",
      "w= 1.73974609375 r= 0.07250000000000001 p_s= 1.2000000000000002 labor suply= 0.8420631783026189 labor demand= 0.9067045230251449 res_l= -0.06464134472252603\n",
      "w= 1.739990234375 r= 0.07250000000000001 p_s= 1.2000000000000002 labor suply= 0.8895084967620418 labor demand= 0.7935808734338894 res_l= 0.09592762332815241\n",
      "w= 1.7398681640625 r= 0.07250000000000001 p_s= 1.2000000000000002 labor suply= 0.8893942978953775 labor demand= 0.7940153940770805 res_l= 0.09537890381829695\n",
      "w= 1.73980712890625 r= 0.07250000000000001 p_s= 1.2000000000000002 labor suply= 0.8420631783026189 labor demand= 0.9066103791935283 res_l= -0.06454720089090937\n",
      "\n",
      "Converged in 14 iterations.\n",
      "final w= 1.739837646484375\n",
      "w= 1.739837646484375 r= 0.07250000000000001 p_s= 1.2000000000000002 capital supply= 16.14056992098134 capital demand= 6.091730379444599 res_k= 10.04883954153674\n",
      "w= 2.0 r= 0.06875 p_s= 1.2000000000000002 labor suply= 0.9434774098823611 labor demand= 0.194997518655635 res_l= 0.7484798912267261\n",
      "w= 1.75 r= 0.06875 p_s= 1.2000000000000002 labor suply= 0.8531416879825807 labor demand= 0.6831122142084769 res_l= 0.17002947377410382\n",
      "w= 1.625 r= 0.06875 p_s= 1.2000000000000002 labor suply= 0.8475678387769396 labor demand= 0.9705216327370236 res_l= -0.12295379396008399\n",
      "w= 1.6875 r= 0.06875 p_s= 1.2000000000000002 labor suply= 0.8493225230128526 labor demand= 0.8380235708534904 res_l= 0.011298952159362163\n",
      "\n",
      "Converged in 3 iterations.\n",
      "final w= 1.6875\n",
      "w= 1.6875 r= 0.06875 p_s= 1.2000000000000002 capital supply= 7.567333181113837 capital demand= 6.167902976481179 res_k= 1.399430204632658\n",
      "w= 2.0 r= 0.066875 p_s= 1.2000000000000002 labor suply= 0.9682958925460884 labor demand= 0.12118699393934972 res_l= 0.8471088986067387\n",
      "w= 1.75 r= 0.066875 p_s= 1.2000000000000002 labor suply= 0.9023244758938361 labor demand= 0.4400211863779275 res_l= 0.46230328951590866\n",
      "w= 1.625 r= 0.066875 p_s= 1.2000000000000002 labor suply= 0.8501739458952726 labor demand= 0.9280085919259484 res_l= -0.0778346460306758\n",
      "w= 1.6875 r= 0.066875 p_s= 1.2000000000000002 labor suply= 0.8567715755714221 labor demand= 0.6749891350041055 res_l= 0.18178244056731663\n",
      "w= 1.65625 r= 0.066875 p_s= 1.2000000000000002 labor suply= 0.8564986860433418 labor demand= 0.7140282346840707 res_l= 0.14247045135927106\n",
      "w= 1.640625 r= 0.066875 p_s= 1.2000000000000002 labor suply= 0.8564195292489778 labor demand= 0.7369520241794594 res_l= 0.11946750506951842\n",
      "w= 1.6328125 r= 0.066875 p_s= 1.2000000000000002 labor suply= 0.8502038853310314 labor demand= 0.9131829145161059 res_l= -0.06297902918507448\n",
      "w= 1.63671875 r= 0.066875 p_s= 1.2000000000000002 labor suply= 0.8502404105436715 labor demand= 0.9051399717621661 res_l= -0.0548995612184946\n",
      "w= 1.638671875 r= 0.066875 p_s= 1.2000000000000002 labor suply= 0.8502429285075054 labor demand= 0.9024929018203205 res_l= -0.05224997331281511\n",
      "w= 1.6396484375 r= 0.066875 p_s= 1.2000000000000002 labor suply= 0.8564007733722669 labor demand= 0.7397359525252968 res_l= 0.11666482084697016\n",
      "w= 1.63916015625 r= 0.066875 p_s= 1.2000000000000002 labor suply= 0.8564003118687937 labor demand= 0.7403090345906257 res_l= 0.11609127727816804\n",
      "w= 1.638916015625 r= 0.066875 p_s= 1.2000000000000002 labor suply= 0.8502434515017511 labor demand= 0.9021102032183765 res_l= -0.05186675171662547\n",
      "w= 1.6390380859375 r= 0.066875 p_s= 1.2000000000000002 labor suply= 0.8564003108241295 labor demand= 0.7404380798169515 res_l= 0.11596223100717795\n",
      "w= 1.63897705078125 r= 0.066875 p_s= 1.2000000000000002 labor suply= 0.8564003019991553 labor demand= 0.7405028433275154 res_l= 0.11589745867163992\n",
      "\n",
      "Converged in 14 iterations.\n",
      "final w= 1.638946533203125\n",
      "w= 1.638946533203125 r= 0.066875 p_s= 1.2000000000000002 capital supply= 4.488101293349523 capital demand= 5.190970481861447 res_k= -0.702869188511924\n",
      "w= 2.0 r= 0.0678125 p_s= 1.2000000000000002 labor suply= 0.943517337636296 labor demand= 0.19654034537904588 res_l= 0.7469769922572501\n",
      "w= 1.75 r= 0.0678125 p_s= 1.2000000000000002 labor suply= 0.8531255243675403 labor demand= 0.6860433262064508 res_l= 0.1670821981610895\n",
      "w= 1.625 r= 0.0678125 p_s= 1.2000000000000002 labor suply= 0.8524691458172311 labor demand= 0.855420785386736 res_l= -0.002951639569504949\n",
      "\n",
      "Converged in 2 iterations.\n",
      "final w= 1.625\n",
      "w= 1.625 r= 0.0678125 p_s= 1.2000000000000002 capital supply= 5.865318860751749 capital demand= 5.940740856573977 res_k= -0.07542199582222775\n",
      "\n",
      "Converged in 4 iterations.\n",
      "w= 2.0 r= 0.0678125 p_s= 1.2000000000000002 labor suply= 0.943517337636296 labor demand= 0.19654034537904588 res_l= 0.7469769922572501\n",
      "w= 1.75 r= 0.0678125 p_s= 1.2000000000000002 labor suply= 0.8531255243675403 labor demand= 0.6860433262064508 res_l= 0.1670821981610895\n",
      "w= 1.625 r= 0.0678125 p_s= 1.2000000000000002 labor suply= 0.8524691458172311 labor demand= 0.855420785386736 res_l= -0.002951639569504949\n",
      "\n",
      "Converged in 2 iterations.\n",
      "final w= 1.625\n",
      "w= 1.625 r= 0.0678125 p_s= 1.2000000000000002 service suply= 1.832543901743975 service demand= 1.8394164503748998 res_s= -0.00687254863092468\n",
      "Failed to converge!\n",
      "The time difference is : 605.1789116000291\n"
     ]
    }
   ],
   "source": [
    "start_time = timeit.default_timer()\n",
    "ps_eq = p_iteration(5*1e-3)\n",
    "print(\"The time difference is :\", timeit.default_timer() - start_time)"
   ]
  },
  {
   "cell_type": "code",
   "execution_count": 56,
   "id": "ef22d67a",
   "metadata": {},
   "outputs": [
    {
     "name": "stdout",
     "output_type": "stream",
     "text": [
      "w= 2.0 r= 0.065 p_s= 1.2000000000000002 labor suply= 0.9682848593050791 labor demand= 0.12221504778435534 res_l= 0.8460698115207238\n",
      "w= 1.75 r= 0.065 p_s= 1.2000000000000002 labor suply= 0.910618543204023 labor demand= 0.3814634118978655 res_l= 0.5291551313061575\n",
      "w= 1.625 r= 0.065 p_s= 1.2000000000000002 labor suply= 0.8623238631979939 labor demand= 0.6626745749451421 res_l= 0.19964928825285178\n",
      "w= 1.5625 r= 0.065 p_s= 1.2000000000000002 labor suply= 0.8404388544430842 labor demand= 0.8333739700745726 res_l= 0.007064884368511604\n",
      "\n",
      "Converged in 3 iterations.\n",
      "final w= 1.5625\n",
      "w= 1.5625 r= 0.065 p_s= 1.2000000000000002 capital supply= 2.880738202215436 capital demand= 5.563907893536371 res_k= -2.6831696913209346\n",
      "w= 2.0 r= 0.07250000000000001 p_s= 1.2000000000000002 labor suply= 0.9313823079908367 labor demand= 0.37394938617091156 res_l= 0.5574329218199251\n",
      "w= 1.75 r= 0.07250000000000001 p_s= 1.2000000000000002 labor suply= 0.8895732271553923 labor demand= 0.7787957108356968 res_l= 0.11077751631969557\n",
      "w= 1.625 r= 0.07250000000000001 p_s= 1.2000000000000002 labor suply= 0.8393444881165294 labor demand= 1.1518023092309815 res_l= -0.3124578211144521\n",
      "w= 1.6875 r= 0.07250000000000001 p_s= 1.2000000000000002 labor suply= 0.8399677528900513 labor demand= 1.0120253579423122 res_l= -0.17205760505226086\n",
      "w= 1.71875 r= 0.07250000000000001 p_s= 1.2000000000000002 labor suply= 0.8399691291929752 labor demand= 0.9482445036514875 res_l= -0.10827537445851232\n",
      "w= 1.734375 r= 0.07250000000000001 p_s= 1.2000000000000002 labor suply= 0.8399719679808896 labor demand= 0.9217693992308612 res_l= -0.08179743124997163\n",
      "w= 1.7421875 r= 0.07250000000000001 p_s= 1.2000000000000002 labor suply= 0.889563171833722 labor demand= 0.7898114232386055 res_l= 0.09975174859511649\n",
      "w= 1.73828125 r= 0.07250000000000001 p_s= 1.2000000000000002 labor suply= 0.8404173503435929 labor demand= 0.913360008201139 res_l= -0.07294265785754617\n",
      "w= 1.740234375 r= 0.07250000000000001 p_s= 1.2000000000000002 labor suply= 0.8895556224161867 labor demand= 0.7931449608597908 res_l= 0.09641066155639588\n",
      "w= 1.7392578125 r= 0.07250000000000001 p_s= 1.2000000000000002 labor suply= 0.8420733571209391 labor demand= 0.907896744251012 res_l= -0.06582338713007285\n",
      "w= 1.73974609375 r= 0.07250000000000001 p_s= 1.2000000000000002 labor suply= 0.8420631783026189 labor demand= 0.9067045230251449 res_l= -0.06464134472252603\n",
      "w= 1.739990234375 r= 0.07250000000000001 p_s= 1.2000000000000002 labor suply= 0.8895084967620418 labor demand= 0.7935808734338894 res_l= 0.09592762332815241\n",
      "w= 1.7398681640625 r= 0.07250000000000001 p_s= 1.2000000000000002 labor suply= 0.8893942978953775 labor demand= 0.7940153940770805 res_l= 0.09537890381829695\n",
      "w= 1.73980712890625 r= 0.07250000000000001 p_s= 1.2000000000000002 labor suply= 0.8420631783026189 labor demand= 0.9066103791935283 res_l= -0.06454720089090937\n",
      "\n",
      "Converged in 14 iterations.\n",
      "final w= 1.739837646484375\n",
      "w= 1.739837646484375 r= 0.07250000000000001 p_s= 1.2000000000000002 capital supply= 16.14056992098134 capital demand= 6.091730379444599 res_k= 10.04883954153674\n",
      "w= 2.0 r= 0.06875 p_s= 1.2000000000000002 labor suply= 0.9434774098823611 labor demand= 0.194997518655635 res_l= 0.7484798912267261\n",
      "w= 1.75 r= 0.06875 p_s= 1.2000000000000002 labor suply= 0.8531416879825807 labor demand= 0.6831122142084769 res_l= 0.17002947377410382\n",
      "w= 1.625 r= 0.06875 p_s= 1.2000000000000002 labor suply= 0.8475678387769396 labor demand= 0.9705216327370236 res_l= -0.12295379396008399\n",
      "w= 1.6875 r= 0.06875 p_s= 1.2000000000000002 labor suply= 0.8493225230128526 labor demand= 0.8380235708534904 res_l= 0.011298952159362163\n",
      "\n",
      "Converged in 3 iterations.\n",
      "final w= 1.6875\n",
      "w= 1.6875 r= 0.06875 p_s= 1.2000000000000002 capital supply= 7.567333181113837 capital demand= 6.167902976481179 res_k= 1.399430204632658\n",
      "w= 2.0 r= 0.066875 p_s= 1.2000000000000002 labor suply= 0.9682958925460884 labor demand= 0.12118699393934972 res_l= 0.8471088986067387\n",
      "w= 1.75 r= 0.066875 p_s= 1.2000000000000002 labor suply= 0.9023244758938361 labor demand= 0.4400211863779275 res_l= 0.46230328951590866\n",
      "w= 1.625 r= 0.066875 p_s= 1.2000000000000002 labor suply= 0.8501739458952726 labor demand= 0.9280085919259484 res_l= -0.0778346460306758\n",
      "w= 1.6875 r= 0.066875 p_s= 1.2000000000000002 labor suply= 0.8567715755714221 labor demand= 0.6749891350041055 res_l= 0.18178244056731663\n",
      "w= 1.65625 r= 0.066875 p_s= 1.2000000000000002 labor suply= 0.8564986860433418 labor demand= 0.7140282346840707 res_l= 0.14247045135927106\n",
      "w= 1.640625 r= 0.066875 p_s= 1.2000000000000002 labor suply= 0.8564195292489778 labor demand= 0.7369520241794594 res_l= 0.11946750506951842\n",
      "w= 1.6328125 r= 0.066875 p_s= 1.2000000000000002 labor suply= 0.8502038853310314 labor demand= 0.9131829145161059 res_l= -0.06297902918507448\n",
      "w= 1.63671875 r= 0.066875 p_s= 1.2000000000000002 labor suply= 0.8502404105436715 labor demand= 0.9051399717621661 res_l= -0.0548995612184946\n",
      "w= 1.638671875 r= 0.066875 p_s= 1.2000000000000002 labor suply= 0.8502429285075054 labor demand= 0.9024929018203205 res_l= -0.05224997331281511\n",
      "w= 1.6396484375 r= 0.066875 p_s= 1.2000000000000002 labor suply= 0.8564007733722669 labor demand= 0.7397359525252968 res_l= 0.11666482084697016\n",
      "w= 1.63916015625 r= 0.066875 p_s= 1.2000000000000002 labor suply= 0.8564003118687937 labor demand= 0.7403090345906257 res_l= 0.11609127727816804\n",
      "w= 1.638916015625 r= 0.066875 p_s= 1.2000000000000002 labor suply= 0.8502434515017511 labor demand= 0.9021102032183765 res_l= -0.05186675171662547\n",
      "w= 1.6390380859375 r= 0.066875 p_s= 1.2000000000000002 labor suply= 0.8564003108241295 labor demand= 0.7404380798169515 res_l= 0.11596223100717795\n",
      "w= 1.63897705078125 r= 0.066875 p_s= 1.2000000000000002 labor suply= 0.8564003019991553 labor demand= 0.7405028433275154 res_l= 0.11589745867163992\n",
      "\n",
      "Converged in 14 iterations.\n",
      "final w= 1.638946533203125\n",
      "w= 1.638946533203125 r= 0.066875 p_s= 1.2000000000000002 capital supply= 4.488101293349523 capital demand= 5.190970481861447 res_k= -0.702869188511924\n",
      "w= 2.0 r= 0.0678125 p_s= 1.2000000000000002 labor suply= 0.943517337636296 labor demand= 0.19654034537904588 res_l= 0.7469769922572501\n",
      "w= 1.75 r= 0.0678125 p_s= 1.2000000000000002 labor suply= 0.8531255243675403 labor demand= 0.6860433262064508 res_l= 0.1670821981610895\n",
      "w= 1.625 r= 0.0678125 p_s= 1.2000000000000002 labor suply= 0.8524691458172311 labor demand= 0.855420785386736 res_l= -0.002951639569504949\n",
      "\n",
      "Converged in 2 iterations.\n",
      "final w= 1.625\n",
      "w= 1.625 r= 0.0678125 p_s= 1.2000000000000002 capital supply= 5.865318860751749 capital demand= 5.940740856573977 res_k= -0.07542199582222775\n",
      "\n",
      "Converged in 4 iterations.\n",
      "w= 2.0 r= 0.0678125 p_s= 1.2000000000000002 labor suply= 0.943517337636296 labor demand= 0.19654034537904588 res_l= 0.7469769922572501\n",
      "w= 1.75 r= 0.0678125 p_s= 1.2000000000000002 labor suply= 0.8531255243675403 labor demand= 0.6860433262064508 res_l= 0.1670821981610895\n",
      "w= 1.625 r= 0.0678125 p_s= 1.2000000000000002 labor suply= 0.8524691458172311 labor demand= 0.855420785386736 res_l= -0.002951639569504949\n",
      "\n",
      "Converged in 2 iterations.\n",
      "final w= 1.625\n"
     ]
    }
   ],
   "source": [
    "r_eq = r_update(ps_eq ,1e-4)\n",
    "w_eq = w_update(r_eq,ps_eq ,1e-4)"
   ]
  },
  {
   "cell_type": "code",
   "execution_count": 57,
   "id": "3c5fc9ac",
   "metadata": {},
   "outputs": [
    {
     "name": "stdout",
     "output_type": "stream",
     "text": [
      "w= 1.625 r= 0.0678125 p_s= 1.2000000000000002 service suply= 1.832543901743975 service demand= 1.8394164503748998 res_s= -0.00687254863092468\n"
     ]
    },
    {
     "data": {
      "text/plain": [
       "-0.00687254863092468"
      ]
     },
     "execution_count": 57,
     "metadata": {},
     "output_type": "execute_result"
    }
   ],
   "source": [
    "equilibrium_s(w_eq,r_eq,ps_eq)"
   ]
  },
  {
   "cell_type": "code",
   "execution_count": 58,
   "id": "16127dff",
   "metadata": {},
   "outputs": [
    {
     "name": "stdout",
     "output_type": "stream",
     "text": [
      "w= 1.625 r= 0.0678125 p_s= 1.2000000000000002 capital supply= 5.865318860751749 capital demand= 5.940740856573977 res_k= -0.07542199582222775\n"
     ]
    },
    {
     "data": {
      "text/plain": [
       "-0.07542199582222775"
      ]
     },
     "execution_count": 58,
     "metadata": {},
     "output_type": "execute_result"
    }
   ],
   "source": [
    "equilibrium_k(w_eq,r_eq,ps_eq)"
   ]
  },
  {
   "cell_type": "code",
   "execution_count": 59,
   "id": "0e17ada9",
   "metadata": {},
   "outputs": [
    {
     "name": "stdout",
     "output_type": "stream",
     "text": [
      "w= 1.625 r= 0.0678125 p_s= 1.2000000000000002 labor suply= 0.8524691458172311 labor demand= 0.855420785386736 res_l= -0.002951639569504949\n"
     ]
    },
    {
     "data": {
      "text/plain": [
       "-0.002951639569504949"
      ]
     },
     "execution_count": 59,
     "metadata": {},
     "output_type": "execute_result"
    }
   ],
   "source": [
    "equilibrium_l(w_eq,r_eq,ps_eq)"
   ]
  },
  {
   "cell_type": "markdown",
   "id": "f8d74a7e",
   "metadata": {},
   "source": [
    "## Final check: manufacture goods"
   ]
  },
  {
   "cell_type": "code",
   "execution_count": 60,
   "id": "56f9001f",
   "metadata": {},
   "outputs": [],
   "source": [
    "capital_supply,k_demand,labor_supply,l_demand,service_supply,service_demand,m_supply,m_demand,fixed_cost=capital_and_labor_and_service_and_manufacture(w_eq,r_eq,ps_eq)"
   ]
  },
  {
   "cell_type": "code",
   "execution_count": 61,
   "id": "8a4c865d",
   "metadata": {},
   "outputs": [
    {
     "name": "stdout",
     "output_type": "stream",
     "text": [
      "m-goods_demand= 0.21830436993460686 m-goods_supply= 0.6378019633224097 capital_supply= 5.865318860751749 capital_demand= 5.940740856573977 fixed cost= 0.0421144141802898\n"
     ]
    }
   ],
   "source": [
    "print('m-goods_demand=',m_demand,'m-goods_supply=',m_supply,'capital_supply=',capital_supply,'capital_demand=',k_demand,'fixed cost=',fixed_cost)"
   ]
  },
  {
   "cell_type": "code",
   "execution_count": 62,
   "id": "a17d552e",
   "metadata": {},
   "outputs": [
    {
     "data": {
      "text/plain": [
       "0.02260816385080712"
      ]
     },
     "execution_count": 62,
     "metadata": {},
     "output_type": "execute_result"
    }
   ],
   "source": [
    "m_supply-m_demand-delta*capital_supply-(1+r_eq)*fixed_cost"
   ]
  },
  {
   "cell_type": "code",
   "execution_count": 63,
   "id": "8879655d",
   "metadata": {},
   "outputs": [
    {
     "data": {
      "text/plain": [
       "0.018082844101473497"
      ]
     },
     "execution_count": 63,
     "metadata": {},
     "output_type": "execute_result"
    }
   ],
   "source": [
    "m_supply-m_demand-delta*k_demand-(1+r_eq)*fixed_cost"
   ]
  }
 ],
 "metadata": {
  "kernelspec": {
   "display_name": "Python 3",
   "language": "python",
   "name": "python3"
  },
  "language_info": {
   "codemirror_mode": {
    "name": "ipython",
    "version": 3
   },
   "file_extension": ".py",
   "mimetype": "text/x-python",
   "name": "python",
   "nbconvert_exporter": "python",
   "pygments_lexer": "ipython3",
   "version": "3.12.4"
  }
 },
 "nbformat": 4,
 "nbformat_minor": 5
}
