{
 "cells": [
  {
   "cell_type": "markdown",
   "id": "9251f481",
   "metadata": {},
   "source": [
    "# HW2 2021300003004 张天骏"
   ]
  },
  {
   "cell_type": "markdown",
   "id": "571a8577",
   "metadata": {},
   "source": [
    "# 前三问："
   ]
  },
  {
   "cell_type": "markdown",
   "id": "c47de567",
   "metadata": {},
   "source": [
    "将约束条件带入优化问题得到：$$ v(k)=\\underset{k' }{ \\max } [\\frac{(k^\\alpha +(1-\\delta)k-k')^{1-\\gamma}}{1-\\gamma}+\\beta v(k')]  $$"
   ]
  },
  {
   "cell_type": "markdown",
   "id": "bf8baf61",
   "metadata": {},
   "source": [
    "最优化问题关于自变量 $k' $求导得到FOC：$$ \\beta v(k_{t+1})-(k^\\alpha_{t} +(1-\\delta)k_{t} -k_{t+1})^{-\\gamma}=0 $$"
   ]
  },
  {
   "cell_type": "markdown",
   "id": "73611df0",
   "metadata": {},
   "source": [
    "应用包络引理得到：$$ v'(k_{t})-(k^\\alpha_{t} +(1-\\delta)k_{t} -k_{t+1})^{-\\gamma}(\\alpha k^{\\alpha-1}_{t}+(1-\\delta))=0 $$"
   ]
  },
  {
   "cell_type": "markdown",
   "id": "9de53e55",
   "metadata": {},
   "source": [
    "两个方程联立得到EE:$$\\beta  (k^\\alpha_{t+1} +(1-\\delta)k_{t+1} -k_{t+2})^{-\\gamma}(\\alpha k^{\\alpha-1}_{t+1}+(1-\\delta))=(k^\\alpha_{t} +(1-\\delta)k_{t} -k_{t+1})^{-\\gamma}$$"
   ]
  },
  {
   "cell_type": "markdown",
   "id": "0ebcacf4",
   "metadata": {},
   "source": [
    "对于稳态$k^*$，带入EE得到：$$k^*=\\left[  \\frac{1-\\beta(1-\\delta)}{\\alpha \\beta} \\right] ^{ 1/(\\alpha-1)  }$$"
   ]
  },
  {
   "cell_type": "markdown",
   "id": "a4247776",
   "metadata": {},
   "source": [
    "# 第四问："
   ]
  },
  {
   "cell_type": "markdown",
   "id": "8c2029dc",
   "metadata": {},
   "source": [
    "给定$\\alpha=\\frac{1}{3},\\beta=0.95,\\delta=0.1,\\gamma=1.5$ 可以求出$k^* \\approx 3.227$"
   ]
  },
  {
   "cell_type": "markdown",
   "id": "c9d95a06",
   "metadata": {},
   "source": [
    "下面根据参考代码改造得到本问程序："
   ]
  },
  {
   "cell_type": "code",
   "execution_count": 2,
   "id": "d685bf4b",
   "metadata": {},
   "outputs": [],
   "source": [
    "# import\n",
    "\n",
    "import timeit\n",
    "import numpy as np\n",
    "import matplotlib.pyplot as plt"
   ]
  },
  {
   "cell_type": "code",
   "execution_count": 2,
   "id": "6714f9b4",
   "metadata": {},
   "outputs": [],
   "source": [
    "beta = 0.95\n",
    "alpha = 1 / 3\n",
    "gamma = 1.5\n",
    "delta = 0.1\n",
    "kss = ((1 - beta * (1-delta)) / (alpha * beta)) ** (1 / (alpha - 1))\n",
    "kmin = 0.5 * kss\n",
    "kmax = 1.5 * kss\n",
    "n = 500\n",
    "kgrid = np.linspace(kmin, kmax, n)"
   ]
  },
  {
   "cell_type": "code",
   "execution_count": 3,
   "id": "38018ff8",
   "metadata": {},
   "outputs": [],
   "source": [
    "# step 1\n",
    "\n",
    "V0 = np.zeros(n)"
   ]
  },
  {
   "cell_type": "code",
   "execution_count": 4,
   "id": "d350a154",
   "metadata": {},
   "outputs": [],
   "source": [
    "# step 2\n",
    "def V_update(V):\n",
    "    global gamma\n",
    "    global delta\n",
    "    V_new = np.zeros(n)  # initialize updated value function and policy function\n",
    "    g_new = np.zeros(n)\n",
    "    for i in range(n):  # loop over grid points\n",
    "        k = kgrid[i]\n",
    "        k_bound = k**alpha+(1-delta)*k  # keep non-zero consumption\n",
    "        V_max = -np.inf  # initialize maximum value\n",
    "        g_k = kss  # initialize g_k\n",
    "        for j in range(n):  # loop over possible k_next\n",
    "            k_next = kgrid[j]\n",
    "            V_next = V[j]\n",
    "            if k_next < k_bound:  # check feasibility\n",
    "                c = k**alpha - k_next + (1-delta)*k\n",
    "                V_current = (c**(1-gamma))/(1-gamma)+beta*V_next\n",
    "                if V_current > V_max:\n",
    "                    V_max = V_current\n",
    "                    g_k = k_next\n",
    "        V_new[i] = V_max  # save\n",
    "        g_new[i] = g_k\n",
    "    return V_new, g_new"
   ]
  },
  {
   "cell_type": "code",
   "execution_count": 5,
   "id": "7208e5c2",
   "metadata": {},
   "outputs": [],
   "source": [
    "# step 3\n",
    "def V_iteration(V_initial):\n",
    "    V = V_initial\n",
    "    error = np.inf\n",
    "    count = 0\n",
    "    max_iter = 1000\n",
    "    print_skip = 50\n",
    "    tol = 1e-7\n",
    "    while count < max_iter and error > tol:\n",
    "        V_new, g_new = V_update(V)\n",
    "        error = np.max(np.abs(V_new - V))\n",
    "        V = V_new\n",
    "        count = count + 1\n",
    "        if count % print_skip == 0:\n",
    "            print(f\"Error at iteration {count} is {error}.\")\n",
    "    if error > tol:\n",
    "        print(\"Failed to converge!\")\n",
    "    else:\n",
    "        print(f\"\\nConverged in {count} iterations.\")\n",
    "    return V_new, g_new"
   ]
  },
  {
   "cell_type": "code",
   "execution_count": 6,
   "id": "5189250e",
   "metadata": {},
   "outputs": [
    {
     "name": "stdout",
     "output_type": "stream",
     "text": [
      "Error at iteration 50 is 0.1556269009771043.\n",
      "Error at iteration 100 is 0.011973136288304431.\n",
      "Error at iteration 150 is 0.0009212726757112932.\n",
      "Error at iteration 200 is 7.08873032806423e-05.\n",
      "Error at iteration 250 is 5.454421817319144e-06.\n",
      "Error at iteration 300 is 4.1969038022671157e-07.\n",
      "\n",
      "Converged in 328 iterations.\n",
      "The time difference is : 99.9083483\n"
     ]
    }
   ],
   "source": [
    "start_time = timeit.default_timer()\n",
    "V, g = V_iteration(V0)\n",
    "print(\"The time difference is :\", timeit.default_timer() - start_time)"
   ]
  },
  {
   "cell_type": "code",
   "execution_count": 9,
   "id": "9c537016",
   "metadata": {},
   "outputs": [
    {
     "data": {
      "text/plain": [
       "Text(0.5, 1.0, 'value function')"
      ]
     },
     "execution_count": 9,
     "metadata": {},
     "output_type": "execute_result"
    },
    {
     "data": {
      "image/png": "[encoded data removed]",
      "text/plain": [
       "<Figure size 432x288 with 1 Axes>"
      ]
     },
     "metadata": {
      "needs_background": "light"
     },
     "output_type": "display_data"
    }
   ],
   "source": [
    "plt.plot(kgrid,V)\n",
    "plt.title(\"value function\")"
   ]
  },
  {
   "cell_type": "code",
   "execution_count": 10,
   "id": "2599e38b",
   "metadata": {},
   "outputs": [
    {
     "data": {
      "text/plain": [
       "Text(0.5, 1.0, 'policy function')"
      ]
     },
     "execution_count": 10,
     "metadata": {},
     "output_type": "execute_result"
    },
    {
     "data": {
      "image/png": "[encoded data removed]",
      "text/plain": [
       "<Figure size 432x288 with 1 Axes>"
      ]
     },
     "metadata": {
      "needs_background": "light"
     },
     "output_type": "display_data"
    }
   ],
   "source": [
    "plt.plot(kgrid,g)\n",
    "plt.title(\"policy function\")"
   ]
  },
  {
   "cell_type": "markdown",
   "id": "42041892",
   "metadata": {},
   "source": [
    "# 第五问"
   ]
  },
  {
   "cell_type": "markdown",
   "id": "7cc3bea8",
   "metadata": {},
   "source": [
    "我以数值计算得到的稳态与理论上的稳态的欧氏距离来评价数值模拟的准确性。在这里以防所求的两个数组之差没有严格的零点，我将条件放松到“两个数组之差小于$10^{-3}$”。这时候我们会得到一组指数$z$，我取其均值$\\bar{z}$，按照公式$assess=0.5+\\frac{\\bar{z}}{500}$得到了估计出的稳态点。"
   ]
  },
  {
   "cell_type": "code",
   "execution_count": 102,
   "id": "c1708e3e",
   "metadata": {},
   "outputs": [
    {
     "name": "stdout",
     "output_type": "stream",
     "text": [
      "0.004564219481369636\n"
     ]
    }
   ],
   "source": [
    "x=g-kgrid\n",
    "y=np.where(abs(x)<1e-3)\n",
    "z=np.mean(y)\n",
    "assess=0.5* kss+z*kss/500\n",
    "err=(2*(assess-kss)**(2))**(0.5)\n",
    "print(err)"
   ]
  },
  {
   "cell_type": "code",
   "execution_count": 106,
   "id": "99f68cb2",
   "metadata": {},
   "outputs": [
    {
     "data": {
      "text/plain": [
       "Text(0.5, 1.0, 'assessment')"
      ]
     },
     "execution_count": 106,
     "metadata": {},
     "output_type": "execute_result"
    },
    {
     "data": {
      "image/png": "[encoded data removed]",
      "text/plain": [
       "<Figure size 432x288 with 1 Axes>"
      ]
     },
     "metadata": {
      "needs_background": "light"
     },
     "output_type": "display_data"
    }
   ],
   "source": [
    "plt.plot(kgrid,g,label='estimate')\n",
    "plt.plot(kgrid,kgrid,label='45 degree')\n",
    "plt.axvline(x=kss,color='green',label='theoty ss')\n",
    "plt.axvline(x=assess,color='red',label='numerical ss')\n",
    "plt.legend()\n",
    "plt.title(\"assessment\")"
   ]
  },
  {
   "cell_type": "markdown",
   "id": "2b8bba39",
   "metadata": {},
   "source": [
    "# 第六问"
   ]
  },
  {
   "cell_type": "markdown",
   "id": "43e2b823",
   "metadata": {},
   "source": [
    "基于目前的算法，我认为可以从以下几个方面来进一步提升估计的准确性：\n",
    "\n",
    "1.细化状态空间：比如增加资本存量网格kgrid的点数n，可以提高算法的精度。\n",
    "\n",
    "2.调整收敛标准：调整收敛标准(加强终止条件)和迭代次数，使得算法可以更精细地搜索值函数的收敛点。\n",
    "\n",
    "3.尝试不同的初始化值：因为代码并没有明确给出$g_k$的初始条件，所以不妨尝试不同的初始值设定，也许可以影响值函数迭代的收敛速度和结果的准确性。"
   ]
  },
  {
   "cell_type": "code",
   "execution_count": null,
   "id": "6f741620",
   "metadata": {},
   "outputs": [],
   "source": []
  }
 ],
 "metadata": {
  "kernelspec": {
   "display_name": "Python 3 (ipykernel)",
   "language": "python",
   "name": "python3"
  },
  "language_info": {
   "codemirror_mode": {
    "name": "ipython",
    "version": 3
   },
   "file_extension": ".py",
   "mimetype": "text/x-python",
   "name": "python",
   "nbconvert_exporter": "python",
   "pygments_lexer": "ipython3",
   "version": "3.9.12"
  }
 },
 "nbformat": 4,
 "nbformat_minor": 5
}
