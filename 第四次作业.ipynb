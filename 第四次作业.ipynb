{
 "cells": [
  {
   "cell_type": "markdown",
   "id": "7403968f",
   "metadata": {},
   "source": [
    "# HW4 2021300003004 张天骏"
   ]
  },
  {
   "cell_type": "markdown",
   "id": "52c4a46a",
   "metadata": {},
   "source": [
    "## benchmark model"
   ]
  },
  {
   "cell_type": "code",
   "execution_count": 7,
   "id": "bf931de5",
   "metadata": {},
   "outputs": [],
   "source": [
    "# import\n",
    "\n",
    "import timeit\n",
    "import numpy as np\n",
    "import matplotlib.pyplot as plt\n",
    "beta = 0.95\n",
    "alpha = 1 / 3\n",
    "gamma = 1.5\n",
    "delta = 0.1\n",
    "kss = ((1 - beta * (1-delta)) / (alpha * beta)) ** (1 / (alpha - 1))\n",
    "kmin = 0.5 * kss\n",
    "kmax = 1.5 * kss\n",
    "n=1000\n",
    "kgrid = np.linspace(kmin, kmax, n)"
   ]
  },
  {
   "cell_type": "code",
   "execution_count": 3,
   "id": "f4c86fdd",
   "metadata": {},
   "outputs": [],
   "source": [
    "# step 1\n",
    "V0 = np.zeros(n)\n",
    "# step 2\n",
    "def V_update(V):\n",
    "    global gamma\n",
    "    global delta\n",
    "    V_new = np.zeros(n)  # initialize updated value function and policy function\n",
    "    g_new = np.zeros(n)\n",
    "    for i in range(n):  # loop over grid points\n",
    "        k = kgrid[i]\n",
    "        k_bound = k**alpha+(1-delta)*k  # keep non-zero consumption\n",
    "        V_max = -np.inf  # initialize maximum value\n",
    "        for j in range(n):  # loop over possible k_next\n",
    "            k_next = kgrid[j]\n",
    "            V_next = V[j]\n",
    "            if k_next < k_bound:  # check feasibility\n",
    "                c = k**alpha - k_next + (1-delta)*k\n",
    "                V_current = (c**(1-gamma))/(1-gamma)+beta*V_next\n",
    "                if V_current > V_max:\n",
    "                    V_max = V_current\n",
    "                    g_k = k_next\n",
    "        V_new[i] = V_max  # save\n",
    "        g_new[i] = g_k\n",
    "    return V_new, g_new"
   ]
  },
  {
   "cell_type": "code",
   "execution_count": 4,
   "id": "53be2582",
   "metadata": {},
   "outputs": [],
   "source": [
    "# step 3\n",
    "def V_iteration(V_initial,tol):\n",
    "    V = V_initial\n",
    "    error = np.inf\n",
    "    count = 0\n",
    "    max_iter = 1000\n",
    "    print_skip = 50\n",
    "    while count < max_iter and error > tol:\n",
    "        V_new, g_new = V_update(V)\n",
    "        error = np.max(np.abs(V_new - V))\n",
    "        V = V_new\n",
    "        count = count + 1\n",
    "        if count % print_skip == 0:\n",
    "            print(f\"Error at iteration {count} is {error}.\")\n",
    "    if error > tol:\n",
    "        print(\"Failed to converge!\")\n",
    "    else:\n",
    "        print(f\"\\nConverged in {count} iterations.\")\n",
    "    return V_new, g_new"
   ]
  },
  {
   "cell_type": "code",
   "execution_count": 5,
   "id": "691cc556",
   "metadata": {},
   "outputs": [
    {
     "name": "stdout",
     "output_type": "stream",
     "text": [
      "Error at iteration 50 is 0.15562739536149195.\n",
      "Error at iteration 100 is 0.011973136388760963.\n",
      "Error at iteration 150 is 0.0009212726834419982.\n",
      "Error at iteration 200 is 7.088730387039277e-05.\n",
      "\n",
      "Converged in 239 iterations.\n",
      "The time difference is : 286.1996236\n"
     ]
    }
   ],
   "source": [
    "start_time = timeit.default_timer()\n",
    "V, g = V_iteration(V0,tol=10e-6)\n",
    "print(\"The time difference is :\", timeit.default_timer() - start_time)"
   ]
  },
  {
   "cell_type": "markdown",
   "id": "5369ea7d",
   "metadata": {},
   "source": [
    "## 1(a) concave value function only"
   ]
  },
  {
   "cell_type": "markdown",
   "id": "3e935833",
   "metadata": {},
   "source": [
    "由于价值函数$V(\\cdot)$是凹的，每次更新得到的最优价值函数唯一，从而一旦发现价值函数下降，便可以停止搜索，以当前值作为更新结果。代码如下："
   ]
  },
  {
   "cell_type": "code",
   "execution_count": 18,
   "id": "03dc8a36",
   "metadata": {},
   "outputs": [],
   "source": [
    "# step 1\n",
    "V0 = np.zeros(n)\n",
    "# step 2\n",
    "def V_update(V):\n",
    "    global gamma\n",
    "    global delta\n",
    "    global V_max\n",
    "    V_new = np.zeros(n)  # initialize updated value function and policy function\n",
    "    g_new = np.zeros(n)\n",
    "    for i in range(n):  # loop over grid points\n",
    "        k = kgrid[i]\n",
    "        k_bound = k**alpha+(1-delta)*k  # keep non-zero consumption\n",
    "        V_max = -np.inf  # initialize maximum value\n",
    "        g_k = kss  # initialize g_k\n",
    "        for j in range(n):  # loop over possible k_next\n",
    "            k_next = kgrid[j]\n",
    "            V_next = V[j]\n",
    "            if k_next < k_bound:  # check feasibility\n",
    "                c = k**alpha - k_next + (1-delta)*k\n",
    "                V_current = (c**(1-gamma))/(1-gamma)+beta*V_next\n",
    "                if V_current > V_max:\n",
    "                    V_max = V_current\n",
    "                    g_k = k_next\n",
    "                else:\n",
    "                    break\n",
    "        V_new[i] = V_max  # save\n",
    "        g_new[i] = g_k\n",
    "    return V_new, g_new"
   ]
  },
  {
   "cell_type": "code",
   "execution_count": 19,
   "id": "a84fb25f",
   "metadata": {},
   "outputs": [],
   "source": [
    "# step 3\n",
    "def V_iteration(V_initial,tol):\n",
    "    V = V_initial\n",
    "    error = np.inf\n",
    "    count = 0\n",
    "    max_iter = 1000\n",
    "    print_skip = 50\n",
    "    while count < max_iter and error > tol:\n",
    "        V_new, g_new = V_update(V)\n",
    "        error = np.max(np.abs(V_new - V))\n",
    "        V = V_new\n",
    "        count = count + 1\n",
    "        if count % print_skip == 0:\n",
    "            print(f\"Error at iteration {count} is {error}.\")\n",
    "    if error > tol:\n",
    "        print(\"Failed to converge!\")\n",
    "    else:\n",
    "        print(f\"\\nConverged in {count} iterations.\")\n",
    "    return V_new, g_new"
   ]
  },
  {
   "cell_type": "code",
   "execution_count": 20,
   "id": "9d5f124d",
   "metadata": {},
   "outputs": [
    {
     "name": "stdout",
     "output_type": "stream",
     "text": [
      "Error at iteration 50 is 0.15562739536149195.\n",
      "Error at iteration 100 is 0.011973136388760963.\n",
      "Error at iteration 150 is 0.0009212726834419982.\n",
      "Error at iteration 200 is 7.088730387039277e-05.\n",
      "\n",
      "Converged in 239 iterations.\n",
      "The time difference is : 179.71150850000004\n"
     ]
    }
   ],
   "source": [
    "start_time = timeit.default_timer()\n",
    "V, g = V_iteration(V0,tol=10e-6)\n",
    "print(\"The time difference is :\", timeit.default_timer() - start_time)"
   ]
  },
  {
   "cell_type": "markdown",
   "id": "a39e65bf",
   "metadata": {},
   "source": [
    "## 1(b) increasing policy function only"
   ]
  },
  {
   "cell_type": "markdown",
   "id": "22b4e52a",
   "metadata": {},
   "source": [
    "由于对策函数$g(k)$是单增的，所以第$t$次搜索的起点可以从$g(k_{t-1})$开始，这样做可以显著减少运算次数。代码如下："
   ]
  },
  {
   "cell_type": "code",
   "execution_count": 77,
   "id": "f8dd3b1d",
   "metadata": {},
   "outputs": [],
   "source": [
    "# step 1\n",
    "V0 = np.zeros(n)\n",
    "# step 2\n",
    "def V_update(V):\n",
    "    global gamma\n",
    "    global delta\n",
    "    V_new = np.zeros(n)  # initialize updated value function and policy function\n",
    "    g_new = np.zeros(n)\n",
    "    k_start = 0\n",
    "    for i in range(n):  # loop over grid points\n",
    "        k = kgrid[i]\n",
    "        k_bound = k**alpha+(1-delta)*k  # keep non-zero consumption\n",
    "        V_max = -np.inf  # initialize maximum value\n",
    "        for j in range(k_start,n):  # loop over possible k_next\n",
    "            k_next = kgrid[j]\n",
    "            V_next = V[j]\n",
    "            if k_next < k_bound:  # check feasibility\n",
    "                c = k**alpha - k_next + (1-delta)*k\n",
    "                V_current = (c**(1-gamma))/(1-gamma)+beta*V_next\n",
    "                if V_current > V_max:\n",
    "                    V_max = V_current\n",
    "                    g_k = k_next\n",
    "                    k_start = j\n",
    "        V_new[i] = V_max  # save\n",
    "        g_new[i] = g_k\n",
    "    return V_new, g_new"
   ]
  },
  {
   "cell_type": "code",
   "execution_count": 78,
   "id": "8409d405",
   "metadata": {},
   "outputs": [],
   "source": [
    "# step 3\n",
    "def V_iteration(V_initial,tol):\n",
    "    V = V_initial\n",
    "    error = np.inf\n",
    "    count = 0\n",
    "    max_iter = 1000\n",
    "    print_skip = 50\n",
    "    while count < max_iter and error > tol:\n",
    "        V_new, g_new = V_update(V)\n",
    "        error = np.max(np.abs(V_new - V))\n",
    "        V = V_new\n",
    "        count = count + 1\n",
    "        if count % print_skip == 0:\n",
    "            print(f\"Error at iteration {count} is {error}.\")\n",
    "    if error > tol:\n",
    "        print(\"Failed to converge!\")\n",
    "    else:\n",
    "        print(f\"\\nConverged in {count} iterations.\")\n",
    "    return V_new, g_new"
   ]
  },
  {
   "cell_type": "code",
   "execution_count": 79,
   "id": "d25327ea",
   "metadata": {},
   "outputs": [
    {
     "name": "stdout",
     "output_type": "stream",
     "text": [
      "Error at iteration 50 is 0.15562739536149195.\n",
      "Error at iteration 100 is 0.011973136388760963.\n",
      "Error at iteration 150 is 0.0009212726834419982.\n",
      "Error at iteration 200 is 7.088730387039277e-05.\n",
      "\n",
      "Converged in 239 iterations.\n",
      "The time difference is : 124.27733249999983\n"
     ]
    }
   ],
   "source": [
    "start_time = timeit.default_timer()\n",
    "V, g = V_iteration(V0,tol=10e-6)\n",
    "print(\"The time difference is :\", timeit.default_timer() - start_time)"
   ]
  },
  {
   "cell_type": "markdown",
   "id": "e11d4b6b",
   "metadata": {},
   "source": [
    "## 1(c) both concave value function and increasing policy function"
   ]
  },
  {
   "cell_type": "markdown",
   "id": "e5039498",
   "metadata": {},
   "source": [
    "下面我将1(a)(b)中的操作合并，得到如下代码。可以发现运算时间实现了极为显著的降低："
   ]
  },
  {
   "cell_type": "code",
   "execution_count": 131,
   "id": "842a5824",
   "metadata": {},
   "outputs": [],
   "source": [
    "# step 1\n",
    "V0 = np.zeros(n)\n",
    "# step 2\n",
    "def V_update(V):\n",
    "    global gamma\n",
    "    global delta\n",
    "    V_new = np.zeros(n)  # initialize updated value function and policy function\n",
    "    g_new = np.zeros(n)\n",
    "    k_start = 0\n",
    "    for i in range(n):  # loop over grid points\n",
    "        k = kgrid[i]\n",
    "        k_bound = k**alpha+(1-delta)*k  # keep non-zero consumption\n",
    "        V_max = -np.inf  # initialize maximum value\n",
    "        g_k = kss  # initialize g_k\n",
    "        for j in range(k_start,n):  # loop over possible k_next\n",
    "            k_next = kgrid[j]\n",
    "            V_next = V[j]\n",
    "            if k_next < k_bound:  # check feasibility\n",
    "                c = k**alpha - k_next + (1-delta)*k\n",
    "                V_current = (c**(1-gamma))/(1-gamma)+beta*V_next\n",
    "                if V_current > V_max:\n",
    "                    V_max = V_current\n",
    "                    g_k = k_next\n",
    "                    k_start=j\n",
    "                else:\n",
    "                    break\n",
    "        V_new[i] = V_max  # save\n",
    "        g_new[i] = g_k\n",
    "    return V_new, g_new"
   ]
  },
  {
   "cell_type": "code",
   "execution_count": 132,
   "id": "f3ec9b2d",
   "metadata": {},
   "outputs": [],
   "source": [
    "# step 3\n",
    "def V_iteration(V_initial,tol):\n",
    "    V = V_initial\n",
    "    error = np.inf\n",
    "    count = 0\n",
    "    max_iter = 1000\n",
    "    print_skip = 50\n",
    "    while count < max_iter and error > tol:\n",
    "        V_new, g_new = V_update(V)\n",
    "        error = np.max(np.abs(V_new - V))\n",
    "        V = V_new\n",
    "        count = count + 1\n",
    "        if count % print_skip == 0:\n",
    "            print(f\"Error at iteration {count} is {error}.\")\n",
    "    if error > tol:\n",
    "        print(\"Failed to converge!\")\n",
    "    else:\n",
    "        print(f\"\\nConverged in {count} iterations.\")\n",
    "    return V_new, g_new"
   ]
  },
  {
   "cell_type": "code",
   "execution_count": 133,
   "id": "57327e8b",
   "metadata": {},
   "outputs": [
    {
     "name": "stdout",
     "output_type": "stream",
     "text": [
      "Error at iteration 50 is 0.15562739536149195.\n",
      "Error at iteration 100 is 0.011973136388760963.\n",
      "Error at iteration 150 is 0.0009212726834419982.\n",
      "Error at iteration 200 is 7.088730387039277e-05.\n",
      "\n",
      "Converged in 239 iterations.\n",
      "The time difference is : 1.2397132000005513\n"
     ]
    }
   ],
   "source": [
    "start_time = timeit.default_timer()\n",
    "V, g = V_iteration(V0,tol=10e-6)\n",
    "print(\"The time difference is :\", timeit.default_timer() - start_time)"
   ]
  },
  {
   "cell_type": "markdown",
   "id": "a99c2860",
   "metadata": {},
   "source": [
    "## 2 Multigrid"
   ]
  },
  {
   "cell_type": "markdown",
   "id": "eb75736a",
   "metadata": {},
   "source": [
    "按照Multigrid的思路，我现在取100点的网格下得到了一个“稀疏收敛”的价值函数："
   ]
  },
  {
   "cell_type": "code",
   "execution_count": 191,
   "id": "3cd736fb",
   "metadata": {},
   "outputs": [
    {
     "name": "stdout",
     "output_type": "stream",
     "text": [
      "Error at iteration 50 is 0.15564094679169926.\n",
      "Error at iteration 100 is 0.011973225541353827.\n",
      "Error at iteration 150 is 0.0009212795432702592.\n",
      "Error at iteration 200 is 7.088783168285318e-05.\n",
      "\n",
      "Converged in 239 iterations.\n",
      "The time difference is : 2.9914582000001246\n"
     ]
    }
   ],
   "source": [
    "# first search\n",
    "beta = 0.95\n",
    "alpha = 1 / 3\n",
    "gamma = 1.5\n",
    "delta = 0.1\n",
    "kss = ((1 - beta * (1-delta)) / (alpha * beta)) ** (1 / (alpha - 1))\n",
    "kmin = 0.5 * kss\n",
    "kmax = 1.5 * kss\n",
    "n=100\n",
    "kgrid = np.linspace(kmin, kmax, n)\n",
    "# step 1\n",
    "V0 = np.zeros(n)\n",
    "# step 2\n",
    "def V_update(V):\n",
    "    global gamma\n",
    "    global delta\n",
    "    V_new = np.zeros(n)  # initialize updated value function and policy function\n",
    "    g_new = np.zeros(n)\n",
    "    for i in range(n):  # loop over grid points\n",
    "        k = kgrid[i]\n",
    "        k_bound = k**alpha+(1-delta)*k  # keep non-zero consumption\n",
    "        V_max = -np.inf  # initialize maximum value\n",
    "        for j in range(n):  # loop over possible k_next\n",
    "            k_next = kgrid[j]\n",
    "            V_next = V[j]\n",
    "            if k_next < k_bound:  # check feasibility\n",
    "                c = k**alpha - k_next + (1-delta)*k\n",
    "                V_current = (c**(1-gamma))/(1-gamma)+beta*V_next\n",
    "                if V_current > V_max:\n",
    "                    V_max = V_current\n",
    "                    g_k = k_next\n",
    "        V_new[i] = V_max  # save\n",
    "        g_new[i] = g_k\n",
    "    return V_new, g_new\n",
    "# step 3\n",
    "def V_iteration(V_initial,tol):\n",
    "    V = V_initial\n",
    "    error = np.inf\n",
    "    count = 0\n",
    "    max_iter = 1000\n",
    "    print_skip = 50\n",
    "    while count < max_iter and error > tol:\n",
    "        V_new, g_new = V_update(V)\n",
    "        error = np.max(np.abs(V_new - V))\n",
    "        V = V_new\n",
    "        count = count + 1\n",
    "        if count % print_skip == 0:\n",
    "            print(f\"Error at iteration {count} is {error}.\")\n",
    "    if error > tol:\n",
    "        print(\"Failed to converge!\")\n",
    "    else:\n",
    "        print(f\"\\nConverged in {count} iterations.\")\n",
    "    return V_new, g_new\n",
    "start_time = timeit.default_timer()\n",
    "V, g = V_iteration(V0,tol=10e-6)\n",
    "print(\"The time difference is :\", timeit.default_timer() - start_time)"
   ]
  },
  {
   "cell_type": "markdown",
   "id": "a887df63",
   "metadata": {},
   "source": [
    "然后，我加密网格到1000个取点，并将上面得到的价值函数通过线性插值的方式加密到1000个取点，实现和密网格的对应。然后我以插值后的价值函数作为迭代的初始条件，显著减少了迭代的次数，从而减少了运算时间"
   ]
  },
  {
   "cell_type": "code",
   "execution_count": 192,
   "id": "e3268771",
   "metadata": {},
   "outputs": [
    {
     "name": "stdout",
     "output_type": "stream",
     "text": [
      "\n",
      "Converged in 31 iterations.\n",
      "The time difference is : 43.685797699999966\n"
     ]
    }
   ],
   "source": [
    "# second search\n",
    "beta = 0.95\n",
    "alpha = 1 / 3\n",
    "gamma = 1.5\n",
    "delta = 0.1\n",
    "kss = ((1 - beta * (1-delta)) / (alpha * beta)) ** (1 / (alpha - 1))\n",
    "kmax = 1.5 * kss\n",
    "kmin = 0.5 * kss\n",
    "n=1000\n",
    "kgrid = np.linspace(kmin, kmax, n)\n",
    "# transform V0\n",
    "from scipy.optimize import minimize_scalar\n",
    "V0=np.interp(kgrid,np.linspace(kmin, kmax, 100),V)\n",
    "# step 2\n",
    "def V_update(V):\n",
    "    global gamma\n",
    "    global delta\n",
    "    V_new = np.zeros(n)  # initialize updated value function and policy function\n",
    "    g_new = np.zeros(n)\n",
    "    for i in range(n):  # loop over grid points\n",
    "        k = kgrid[i]\n",
    "        k_bound = k**alpha+(1-delta)*k  # keep non-zero consumption\n",
    "        V_max = -np.inf  # initialize maximum value\n",
    "        for j in range(n):  # loop over possible k_next\n",
    "            k_next = kgrid[j]\n",
    "            V_next = V[j]\n",
    "            if k_next < k_bound:  # check feasibility\n",
    "                c = k**alpha - k_next + (1-delta)*k\n",
    "                V_current = (c**(1-gamma))/(1-gamma)+beta*V_next\n",
    "                if V_current > V_max:\n",
    "                    V_max = V_current\n",
    "                    g_k = k_next\n",
    "        V_new[i] = V_max  # save\n",
    "        g_new[i] = g_k\n",
    "    return V_new, g_new\n",
    "# step 3\n",
    "def V_iteration(V_initial,tol):\n",
    "    V = V_initial\n",
    "    error = np.inf\n",
    "    count = 0\n",
    "    max_iter = 1000\n",
    "    print_skip = 50\n",
    "    while count < max_iter and error > tol:\n",
    "        V_new, g_new = V_update(V)\n",
    "        error = np.max(np.abs(V_new - V))\n",
    "        V = V_new\n",
    "        count = count + 1\n",
    "        if count % print_skip == 0:\n",
    "            print(f\"Error at iteration {count} is {error}.\")\n",
    "    if error > tol:\n",
    "        print(\"Failed to converge!\")\n",
    "    else:\n",
    "        print(f\"\\nConverged in {count} iterations.\")\n",
    "    return V_new, g_new\n",
    "start_time = timeit.default_timer()\n",
    "V, g = V_iteration(V0,tol=10e-6)\n",
    "print(\"The time difference is :\", timeit.default_timer() - start_time)"
   ]
  },
  {
   "cell_type": "markdown",
   "id": "6239dbaa",
   "metadata": {},
   "source": [
    "## 3 numba acceleration"
   ]
  },
  {
   "cell_type": "markdown",
   "id": "4ce97068",
   "metadata": {},
   "source": [
    "我现在用numba包中的njit修饰代码中的$V_{update}(\\cdot)$函数，从编译角度可以实现运行速度的提升"
   ]
  },
  {
   "cell_type": "markdown",
   "id": "bd4d4a74",
   "metadata": {},
   "source": [
    "### initial code"
   ]
  },
  {
   "cell_type": "code",
   "execution_count": 9,
   "id": "f09da94b",
   "metadata": {},
   "outputs": [],
   "source": [
    "from numba import njit"
   ]
  },
  {
   "cell_type": "code",
   "execution_count": 12,
   "id": "b6acbc24",
   "metadata": {},
   "outputs": [
    {
     "name": "stdout",
     "output_type": "stream",
     "text": [
      "Error at iteration 50 is 0.15562739536149195.\n",
      "Error at iteration 100 is 0.011973136388760963.\n",
      "Error at iteration 150 is 0.0009212726834419982.\n",
      "Error at iteration 200 is 7.088730387039277e-05.\n",
      "\n",
      "Converged in 239 iterations.\n",
      "The time difference is : 6.652758100000028\n"
     ]
    }
   ],
   "source": [
    "# import\n",
    "import timeit\n",
    "import numpy as np\n",
    "import matplotlib.pyplot as plt\n",
    "beta = 0.95\n",
    "alpha = 1 / 3\n",
    "gamma = 1.5\n",
    "delta = 0.1\n",
    "kss = ((1 - beta * (1-delta)) / (alpha * beta)) ** (1 / (alpha - 1))\n",
    "kmin = 0.5 * kss\n",
    "kmax = 1.5 * kss\n",
    "n=1000\n",
    "kgrid = np.linspace(kmin, kmax, n)\n",
    "#step 1\n",
    "V0 = np.zeros(n)\n",
    "# step 2\n",
    "@njit\n",
    "def V_update(V):\n",
    "    global gamma\n",
    "    global delta\n",
    "    V_new = np.zeros(n)  # initialize updated value function and policy function\n",
    "    g_new = np.zeros(n)\n",
    "    for i in range(n):  # loop over grid points\n",
    "        k = kgrid[i]\n",
    "        k_bound = k**alpha+(1-delta)*k  # keep non-zero consumption\n",
    "        V_max = -np.inf  # initialize maximum value\n",
    "        for j in range(n):  # loop over possible k_next\n",
    "            k_next = kgrid[j]\n",
    "            V_next = V[j]\n",
    "            if k_next < k_bound:  # check feasibility\n",
    "                c = k**alpha - k_next + (1-delta)*k\n",
    "                V_current = (c**(1-gamma))/(1-gamma)+beta*V_next\n",
    "                if V_current > V_max:\n",
    "                    V_max = V_current\n",
    "                    g_k = k_next\n",
    "        V_new[i] = V_max  # save\n",
    "        g_new[i] = g_k\n",
    "    return V_new, g_new\n",
    "# step 3\n",
    "def V_iteration(V_initial,tol):\n",
    "    V = V_initial\n",
    "    error = np.inf\n",
    "    count = 0\n",
    "    max_iter = 1000\n",
    "    print_skip = 50\n",
    "    while count < max_iter and error > tol:\n",
    "        V_new, g_new = V_update(V)\n",
    "        error = np.max(np.abs(V_new - V))\n",
    "        V = V_new\n",
    "        count = count + 1\n",
    "        if count % print_skip == 0:\n",
    "            print(f\"Error at iteration {count} is {error}.\")\n",
    "    if error > tol:\n",
    "        print(\"Failed to converge!\")\n",
    "    else:\n",
    "        print(f\"\\nConverged in {count} iterations.\")\n",
    "    return V_new, g_new\n",
    "start_time = timeit.default_timer()\n",
    "V, g = V_iteration(V0,tol=10e-6)\n",
    "print(\"The time difference is :\", timeit.default_timer() - start_time)"
   ]
  },
  {
   "cell_type": "markdown",
   "id": "22799e18",
   "metadata": {},
   "source": [
    "### 1(a)"
   ]
  },
  {
   "cell_type": "code",
   "execution_count": 16,
   "id": "04978a6c",
   "metadata": {},
   "outputs": [
    {
     "name": "stdout",
     "output_type": "stream",
     "text": [
      "Error at iteration 50 is 0.15562739536149195.\n",
      "Error at iteration 100 is 0.011973136388760963.\n",
      "Error at iteration 150 is 0.0009212726834419982.\n",
      "Error at iteration 200 is 7.088730387039277e-05.\n",
      "\n",
      "Converged in 239 iterations.\n",
      "The time difference is : 4.2079571999997825\n"
     ]
    }
   ],
   "source": [
    "# import\n",
    "import timeit\n",
    "import numpy as np\n",
    "import matplotlib.pyplot as plt\n",
    "beta = 0.95\n",
    "alpha = 1 / 3\n",
    "gamma = 1.5\n",
    "delta = 0.1\n",
    "kss = ((1 - beta * (1-delta)) / (alpha * beta)) ** (1 / (alpha - 1))\n",
    "kmin = 0.5 * kss\n",
    "kmax = 1.5 * kss\n",
    "n=1000\n",
    "kgrid = np.linspace(kmin, kmax, n)\n",
    "#step 1\n",
    "V0 = np.zeros(n)\n",
    "# step 2\n",
    "@njit\n",
    "def V_update(V):\n",
    "    global gamma\n",
    "    global delta\n",
    "    V_new = np.zeros(n)  # initialize updated value function and policy function\n",
    "    g_new = np.zeros(n)\n",
    "    for i in range(n):  # loop over grid points\n",
    "        k = kgrid[i]\n",
    "        k_bound = k**alpha+(1-delta)*k  # keep non-zero consumption\n",
    "        V_max = -np.inf  # initialize maximum value\n",
    "        for j in range(n):  # loop over possible k_next\n",
    "            k_next = kgrid[j]\n",
    "            V_next = V[j]\n",
    "            if k_next < k_bound:  # check feasibility\n",
    "                c = k**alpha - k_next + (1-delta)*k\n",
    "                V_current = (c**(1-gamma))/(1-gamma)+beta*V_next\n",
    "                if V_current > V_max:\n",
    "                    V_max = V_current\n",
    "                    g_k = k_next\n",
    "                else:break\n",
    "        V_new[i] = V_max  # save\n",
    "        g_new[i] = g_k\n",
    "    return V_new, g_new\n",
    "# step 3\n",
    "def V_iteration(V_initial,tol):\n",
    "    V = V_initial\n",
    "    error = np.inf\n",
    "    count = 0\n",
    "    max_iter = 1000\n",
    "    print_skip = 50\n",
    "    while count < max_iter and error > tol:\n",
    "        V_new, g_new = V_update(V)\n",
    "        error = np.max(np.abs(V_new - V))\n",
    "        V = V_new\n",
    "        count = count + 1\n",
    "        if count % print_skip == 0:\n",
    "            print(f\"Error at iteration {count} is {error}.\")\n",
    "    if error > tol:\n",
    "        print(\"Failed to converge!\")\n",
    "    else:\n",
    "        print(f\"\\nConverged in {count} iterations.\")\n",
    "    return V_new, g_new\n",
    "start_time = timeit.default_timer()\n",
    "V, g = V_iteration(V0,tol=10e-6)\n",
    "print(\"The time difference is :\", timeit.default_timer() - start_time)"
   ]
  },
  {
   "cell_type": "markdown",
   "id": "63ba542d",
   "metadata": {},
   "source": [
    "### 1(b)"
   ]
  },
  {
   "cell_type": "code",
   "execution_count": 15,
   "id": "c78b2fb3",
   "metadata": {},
   "outputs": [
    {
     "name": "stdout",
     "output_type": "stream",
     "text": [
      "Error at iteration 50 is 0.15562739536149195.\n",
      "Error at iteration 100 is 0.011973136388760963.\n",
      "Error at iteration 150 is 0.0009212726834419982.\n",
      "Error at iteration 200 is 7.088730387039277e-05.\n",
      "\n",
      "Converged in 239 iterations.\n",
      "The time difference is : 2.6339558000001944\n"
     ]
    }
   ],
   "source": [
    "# import\n",
    "import timeit\n",
    "import numpy as np\n",
    "import matplotlib.pyplot as plt\n",
    "beta = 0.95\n",
    "alpha = 1 / 3\n",
    "gamma = 1.5\n",
    "delta = 0.1\n",
    "kss = ((1 - beta * (1-delta)) / (alpha * beta)) ** (1 / (alpha - 1))\n",
    "kmin = 0.5 * kss\n",
    "kmax = 1.5 * kss\n",
    "n=1000\n",
    "kgrid = np.linspace(kmin, kmax, n)\n",
    "# step 1\n",
    "V0 = np.zeros(n)\n",
    "# step 2\n",
    "@njit\n",
    "def V_update(V):\n",
    "    global gamma\n",
    "    global delta\n",
    "    V_new = np.zeros(n)  # initialize updated value function and policy function\n",
    "    g_new = np.zeros(n)\n",
    "    k_start = 0\n",
    "    for i in range(n):  # loop over grid points\n",
    "        k = kgrid[i]\n",
    "        k_bound = k**alpha+(1-delta)*k  # keep non-zero consumption\n",
    "        V_max = -np.inf  # initialize maximum value\n",
    "        for j in range(k_start,n):  # loop over possible k_next\n",
    "            k_next = kgrid[j]\n",
    "            V_next = V[j]\n",
    "            if k_next < k_bound:  # check feasibility\n",
    "                c = k**alpha - k_next + (1-delta)*k\n",
    "                V_current = (c**(1-gamma))/(1-gamma)+beta*V_next\n",
    "                if V_current > V_max:\n",
    "                    V_max = V_current\n",
    "                    g_k = k_next\n",
    "                    k_start = j\n",
    "        V_new[i] = V_max  # save\n",
    "        g_new[i] = g_k\n",
    "    return V_new, g_new\n",
    "# step 3\n",
    "def V_iteration(V_initial,tol):\n",
    "    V = V_initial\n",
    "    error = np.inf\n",
    "    count = 0\n",
    "    max_iter = 1000\n",
    "    print_skip = 50\n",
    "    while count < max_iter and error > tol:\n",
    "        V_new, g_new = V_update(V)\n",
    "        error = np.max(np.abs(V_new - V))\n",
    "        V = V_new\n",
    "        count = count + 1\n",
    "        if count % print_skip == 0:\n",
    "            print(f\"Error at iteration {count} is {error}.\")\n",
    "    if error > tol:\n",
    "        print(\"Failed to converge!\")\n",
    "    else:\n",
    "        print(f\"\\nConverged in {count} iterations.\")\n",
    "    return V_new, g_new\n",
    "start_time = timeit.default_timer()\n",
    "V, g = V_iteration(V0,tol=10e-6)\n",
    "print(\"The time difference is :\", timeit.default_timer() - start_time)"
   ]
  },
  {
   "cell_type": "markdown",
   "id": "aeafc9b5",
   "metadata": {},
   "source": [
    "### 1(c)"
   ]
  },
  {
   "cell_type": "code",
   "execution_count": 17,
   "id": "63f808d0",
   "metadata": {},
   "outputs": [
    {
     "name": "stdout",
     "output_type": "stream",
     "text": [
      "Error at iteration 50 is 0.15562739536149195.\n",
      "Error at iteration 100 is 0.011973136388760963.\n",
      "Error at iteration 150 is 0.0009212726834419982.\n",
      "Error at iteration 200 is 7.088730387039277e-05.\n",
      "\n",
      "Converged in 239 iterations.\n",
      "The time difference is : 0.37810940000008486\n"
     ]
    }
   ],
   "source": [
    "# import\n",
    "import timeit\n",
    "import numpy as np\n",
    "import matplotlib.pyplot as plt\n",
    "beta = 0.95\n",
    "alpha = 1 / 3\n",
    "gamma = 1.5\n",
    "delta = 0.1\n",
    "kss = ((1 - beta * (1-delta)) / (alpha * beta)) ** (1 / (alpha - 1))\n",
    "kmin = 0.5 * kss\n",
    "kmax = 1.5 * kss\n",
    "n=1000\n",
    "kgrid = np.linspace(kmin, kmax, n)\n",
    "# step 1\n",
    "V0 = np.zeros(n)\n",
    "# step 2\n",
    "@njit\n",
    "def V_update(V):\n",
    "    global gamma\n",
    "    global delta\n",
    "    V_new = np.zeros(n)  # initialize updated value function and policy function\n",
    "    g_new = np.zeros(n)\n",
    "    k_start = 0\n",
    "    for i in range(n):  # loop over grid points\n",
    "        k = kgrid[i]\n",
    "        k_bound = k**alpha+(1-delta)*k  # keep non-zero consumption\n",
    "        V_max = -np.inf  # initialize maximum value\n",
    "        g_k = kss  # initialize g_k\n",
    "        for j in range(k_start,n):  # loop over possible k_next\n",
    "            k_next = kgrid[j]\n",
    "            V_next = V[j]\n",
    "            if k_next < k_bound:  # check feasibility\n",
    "                c = k**alpha - k_next + (1-delta)*k\n",
    "                V_current = (c**(1-gamma))/(1-gamma)+beta*V_next\n",
    "                if V_current > V_max:\n",
    "                    V_max = V_current\n",
    "                    g_k = k_next\n",
    "                    k_start=j\n",
    "                else:\n",
    "                    break\n",
    "        V_new[i] = V_max  # save\n",
    "        g_new[i] = g_k\n",
    "    return V_new, g_new\n",
    "# step 3\n",
    "def V_iteration(V_initial,tol):\n",
    "    V = V_initial\n",
    "    error = np.inf\n",
    "    count = 0\n",
    "    max_iter = 1000\n",
    "    print_skip = 50\n",
    "    while count < max_iter and error > tol:\n",
    "        V_new, g_new = V_update(V)\n",
    "        error = np.max(np.abs(V_new - V))\n",
    "        V = V_new\n",
    "        count = count + 1\n",
    "        if count % print_skip == 0:\n",
    "            print(f\"Error at iteration {count} is {error}.\")\n",
    "    if error > tol:\n",
    "        print(\"Failed to converge!\")\n",
    "    else:\n",
    "        print(f\"\\nConverged in {count} iterations.\")\n",
    "    return V_new, g_new\n",
    "start_time = timeit.default_timer()\n",
    "V, g = V_iteration(V0,tol=10e-6)\n",
    "print(\"The time difference is :\", timeit.default_timer() - start_time)"
   ]
  },
  {
   "cell_type": "markdown",
   "id": "affcd38d",
   "metadata": {},
   "source": [
    "### 2"
   ]
  },
  {
   "cell_type": "code",
   "execution_count": 18,
   "id": "4d5d133b",
   "metadata": {},
   "outputs": [
    {
     "name": "stdout",
     "output_type": "stream",
     "text": [
      "Error at iteration 50 is 0.15564094679169926.\n",
      "Error at iteration 100 is 0.011973225541353827.\n",
      "Error at iteration 150 is 0.0009212795432702592.\n",
      "Error at iteration 200 is 7.088783168285318e-05.\n",
      "\n",
      "Converged in 239 iterations.\n",
      "The time difference is : 0.2425708000000668\n"
     ]
    }
   ],
   "source": [
    "# first search\n",
    "import timeit\n",
    "import numpy as np\n",
    "import matplotlib.pyplot as plt\n",
    "beta = 0.95\n",
    "alpha = 1 / 3\n",
    "gamma = 1.5\n",
    "delta = 0.1\n",
    "kss = ((1 - beta * (1-delta)) / (alpha * beta)) ** (1 / (alpha - 1))\n",
    "kmin = 0.5 * kss\n",
    "kmax = 1.5 * kss\n",
    "n=100\n",
    "kgrid = np.linspace(kmin, kmax, n)\n",
    "# step 1\n",
    "V0 = np.zeros(n)\n",
    "# step 2\n",
    "@njit\n",
    "def V_update(V):\n",
    "    global gamma\n",
    "    global delta\n",
    "    V_new = np.zeros(n)  # initialize updated value function and policy function\n",
    "    g_new = np.zeros(n)\n",
    "    for i in range(n):  # loop over grid points\n",
    "        k = kgrid[i]\n",
    "        k_bound = k**alpha+(1-delta)*k  # keep non-zero consumption\n",
    "        V_max = -np.inf  # initialize maximum value\n",
    "        for j in range(n):  # loop over possible k_next\n",
    "            k_next = kgrid[j]\n",
    "            V_next = V[j]\n",
    "            if k_next < k_bound:  # check feasibility\n",
    "                c = k**alpha - k_next + (1-delta)*k\n",
    "                V_current = (c**(1-gamma))/(1-gamma)+beta*V_next\n",
    "                if V_current > V_max:\n",
    "                    V_max = V_current\n",
    "                    g_k = k_next\n",
    "        V_new[i] = V_max  # save\n",
    "        g_new[i] = g_k\n",
    "    return V_new, g_new\n",
    "# step 3\n",
    "def V_iteration(V_initial,tol):\n",
    "    V = V_initial\n",
    "    error = np.inf\n",
    "    count = 0\n",
    "    max_iter = 1000\n",
    "    print_skip = 50\n",
    "    while count < max_iter and error > tol:\n",
    "        V_new, g_new = V_update(V)\n",
    "        error = np.max(np.abs(V_new - V))\n",
    "        V = V_new\n",
    "        count = count + 1\n",
    "        if count % print_skip == 0:\n",
    "            print(f\"Error at iteration {count} is {error}.\")\n",
    "    if error > tol:\n",
    "        print(\"Failed to converge!\")\n",
    "    else:\n",
    "        print(f\"\\nConverged in {count} iterations.\")\n",
    "    return V_new, g_new\n",
    "start_time = timeit.default_timer()\n",
    "V, g = V_iteration(V0,tol=10e-6)\n",
    "print(\"The time difference is :\", timeit.default_timer() - start_time)"
   ]
  },
  {
   "cell_type": "code",
   "execution_count": 19,
   "id": "94ff0739",
   "metadata": {},
   "outputs": [
    {
     "name": "stdout",
     "output_type": "stream",
     "text": [
      "\n",
      "Converged in 31 iterations.\n",
      "The time difference is : 1.11374509999996\n"
     ]
    }
   ],
   "source": [
    "# second search\n",
    "import timeit\n",
    "import numpy as np\n",
    "import matplotlib.pyplot as plt\n",
    "beta = 0.95\n",
    "alpha = 1 / 3\n",
    "gamma = 1.5\n",
    "delta = 0.1\n",
    "kss = ((1 - beta * (1-delta)) / (alpha * beta)) ** (1 / (alpha - 1))\n",
    "kmax = 1.5 * kss\n",
    "kmin = 0.5 * kss\n",
    "n=1000\n",
    "kgrid = np.linspace(kmin, kmax, n)\n",
    "# transform V0\n",
    "from scipy.optimize import minimize_scalar\n",
    "V0=np.interp(kgrid,np.linspace(kmin, kmax, 100),V)\n",
    "# step 2\n",
    "@njit\n",
    "def V_update(V):\n",
    "    global gamma\n",
    "    global delta\n",
    "    V_new = np.zeros(n)  # initialize updated value function and policy function\n",
    "    g_new = np.zeros(n)\n",
    "    for i in range(n):  # loop over grid points\n",
    "        k = kgrid[i]\n",
    "        k_bound = k**alpha+(1-delta)*k  # keep non-zero consumption\n",
    "        V_max = -np.inf  # initialize maximum value\n",
    "        for j in range(n):  # loop over possible k_next\n",
    "            k_next = kgrid[j]\n",
    "            V_next = V[j]\n",
    "            if k_next < k_bound:  # check feasibility\n",
    "                c = k**alpha - k_next + (1-delta)*k\n",
    "                V_current = (c**(1-gamma))/(1-gamma)+beta*V_next\n",
    "                if V_current > V_max:\n",
    "                    V_max = V_current\n",
    "                    g_k = k_next\n",
    "        V_new[i] = V_max  # save\n",
    "        g_new[i] = g_k\n",
    "    return V_new, g_new\n",
    "# step 3\n",
    "def V_iteration(V_initial,tol):\n",
    "    V = V_initial\n",
    "    error = np.inf\n",
    "    count = 0\n",
    "    max_iter = 1000\n",
    "    print_skip = 50\n",
    "    while count < max_iter and error > tol:\n",
    "        V_new, g_new = V_update(V)\n",
    "        error = np.max(np.abs(V_new - V))\n",
    "        V = V_new\n",
    "        count = count + 1\n",
    "        if count % print_skip == 0:\n",
    "            print(f\"Error at iteration {count} is {error}.\")\n",
    "    if error > tol:\n",
    "        print(\"Failed to converge!\")\n",
    "    else:\n",
    "        print(f\"\\nConverged in {count} iterations.\")\n",
    "    return V_new, g_new\n",
    "start_time = timeit.default_timer()\n",
    "V, g = V_iteration(V0,tol=10e-6)\n",
    "print(\"The time difference is :\", timeit.default_timer() - start_time)"
   ]
  },
  {
   "cell_type": "markdown",
   "id": "1d8c9eb5",
   "metadata": {},
   "source": [
    "## 总结"
   ]
  },
  {
   "cell_type": "markdown",
   "id": "cf14283e",
   "metadata": {},
   "source": [
    "下面我将所有运行结果汇总为一张表格："
   ]
  },
  {
   "cell_type": "markdown",
   "id": "afd2ecfe",
   "metadata": {},
   "source": [
    "| 优化手段 | 迭代次数 | 运行速度 |\n",
    "| ---- | ---- | ---- |\n",
    "| **without compiling** |  |  |\n",
    "| benchmark code | 239 | 286.199236 |\n",
    "| concave value function only | 239 | 179.71150850000004 |\n",
    "| increasing policy function only | 239 | 124.27733249999983 |\n",
    "| both | 239 | 1.2397132000005513 |\n",
    "| multigrid | 239+31 | 2.9914582000001246+43.685797699999966 |\n",
    "| **with compiling** |  |  |\n",
    "| benchmark code | 239 | 6.652758100000028 |\n",
    "| concave value function only | 239 | 4.2079571999997825 |\n",
    "| increasing policy function only | 239 | 2.6339558000001944 |\n",
    "| both | 239 | 0.37810940000008486 |\n",
    "| multigrid | 239+31 | 0.2425708000000668+1.11374509999996 |\n"
   ]
  },
  {
   "cell_type": "markdown",
   "id": "369dc4f0",
   "metadata": {},
   "source": [
    "这个表格展示了不同优化手段在两种情况下的运行速度。它包括了“without compiling”和“with compiling”两种场景下的数据。每种场景下又分为四种不同的优化手段，分别是：“benchmark code”、“concave value function only”、“increasing policy function only”以及“both”。对于每种优化手段，都给出了其在两种场景下的迭代次数和运行速度。可以看出编译对于运行速度的提升是非常显著且十分容易实现的；但是我们也不能忽视从理论角度优化算法对应的威力：仅仅通过理论减少不必要的运算也可以实现一秒级的运算速度！"
   ]
  }
 ],
 "metadata": {
  "kernelspec": {
   "display_name": "Python 3 (ipykernel)",
   "language": "python",
   "name": "python3"
  },
  "language_info": {
   "codemirror_mode": {
    "name": "ipython",
    "version": 3
   },
   "file_extension": ".py",
   "mimetype": "text/x-python",
   "name": "python",
   "nbconvert_exporter": "python",
   "pygments_lexer": "ipython3",
   "version": "3.9.12"
  }
 },
 "nbformat": 4,
 "nbformat_minor": 5
}
