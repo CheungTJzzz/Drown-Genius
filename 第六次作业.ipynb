{
 "cells": [
  {
   "cell_type": "markdown",
   "id": "3a9a5f32",
   "metadata": {},
   "source": [
    "# HW6 2021300003004 张天骏"
   ]
  },
  {
   "cell_type": "markdown",
   "id": "43855d34",
   "metadata": {},
   "source": [
    "## 理论计算过程"
   ]
  },
  {
   "cell_type": "markdown",
   "id": "140fcd9b",
   "metadata": {},
   "source": [
    "递归形式：\n",
    "$$\\begin{align}\n",
    "&v(k_{t},z_{t})=  \\underset{ c_{t},k_{t+1} }{ \\max } \\left\\{  \\ln c_{t}+\\beta \\mathbb{E}\\underset{ z_{t+1|z_{t}} }{ \\sum } v(k_{t+1},z_{t+1})\\pi(z_{t+1}|z_{t}) \\right\\} \\\\\n",
    " & s.t. \\quad c_{t}+k_{t+1}=z_{t}k_{t}^\\alpha+(1-\\delta)k_{t}\n",
    "\\end{align}\n",
    "$$\n",
    "\n",
    "---\n",
    "\n",
    "FOC: $\\frac{1}{c_{t}}=\\beta \\mathbb{E}[v_{k}(k_{t+1},z_{t+1})|z_{t}]$\n",
    "\n",
    "Envelope:$v_{k}(k_{t},z_{t})=\\frac{1}{c_{t}}(z_{t}\\alpha k_{t}^{\\alpha-1}+(1-\\delta))$\n",
    "\n",
    "对应的EE：$\\frac{1}{c_{t}}=\\beta \\mathbb{E}\\left[ \\frac{1}{c_{t+1}}(z_{t+1}\\alpha k_{k+1}^{\\alpha-1}+1-\\delta)|z_{t} \\right]$\n",
    "\n",
    "改写一下就是：$\\frac{c_{t+1}}{c_{t}}=\\beta \\mathbb{E}\\left[ z_{t+1}\\alpha k_{k+1}^{\\alpha-1}+1-\\delta|z_{t} \\right]$\n",
    "\n",
    "由此可以求出稳态：即$LHS=1$时：$z^*$代表不变分布\n",
    "$$\n",
    "k^*=\\left( \\frac{1-\\beta(1-\\delta)}{\\alpha \\beta \\mathbb{E}(z^*)} \\right)^{\\frac{1}{\\alpha-1}}\n",
    "$$\n",
    "\n",
    "\n"
   ]
  },
  {
   "cell_type": "markdown",
   "id": "6936aa36",
   "metadata": {},
   "source": [
    "对于题目的马氏过程：\n",
    "$$\\mathbf{P}=\\begin{pmatrix}0.9727&0.0273& & & \\\\0.0041&0.9806&0.0153& & \\\\&0.0082&0.9836&0.0082& \\\\&&0.0153&0.9806&0.0041& \\\\&&&0.0273&0.9727 \\end{pmatrix}$$"
   ]
  },
  {
   "cell_type": "markdown",
   "id": "64620f57",
   "metadata": {},
   "source": [
    "可以根据方程$\\mathbf{z}=\\mathbf{z P}$求出不变分布：\n",
    "$\\mathbf{z^*}=(0.036,0.240,0.448,0.240,0.036)$"
   ]
  },
  {
   "cell_type": "markdown",
   "id": "23164eb1",
   "metadata": {},
   "source": [
    "从而可以求出:$\\mathbb{E}(z^*)=1$ (因为分布是对称的)\n"
   ]
  },
  {
   "cell_type": "markdown",
   "id": "b22503f0",
   "metadata": {},
   "source": [
    "假设$\\delta=0.1,\\alpha=\\frac{1}{3},\\beta=0.95$，现在我们得到了稳态$k^*=3.227$"
   ]
  },
  {
   "cell_type": "markdown",
   "id": "74f292b5",
   "metadata": {},
   "source": [
    "## 数值迭代求解"
   ]
  },
  {
   "cell_type": "markdown",
   "id": "37dcaee7",
   "metadata": {},
   "source": [
    "按照题目要求，选取$k^*$左右30%的区间均匀取点2500个，设置精度为1e-7"
   ]
  },
  {
   "cell_type": "code",
   "execution_count": 1,
   "id": "79da9897",
   "metadata": {},
   "outputs": [],
   "source": [
    "# import\n",
    "\n",
    "import timeit\n",
    "import numpy as np\n",
    "from numba import njit\n",
    "import numba \n",
    "import matplotlib.pyplot as plt"
   ]
  },
  {
   "cell_type": "code",
   "execution_count": 2,
   "id": "13bdd2d3",
   "metadata": {},
   "outputs": [],
   "source": [
    "beta = 0.95\n",
    "alpha = 1 / 3\n",
    "delta=0.1\n",
    "kss = 3.227\n",
    "kmin = 0.7 * kss\n",
    "kmax = 1.3 * kss\n",
    "n_k = 2500\n",
    "kgrid = np.linspace(kmin, kmax, n_k)\n",
    "zgrid = np.array([0.9792, 0.9896, 1.0000, 1.0106, 1.0212])\n",
    "P = np.array([0.036,0.240,0.448,0.240,0.036])\n",
    "n_z = len(zgrid)"
   ]
  },
  {
   "cell_type": "code",
   "execution_count": 3,
   "id": "ef5f614f",
   "metadata": {},
   "outputs": [],
   "source": [
    "V0 = np.zeros((n_k, n_z))"
   ]
  },
  {
   "cell_type": "code",
   "execution_count": 4,
   "id": "694c574d",
   "metadata": {},
   "outputs": [],
   "source": [
    "@njit\n",
    "def V_max(k_index, z_index, V_next):\n",
    "    k = kgrid[k_index]\n",
    "    z = zgrid[z_index]\n",
    "    k_bound = z*k**alpha + (1-delta)*k\n",
    "    V_max = -np.inf\n",
    "    for j in range(n_k):\n",
    "        k_next = kgrid[j]\n",
    "        if k_next < k_bound:\n",
    "            V_new = np.log(k_bound - k_next)+beta*np.sum(V_next[j,:]*P) # expectation\n",
    "            if V_new > V_max:\n",
    "                V_max = V_new\n",
    "                g_k = k_next\n",
    "            else:break\n",
    "    return V_max, g_k\n",
    "\n",
    "# k_index 改为 k_next 对于V_current 函数"
   ]
  },
  {
   "cell_type": "code",
   "execution_count": 5,
   "id": "ba5efedc",
   "metadata": {},
   "outputs": [],
   "source": [
    "@njit\n",
    "def V_update(V):\n",
    "    V_new = np.zeros((n_k, n_z))\n",
    "    g_new = np.zeros((n_k, n_z))\n",
    "    for i_z in range(n_z): # loop over all state z\n",
    "        for i_k in range(n_k): # loop over all state k\n",
    "            V_new[i_k, i_z], g_new[i_k, i_z] = V_max(i_k, i_z, V)\n",
    "    return V_new, g_new"
   ]
  },
  {
   "cell_type": "code",
   "execution_count": 6,
   "id": "cdadc844",
   "metadata": {},
   "outputs": [],
   "source": [
    "def V_iteration(V_initial,tol):\n",
    "    V = V_initial\n",
    "    error = np.inf\n",
    "    count = 0\n",
    "    max_iter = 1000\n",
    "    print_skip = 50\n",
    "    while count < max_iter and error > tol:\n",
    "        V_new, g_new = V_update(V)\n",
    "        error = np.max(np.abs(V_new - V))\n",
    "        V = V_new\n",
    "        count = count + 1\n",
    "        if count % print_skip == 0:\n",
    "            print(f\"Error at iteration {count} is {error}.\")\n",
    "    if error > tol:\n",
    "        print(\"Failed to converge!\")\n",
    "    else:\n",
    "        print(f\"\\nConverged in {count} iterations.\")\n",
    "    return V_new, g_new"
   ]
  },
  {
   "cell_type": "code",
   "execution_count": 7,
   "id": "0fbdb115",
   "metadata": {},
   "outputs": [
    {
     "name": "stdout",
     "output_type": "stream",
     "text": [
      "Error at iteration 50 is 0.00832545353703873.\n",
      "Error at iteration 100 is 0.0006404856066857256.\n",
      "Error at iteration 150 is 4.9282146063589494e-05.\n",
      "Error at iteration 200 is 3.7920135120828036e-06.\n",
      "Error at iteration 250 is 2.917763870513568e-07.\n",
      "\n",
      "Converged in 271 iterations.\n",
      "The time difference is : 505.7616132\n"
     ]
    }
   ],
   "source": [
    "start_time = timeit.default_timer()\n",
    "V, g = V_iteration(V0,tol=1e-7)\n",
    "print(\"The time difference is :\", timeit.default_timer() - start_time)"
   ]
  },
  {
   "cell_type": "code",
   "execution_count": 8,
   "id": "8a7cd0a5",
   "metadata": {},
   "outputs": [
    {
     "data": {
      "text/plain": [
       "<matplotlib.legend.Legend at 0x2ae474ec550>"
      ]
     },
     "execution_count": 8,
     "metadata": {},
     "output_type": "execute_result"
    },
    {
     "data": {
      "image/png": "[encoded data removed]",
      "text/plain": [
       "<Figure size 432x288 with 1 Axes>"
      ]
     },
     "metadata": {
      "needs_background": "light"
     },
     "output_type": "display_data"
    }
   ],
   "source": [
    "for i in range (5):\n",
    "    plt.plot(kgrid,g[:,i],label='z='+ str(zgrid[i]))\n",
    "plt.plot(kgrid,kgrid,label=\"45 degree\")\n",
    "plt.xlabel(\"$k_t$\")\n",
    "plt.ylabel(\"$k_{t+1}$\")\n",
    "plt.title('$g(k_t)$')\n",
    "plt.legend()"
   ]
  },
  {
   "cell_type": "markdown",
   "id": "95946b7b",
   "metadata": {},
   "source": [
    "## 计算资本稳定分布"
   ]
  },
  {
   "cell_type": "markdown",
   "id": "075f7834",
   "metadata": {},
   "source": [
    "## 计算联合分布的转移矩阵"
   ]
  },
  {
   "cell_type": "code",
   "execution_count": 9,
   "id": "95299b25",
   "metadata": {},
   "outputs": [],
   "source": [
    "P=np.array([[0.9727,0.0273,0,0,0],[0.0041,0.9806,0.0153,0,0],[0,0.0082,0.9836,0.0082,0],[0,0,0.0153,0.9806,0.0041],[0,0,0,0.0273,0.9727]])"
   ]
  },
  {
   "cell_type": "code",
   "execution_count": 10,
   "id": "c1b06490",
   "metadata": {},
   "outputs": [],
   "source": [
    "def transQ(g):\n",
    "    n_k, n_z = g.shape\n",
    "    n = n_k * n_z\n",
    "    Q = np.zeros((n, n))\n",
    "    for j in numba.prange(n):\n",
    "        i_k = j // n_z\n",
    "        i_z = j % n_z\n",
    "        diff = np.abs(g[i_k, i_z] - kgrid)\n",
    "        mark = np.argmin(diff)\n",
    "        j_prime_start = mark * n_z\n",
    "        j_prime_end = j_prime_start + n_z\n",
    "        Q[j, j_prime_start:j_prime_end] = P[i_z, :]\n",
    "    return Q"
   ]
  },
  {
   "cell_type": "code",
   "execution_count": 11,
   "id": "603bf68f",
   "metadata": {},
   "outputs": [],
   "source": [
    "Q=transQ(g)"
   ]
  },
  {
   "cell_type": "code",
   "execution_count": 12,
   "id": "5262b2da",
   "metadata": {},
   "outputs": [
    {
     "data": {
      "text/plain": [
       "(12500, 12500)"
      ]
     },
     "execution_count": 12,
     "metadata": {},
     "output_type": "execute_result"
    }
   ],
   "source": [
    "Q.shape"
   ]
  },
  {
   "cell_type": "markdown",
   "id": "ecd932ef",
   "metadata": {},
   "source": [
    "## 计算联合分布的不变分布"
   ]
  },
  {
   "cell_type": "markdown",
   "id": "7d66ff4e",
   "metadata": {},
   "source": [
    "根据概率转移矩阵的性质，它的特征值的最大值为1，所以在数值求解过程中只需要获取矩阵的最大特征值对应的特征向量。为了保证稳健性，我这里计算了前五大特征值的特征向量。这样可以大大减少不必要的计算量"
   ]
  },
  {
   "cell_type": "code",
   "execution_count": 44,
   "id": "a1b820da",
   "metadata": {},
   "outputs": [],
   "source": [
    "from scipy.sparse.linalg import eigs\n",
    "# 计算最大的k个特征值和对应的特征向量\n",
    "s = 5 # 调整为所需的特征值数量\n",
    "eigenvalues, eigenvectors = eigs(Q.T, k=s, which='LM')  # 'LM'表示计算最大模特征值"
   ]
  },
  {
   "cell_type": "code",
   "execution_count": 45,
   "id": "c2c56d18",
   "metadata": {},
   "outputs": [],
   "source": [
    "index = np.argmin(np.abs(np.real(eigenvalues)-1.0))\n",
    "stationary_vector = np.real(eigenvectors[:, index])\n",
    "stationary_distribution = stationary_vector / np.sum(stationary_vector)"
   ]
  },
  {
   "cell_type": "code",
   "execution_count": 46,
   "id": "3997477b",
   "metadata": {},
   "outputs": [],
   "source": [
    "def capital_marginal(joint_dist):\n",
    "    tmp = joint_dist.reshape((n_k, n_z))\n",
    "    k_marginal = tmp.sum(axis=1)\n",
    "    return k_marginal"
   ]
  },
  {
   "cell_type": "code",
   "execution_count": 47,
   "id": "ccc0f892",
   "metadata": {},
   "outputs": [],
   "source": [
    "k_marginal=capital_marginal(stationary_distribution)"
   ]
  },
  {
   "cell_type": "code",
   "execution_count": 48,
   "id": "5d886165",
   "metadata": {},
   "outputs": [
    {
     "data": {
      "text/plain": [
       "-5.658456412266739e-16"
      ]
     },
     "execution_count": 48,
     "metadata": {},
     "output_type": "execute_result"
    }
   ],
   "source": [
    "np.min(k_marginal)"
   ]
  },
  {
   "cell_type": "code",
   "execution_count": 49,
   "id": "b3f0dd2c",
   "metadata": {},
   "outputs": [
    {
     "data": {
      "text/plain": [
       "Text(0.5, 1.0, 'marginal distribution of k')"
      ]
     },
     "execution_count": 49,
     "metadata": {},
     "output_type": "execute_result"
    },
    {
     "data": {
      "image/png": "[encoded data removed]",
      "text/plain": [
       "<Figure size 432x288 with 1 Axes>"
      ]
     },
     "metadata": {
      "needs_background": "light"
     },
     "output_type": "display_data"
    }
   ],
   "source": [
    "plt.plot(abs(k_marginal),kgrid)\n",
    "plt.xlabel(\"density\")\n",
    "plt.ylabel(\"k\")\n",
    "plt.title('marginal distribution of k')\n"
   ]
  }
 ],
 "metadata": {
  "kernelspec": {
   "display_name": "Python 3 (ipykernel)",
   "language": "python",
   "name": "python3"
  },
  "language_info": {
   "codemirror_mode": {
    "name": "ipython",
    "version": 3
   },
   "file_extension": ".py",
   "mimetype": "text/x-python",
   "name": "python",
   "nbconvert_exporter": "python",
   "pygments_lexer": "ipython3",
   "version": "3.9.12"
  }
 },
 "nbformat": 4,
 "nbformat_minor": 5
}
